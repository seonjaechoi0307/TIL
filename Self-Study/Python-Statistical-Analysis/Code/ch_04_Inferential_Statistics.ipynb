{
  "nbformat": 4,
  "nbformat_minor": 0,
  "metadata": {
    "colab": {
      "provenance": []
    },
    "kernelspec": {
      "name": "python3",
      "display_name": "Python 3"
    },
    "language_info": {
      "name": "python"
    }
  },
  "cells": [
    {
      "cell_type": "markdown",
      "source": [
        "# 추측통계의 기본\n",
        "- p.90 ~ p.112"
      ],
      "metadata": {
        "id": "VMIGQLQXEb3x"
      }
    },
    {
      "cell_type": "code",
      "source": [
        "from google.colab import drive\n",
        "drive.mount('/content/drive')"
      ],
      "metadata": {
        "colab": {
          "base_uri": "https://localhost:8080/"
        },
        "id": "PVC6x-d9E1K5",
        "outputId": "86bc3a37-5d70-4155-a74c-4c546089b574"
      },
      "execution_count": 2,
      "outputs": [
        {
          "output_type": "stream",
          "name": "stdout",
          "text": [
            "Mounted at /content/drive\n"
          ]
        }
      ]
    },
    {
      "cell_type": "code",
      "execution_count": 3,
      "metadata": {
        "id": "1rSotvE4EQq2"
      },
      "outputs": [],
      "source": [
        "import numpy as np\n",
        "import pandas as pd\n",
        "import matplotlib.pyplot as plt\n",
        "\n",
        "%precision 3\n",
        "%matplotlib inline"
      ]
    },
    {
      "cell_type": "markdown",
      "source": [
        "## 모집단과 표본"
      ],
      "metadata": {
        "id": "bvHoEHQVHaWH"
      }
    },
    {
      "cell_type": "code",
      "source": [
        "df = pd.read_csv('/content/drive/MyDrive/Python-Statistical-Analysis/python_stat_sample-master/data/ch4_scores400.csv')\n",
        "scores = np.array(df['score'])\n",
        "scores[:10]"
      ],
      "metadata": {
        "colab": {
          "base_uri": "https://localhost:8080/"
        },
        "id": "pWooh0RdEzWd",
        "outputId": "171de8bf-fc87-43e6-88ab-bd9e55847a96"
      },
      "execution_count": 4,
      "outputs": [
        {
          "output_type": "execute_result",
          "data": {
            "text/plain": [
              "array([76, 55, 80, 80, 74, 61, 81, 76, 23, 80])"
            ]
          },
          "metadata": {},
          "execution_count": 4
        }
      ]
    },
    {
      "cell_type": "code",
      "source": [
        "# numpy의 random 모듈을 사용하여\n",
        "# [1, 2, 3] 리스트에서 임의로 3개의 값을 선택하여 반환합니다.\n",
        "# 복원 추출: 중복 선택이 가능합니다.\n",
        "np.random.choice([1, 2, 3], 3)"
      ],
      "metadata": {
        "colab": {
          "base_uri": "https://localhost:8080/"
        },
        "id": "B09fsURwFVRV",
        "outputId": "216fb613-4335-4eef-9a2e-ef25f6117b61"
      },
      "execution_count": 5,
      "outputs": [
        {
          "output_type": "execute_result",
          "data": {
            "text/plain": [
              "array([2, 3, 2])"
            ]
          },
          "metadata": {},
          "execution_count": 5
        }
      ]
    },
    {
      "cell_type": "code",
      "source": [
        "# numpy의 random 모듈을 사용하여\n",
        "# ['1', '2', '3'] 리스트에서 임의로 3개의 값을 선택하여 반환합니다.\n",
        "# 비복원 추출: 중복 선택이 허용되지 않기 때문에 replace=False 옵션을 사용했습니다.\n",
        "np.random.choice(['1', '2', '3'], 3, replace=False)"
      ],
      "metadata": {
        "colab": {
          "base_uri": "https://localhost:8080/"
        },
        "id": "_Rk-vIz2FixG",
        "outputId": "667a312c-3249-474a-e6f5-0a8b548985a2"
      },
      "execution_count": 7,
      "outputs": [
        {
          "output_type": "execute_result",
          "data": {
            "text/plain": [
              "array(['2', '3', '1'], dtype='<U1')"
            ]
          },
          "metadata": {},
          "execution_count": 7
        }
      ]
    },
    {
      "cell_type": "code",
      "source": [
        "# numpy의 random 모듈에 있는 seed 함수를 호출하여\n",
        "# 난수 생성기의 초기 상태를 설정합니다.\n",
        "# 인자 없이 seed()를 호출하면 현재 시간을 기반으로 초기 상태를 설정합니다.\n",
        "np.random.seed()\n",
        "\n",
        "# ['1', '2', '3'] 리스트에서 임의로 3개의 값을 선택하여 반환합니다.\n",
        "# 중복 선택이 가능하기 때문에 이는 복원추출법에 해당합니다.\n",
        "np.random.choice(['1', '2', '3'], 3)"
      ],
      "metadata": {
        "colab": {
          "base_uri": "https://localhost:8080/"
        },
        "id": "mpl7sBf2FrMs",
        "outputId": "a014f821-df94-4dab-a454-9aa9a91d507b"
      },
      "execution_count": 8,
      "outputs": [
        {
          "output_type": "execute_result",
          "data": {
            "text/plain": [
              "array(['1', '1', '3'], dtype='<U1')"
            ]
          },
          "metadata": {},
          "execution_count": 8
        }
      ]
    },
    {
      "cell_type": "code",
      "source": [
        "# numpy의 random 모듈에 있는 seed 함수를 호출하여\n",
        "# 난수 생성기의 초기 상태를 설정합니다.\n",
        "# 여기서는 seed 값을 0으로 설정하였으므로, 동일한 seed 값을 사용할 때마다\n",
        "# 동일한 난수 패턴이 생성됩니다.\n",
        "np.random.seed(0)\n",
        "\n",
        "# 'scores'라는 리스트나 배열에서 임의로 20개의 값을 선택하여 'sample'에 저장합니다.\n",
        "# 중복 선택이 가능합니다.\n",
        "sample = np.random.choice(scores, 20)\n",
        "\n",
        "# 'sample' 내의 값들의 평균값을 계산합니다.\n",
        "sample.mean()"
      ],
      "metadata": {
        "colab": {
          "base_uri": "https://localhost:8080/"
        },
        "id": "gI0KjT80GpaR",
        "outputId": "c958aa33-d344-44bc-9ccf-cde8ba8beea5"
      },
      "execution_count": 12,
      "outputs": [
        {
          "output_type": "execute_result",
          "data": {
            "text/plain": [
              "70.4"
            ]
          },
          "metadata": {},
          "execution_count": 12
        }
      ]
    },
    {
      "cell_type": "code",
      "source": [
        "scores.mean()"
      ],
      "metadata": {
        "colab": {
          "base_uri": "https://localhost:8080/"
        },
        "id": "TDNMu95hG861",
        "outputId": "59dd8cdd-2ac4-4e05-e9b7-6e9ac4bb16b3"
      },
      "execution_count": 10,
      "outputs": [
        {
          "output_type": "execute_result",
          "data": {
            "text/plain": [
              "69.53"
            ]
          },
          "metadata": {},
          "execution_count": 10
        }
      ]
    },
    {
      "cell_type": "code",
      "source": [
        "# 5번 반복하는 for문을 시작합니다.\n",
        "for i in range(5):\n",
        "\n",
        "    # 'scores'라는 리스트나 배열에서 20개의 값을 무작위로 선택하여 'sample'에 저장합니다.\n",
        "    # 중복 선택이 가능합니다.\n",
        "    sample = np.random.choice(scores, 20)\n",
        "\n",
        "    # 각 반복마다 무작위로 추출된 표본의 평균값을 출력합니다.\n",
        "    # 출력 내용은 \"i+1 번째 무작위추출로 얻은 표본평균\"과 그 평균값입니다.\n",
        "    print(f'{i+1}번째 무작위추출로 얻은 표본평균', sample.mean())"
      ],
      "metadata": {
        "colab": {
          "base_uri": "https://localhost:8080/"
        },
        "id": "7HgjqKLlHBym",
        "outputId": "634ba43a-51d9-4afe-eb30-cee1311d9526"
      },
      "execution_count": 11,
      "outputs": [
        {
          "output_type": "stream",
          "name": "stdout",
          "text": [
            "1번째 무작위추출로 얻은 표본평균 72.45\n",
            "2번째 무작위추출로 얻은 표본평균 63.7\n",
            "3번째 무작위추출로 얻은 표본평균 66.05\n",
            "4번째 무작위추출로 얻은 표본평균 71.7\n",
            "5번째 무작위추출로 얻은 표본평균 74.15\n"
          ]
        }
      ]
    },
    {
      "cell_type": "markdown",
      "source": [
        "## 확률 모형"
      ],
      "metadata": {
        "id": "zjZkoMUwHVHW"
      }
    },
    {
      "cell_type": "code",
      "source": [
        "# numpy의 random 모듈의 choice 함수를 사용하여\n",
        "# 'dice'라는 리스트나 배열에서 한 개의 값을 임의로 선택하여 반환합니다.\n",
        "# 여기서 'prob'는 각 값이 선택될 확률을 나타내는 리스트나 배열입니다.\n",
        "# 따라서 'dice' 내의 각 값이 선택될 확률은 'prob'에 명시된 확률에 따라 다릅니다.\n",
        "dice = [1, 2, 3, 4, 5, 6]\n",
        "prob = [1/21, 2/21, 3/21, 4/21, 5/21, 6/21]\n",
        "\n",
        "np.random.choice(dice, p=prob)"
      ],
      "metadata": {
        "colab": {
          "base_uri": "https://localhost:8080/"
        },
        "id": "JoV3qKRrH9Dm",
        "outputId": "f680fdc2-0023-4f25-d27e-510ed61747a5"
      },
      "execution_count": 14,
      "outputs": [
        {
          "output_type": "execute_result",
          "data": {
            "text/plain": [
              "5"
            ]
          },
          "metadata": {},
          "execution_count": 14
        }
      ]
    },
    {
      "cell_type": "code",
      "source": [
        "# 실험을 진행할 횟수인 'num_trial'을 100으로 설정합니다.\n",
        "num_trial = 100\n",
        "\n",
        "# numpy의 random 모듈의 choice 함수를 사용하여\n",
        "# 'dice'라는 리스트나 배열에서 'num_trial' 횟수만큼의 값을 임의로 선택하여 'sample'에 저장합니다.\n",
        "# 여기서 'prob'는 각 값이 선택될 확률을 나타내는 리스트나 배열입니다.\n",
        "# 따라서 'dice' 내의 각 값이 선택될 확률은 'prob'에 명시된 확률에 따라 다릅니다.\n",
        "sample = np.random.choice(dice, num_trial, p=prob)\n",
        "\n",
        "# 선택된 표본 값들을 담고 있는 'sample'을 반환합니다.\n",
        "sample"
      ],
      "metadata": {
        "colab": {
          "base_uri": "https://localhost:8080/"
        },
        "id": "8grn4-FyIAgj",
        "outputId": "31a9c028-306f-4c33-9812-4fecb1e92caf"
      },
      "execution_count": 15,
      "outputs": [
        {
          "output_type": "execute_result",
          "data": {
            "text/plain": [
              "array([5, 6, 2, 2, 1, 6, 6, 6, 6, 6, 4, 6, 2, 5, 3, 6, 5, 4, 3, 6, 4, 5,\n",
              "       1, 5, 5, 5, 6, 5, 4, 4, 5, 2, 5, 5, 3, 2, 4, 4, 5, 4, 6, 2, 3, 3,\n",
              "       5, 3, 4, 3, 3, 2, 5, 2, 3, 4, 6, 2, 6, 2, 6, 4, 6, 5, 6, 1, 3, 2,\n",
              "       4, 2, 4, 4, 2, 5, 5, 3, 5, 2, 5, 6, 4, 5, 2, 6, 4, 3, 5, 1, 6, 1,\n",
              "       5, 3, 6, 6, 3, 5, 5, 5, 3, 6, 4, 6])"
            ]
          },
          "metadata": {},
          "execution_count": 15
        }
      ]
    },
    {
      "cell_type": "code",
      "source": [
        "# numpy의 histogram 함수를 사용하여 'sample' 내의 값들의 빈도를 계산합니다.\n",
        "# 여기서 bin의 개수는 6개로 설정하고, 범위는 1부터 7까지로 설정하여 주사위의 각 면의 빈도를 나타냅니다.\n",
        "# 이 결과로부터 빈도값만 'freq'에 저장되며, bin의 경계값은 무시합니다(_로 표시).\n",
        "freq, _ = np.histogram(sample, bins=6, range=(1, 7))\n",
        "\n",
        "# pandas의 DataFrame을 사용하여 주사위의 각 면의 빈도와 상대 빈도를 계산하여 표로 표시합니다.\n",
        "# 'frequency'는 각 면의 빈도, 'relative frequency'는 전체 'num_trial' 대비 해당 면의 상대적인 빈도를 나타냅니다.\n",
        "# 인덱스는 1부터 6까지의 주사위 면을 나타내며, 'dice'라는 이름으로 명명됩니다.\n",
        "pd.DataFrame({'frequency': freq,\n",
        "              'relative frequency': freq / num_trial},\n",
        "             index = pd.Index(np.arange(1, 7), name='dice'))\n"
      ],
      "metadata": {
        "colab": {
          "base_uri": "https://localhost:8080/",
          "height": 269
        },
        "id": "33fD8MewILtf",
        "outputId": "60a0e6e0-bd12-4ba7-f63e-a10277c4f2a6"
      },
      "execution_count": 18,
      "outputs": [
        {
          "output_type": "execute_result",
          "data": {
            "text/plain": [
              "      frequency  relative frequency\n",
              "dice                               \n",
              "1             5                0.05\n",
              "2            15                0.15\n",
              "3            15                0.15\n",
              "4            17                0.17\n",
              "5            25                0.25\n",
              "6            23                0.23"
            ],
            "text/html": [
              "\n",
              "  <div id=\"df-724e660d-d517-494c-8ee3-049df1c25da0\" class=\"colab-df-container\">\n",
              "    <div>\n",
              "<style scoped>\n",
              "    .dataframe tbody tr th:only-of-type {\n",
              "        vertical-align: middle;\n",
              "    }\n",
              "\n",
              "    .dataframe tbody tr th {\n",
              "        vertical-align: top;\n",
              "    }\n",
              "\n",
              "    .dataframe thead th {\n",
              "        text-align: right;\n",
              "    }\n",
              "</style>\n",
              "<table border=\"1\" class=\"dataframe\">\n",
              "  <thead>\n",
              "    <tr style=\"text-align: right;\">\n",
              "      <th></th>\n",
              "      <th>frequency</th>\n",
              "      <th>relative frequency</th>\n",
              "    </tr>\n",
              "    <tr>\n",
              "      <th>dice</th>\n",
              "      <th></th>\n",
              "      <th></th>\n",
              "    </tr>\n",
              "  </thead>\n",
              "  <tbody>\n",
              "    <tr>\n",
              "      <th>1</th>\n",
              "      <td>5</td>\n",
              "      <td>0.05</td>\n",
              "    </tr>\n",
              "    <tr>\n",
              "      <th>2</th>\n",
              "      <td>15</td>\n",
              "      <td>0.15</td>\n",
              "    </tr>\n",
              "    <tr>\n",
              "      <th>3</th>\n",
              "      <td>15</td>\n",
              "      <td>0.15</td>\n",
              "    </tr>\n",
              "    <tr>\n",
              "      <th>4</th>\n",
              "      <td>17</td>\n",
              "      <td>0.17</td>\n",
              "    </tr>\n",
              "    <tr>\n",
              "      <th>5</th>\n",
              "      <td>25</td>\n",
              "      <td>0.25</td>\n",
              "    </tr>\n",
              "    <tr>\n",
              "      <th>6</th>\n",
              "      <td>23</td>\n",
              "      <td>0.23</td>\n",
              "    </tr>\n",
              "  </tbody>\n",
              "</table>\n",
              "</div>\n",
              "    <div class=\"colab-df-buttons\">\n",
              "\n",
              "  <div class=\"colab-df-container\">\n",
              "    <button class=\"colab-df-convert\" onclick=\"convertToInteractive('df-724e660d-d517-494c-8ee3-049df1c25da0')\"\n",
              "            title=\"Convert this dataframe to an interactive table.\"\n",
              "            style=\"display:none;\">\n",
              "\n",
              "  <svg xmlns=\"http://www.w3.org/2000/svg\" height=\"24px\" viewBox=\"0 -960 960 960\">\n",
              "    <path d=\"M120-120v-720h720v720H120Zm60-500h600v-160H180v160Zm220 220h160v-160H400v160Zm0 220h160v-160H400v160ZM180-400h160v-160H180v160Zm440 0h160v-160H620v160ZM180-180h160v-160H180v160Zm440 0h160v-160H620v160Z\"/>\n",
              "  </svg>\n",
              "    </button>\n",
              "\n",
              "  <style>\n",
              "    .colab-df-container {\n",
              "      display:flex;\n",
              "      gap: 12px;\n",
              "    }\n",
              "\n",
              "    .colab-df-convert {\n",
              "      background-color: #E8F0FE;\n",
              "      border: none;\n",
              "      border-radius: 50%;\n",
              "      cursor: pointer;\n",
              "      display: none;\n",
              "      fill: #1967D2;\n",
              "      height: 32px;\n",
              "      padding: 0 0 0 0;\n",
              "      width: 32px;\n",
              "    }\n",
              "\n",
              "    .colab-df-convert:hover {\n",
              "      background-color: #E2EBFA;\n",
              "      box-shadow: 0px 1px 2px rgba(60, 64, 67, 0.3), 0px 1px 3px 1px rgba(60, 64, 67, 0.15);\n",
              "      fill: #174EA6;\n",
              "    }\n",
              "\n",
              "    .colab-df-buttons div {\n",
              "      margin-bottom: 4px;\n",
              "    }\n",
              "\n",
              "    [theme=dark] .colab-df-convert {\n",
              "      background-color: #3B4455;\n",
              "      fill: #D2E3FC;\n",
              "    }\n",
              "\n",
              "    [theme=dark] .colab-df-convert:hover {\n",
              "      background-color: #434B5C;\n",
              "      box-shadow: 0px 1px 3px 1px rgba(0, 0, 0, 0.15);\n",
              "      filter: drop-shadow(0px 1px 2px rgba(0, 0, 0, 0.3));\n",
              "      fill: #FFFFFF;\n",
              "    }\n",
              "  </style>\n",
              "\n",
              "    <script>\n",
              "      const buttonEl =\n",
              "        document.querySelector('#df-724e660d-d517-494c-8ee3-049df1c25da0 button.colab-df-convert');\n",
              "      buttonEl.style.display =\n",
              "        google.colab.kernel.accessAllowed ? 'block' : 'none';\n",
              "\n",
              "      async function convertToInteractive(key) {\n",
              "        const element = document.querySelector('#df-724e660d-d517-494c-8ee3-049df1c25da0');\n",
              "        const dataTable =\n",
              "          await google.colab.kernel.invokeFunction('convertToInteractive',\n",
              "                                                    [key], {});\n",
              "        if (!dataTable) return;\n",
              "\n",
              "        const docLinkHtml = 'Like what you see? Visit the ' +\n",
              "          '<a target=\"_blank\" href=https://colab.research.google.com/notebooks/data_table.ipynb>data table notebook</a>'\n",
              "          + ' to learn more about interactive tables.';\n",
              "        element.innerHTML = '';\n",
              "        dataTable['output_type'] = 'display_data';\n",
              "        await google.colab.output.renderOutput(dataTable, element);\n",
              "        const docLink = document.createElement('div');\n",
              "        docLink.innerHTML = docLinkHtml;\n",
              "        element.appendChild(docLink);\n",
              "      }\n",
              "    </script>\n",
              "  </div>\n",
              "\n",
              "\n",
              "<div id=\"df-af85826f-3911-4ade-a325-022ca5bb808d\">\n",
              "  <button class=\"colab-df-quickchart\" onclick=\"quickchart('df-af85826f-3911-4ade-a325-022ca5bb808d')\"\n",
              "            title=\"Suggest charts.\"\n",
              "            style=\"display:none;\">\n",
              "\n",
              "<svg xmlns=\"http://www.w3.org/2000/svg\" height=\"24px\"viewBox=\"0 0 24 24\"\n",
              "     width=\"24px\">\n",
              "    <g>\n",
              "        <path d=\"M19 3H5c-1.1 0-2 .9-2 2v14c0 1.1.9 2 2 2h14c1.1 0 2-.9 2-2V5c0-1.1-.9-2-2-2zM9 17H7v-7h2v7zm4 0h-2V7h2v10zm4 0h-2v-4h2v4z\"/>\n",
              "    </g>\n",
              "</svg>\n",
              "  </button>\n",
              "\n",
              "<style>\n",
              "  .colab-df-quickchart {\n",
              "      --bg-color: #E8F0FE;\n",
              "      --fill-color: #1967D2;\n",
              "      --hover-bg-color: #E2EBFA;\n",
              "      --hover-fill-color: #174EA6;\n",
              "      --disabled-fill-color: #AAA;\n",
              "      --disabled-bg-color: #DDD;\n",
              "  }\n",
              "\n",
              "  [theme=dark] .colab-df-quickchart {\n",
              "      --bg-color: #3B4455;\n",
              "      --fill-color: #D2E3FC;\n",
              "      --hover-bg-color: #434B5C;\n",
              "      --hover-fill-color: #FFFFFF;\n",
              "      --disabled-bg-color: #3B4455;\n",
              "      --disabled-fill-color: #666;\n",
              "  }\n",
              "\n",
              "  .colab-df-quickchart {\n",
              "    background-color: var(--bg-color);\n",
              "    border: none;\n",
              "    border-radius: 50%;\n",
              "    cursor: pointer;\n",
              "    display: none;\n",
              "    fill: var(--fill-color);\n",
              "    height: 32px;\n",
              "    padding: 0;\n",
              "    width: 32px;\n",
              "  }\n",
              "\n",
              "  .colab-df-quickchart:hover {\n",
              "    background-color: var(--hover-bg-color);\n",
              "    box-shadow: 0 1px 2px rgba(60, 64, 67, 0.3), 0 1px 3px 1px rgba(60, 64, 67, 0.15);\n",
              "    fill: var(--button-hover-fill-color);\n",
              "  }\n",
              "\n",
              "  .colab-df-quickchart-complete:disabled,\n",
              "  .colab-df-quickchart-complete:disabled:hover {\n",
              "    background-color: var(--disabled-bg-color);\n",
              "    fill: var(--disabled-fill-color);\n",
              "    box-shadow: none;\n",
              "  }\n",
              "\n",
              "  .colab-df-spinner {\n",
              "    border: 2px solid var(--fill-color);\n",
              "    border-color: transparent;\n",
              "    border-bottom-color: var(--fill-color);\n",
              "    animation:\n",
              "      spin 1s steps(1) infinite;\n",
              "  }\n",
              "\n",
              "  @keyframes spin {\n",
              "    0% {\n",
              "      border-color: transparent;\n",
              "      border-bottom-color: var(--fill-color);\n",
              "      border-left-color: var(--fill-color);\n",
              "    }\n",
              "    20% {\n",
              "      border-color: transparent;\n",
              "      border-left-color: var(--fill-color);\n",
              "      border-top-color: var(--fill-color);\n",
              "    }\n",
              "    30% {\n",
              "      border-color: transparent;\n",
              "      border-left-color: var(--fill-color);\n",
              "      border-top-color: var(--fill-color);\n",
              "      border-right-color: var(--fill-color);\n",
              "    }\n",
              "    40% {\n",
              "      border-color: transparent;\n",
              "      border-right-color: var(--fill-color);\n",
              "      border-top-color: var(--fill-color);\n",
              "    }\n",
              "    60% {\n",
              "      border-color: transparent;\n",
              "      border-right-color: var(--fill-color);\n",
              "    }\n",
              "    80% {\n",
              "      border-color: transparent;\n",
              "      border-right-color: var(--fill-color);\n",
              "      border-bottom-color: var(--fill-color);\n",
              "    }\n",
              "    90% {\n",
              "      border-color: transparent;\n",
              "      border-bottom-color: var(--fill-color);\n",
              "    }\n",
              "  }\n",
              "</style>\n",
              "\n",
              "  <script>\n",
              "    async function quickchart(key) {\n",
              "      const quickchartButtonEl =\n",
              "        document.querySelector('#' + key + ' button');\n",
              "      quickchartButtonEl.disabled = true;  // To prevent multiple clicks.\n",
              "      quickchartButtonEl.classList.add('colab-df-spinner');\n",
              "      try {\n",
              "        const charts = await google.colab.kernel.invokeFunction(\n",
              "            'suggestCharts', [key], {});\n",
              "      } catch (error) {\n",
              "        console.error('Error during call to suggestCharts:', error);\n",
              "      }\n",
              "      quickchartButtonEl.classList.remove('colab-df-spinner');\n",
              "      quickchartButtonEl.classList.add('colab-df-quickchart-complete');\n",
              "    }\n",
              "    (() => {\n",
              "      let quickchartButtonEl =\n",
              "        document.querySelector('#df-af85826f-3911-4ade-a325-022ca5bb808d button');\n",
              "      quickchartButtonEl.style.display =\n",
              "        google.colab.kernel.accessAllowed ? 'block' : 'none';\n",
              "    })();\n",
              "  </script>\n",
              "</div>\n",
              "    </div>\n",
              "  </div>\n"
            ]
          },
          "metadata": {},
          "execution_count": 18
        }
      ]
    },
    {
      "cell_type": "code",
      "source": [
        "# 크기가 (10, 6)인 그림(figure)을 생성합니다.\n",
        "fig = plt.figure(figsize=(10, 6))\n",
        "\n",
        "# 1x1 크기의 서브 플롯을 추가하고, 해당 서브 플롯의 참조를 'ax'에 저장합니다.\n",
        "ax = fig.add_subplot(111)\n",
        "\n",
        "# 'sample' 내의 값들을 히스토그램으로 표시합니다.\n",
        "#  bin의 개수는 6개로, 범위는 1부터 7까지로 설정하여 주사위의 각 면을 나타냅니다.\n",
        "# 'density=True'로 설정하여 상대 빈도(확률)를 나타내는 히스토그램을 표시합니다.\n",
        "# 'rwidth=0.8'로 설정하여 막대의 너비를 0.8로 설정합니다.\n",
        "ax.hist(sample, bins=6, range=(1, 7), density=True, rwidth=0.8)\n",
        "\n",
        "# 주어진 확률 'prob'에 대응하는 위치에 회색 수평선을 그립니다.\n",
        "# 이 수평선은 이론적인 확률값을 나타냅니다.\n",
        "ax.hlines(prob, np.arange(1, 7), np.arange(2, 8), colors='gray')\n",
        "\n",
        "# x축의 눈금 위치를 설정합니다. 주사위의 각 면의 중간 위치에 눈금을 표시합니다.\n",
        "ax.set_xticks(np.linspace(1.5, 6.5, 6))\n",
        "\n",
        "# x축의 눈금 레이블을 1부터 6까지의 값으로 설정합니다.\n",
        "ax.set_xticklabels(np.arange(1, 7))\n",
        "\n",
        "# x축의 레이블을 'dice'로 설정합니다.\n",
        "ax.set_xlabel('dice')\n",
        "\n",
        "# y축의 레이블을 'relative frequency'로 설정합니다.\n",
        "ax.set_ylabel('relative frequency')\n",
        "\n",
        "# 그림을 표시합니다.\n",
        "plt.show()\n"
      ],
      "metadata": {
        "colab": {
          "base_uri": "https://localhost:8080/",
          "height": 547
        },
        "id": "ZP5o0ig2I1HO",
        "outputId": "58e805d9-63f8-4aa6-a075-071bd5d43c99"
      },
      "execution_count": 20,
      "outputs": [
        {
          "output_type": "display_data",
          "data": {
            "text/plain": [
              "<Figure size 1000x600 with 1 Axes>"
            ],
            "image/png": "[encoded data removed]"
          },
          "metadata": {}
        }
      ]
    },
    {
      "cell_type": "code",
      "source": [
        "# 실험을 진행할 횟수인 'num_trial'을 10000으로 설정합니다.\n",
        "num_trial = 10000\n",
        "\n",
        "# numpy의 random 모듈의 choice 함수를 사용하여\n",
        "# 'dice'라는 리스트나 배열에서 'num_trial' 횟수만큼의 값을 임의로 선택하여 'sample'에 저장합니다.\n",
        "# 여기서 'prob'는 각 값이 선택될 확률을 나타내는 리스트나 배열입니다.\n",
        "sample = np.random.choice(dice, size=num_trial, p=prob)\n",
        "\n",
        "# 크기가 (10, 6)인 그림(figure)을 생성합니다.\n",
        "fig = plt.figure(figsize=(10, 6))\n",
        "\n",
        "# 1x1 크기의 서브 플롯을 추가하고, 해당 서브 플롯의 참조를 'ax'에 저장합니다.\n",
        "ax = fig.add_subplot(111)\n",
        "\n",
        "# 'sample' 내의 값들을 히스토그램으로 표시합니다.\n",
        "#  bin의 개수는 6개로, 범위는 1부터 7까지로 설정하여 주사위의 각 면을 나타냅니다.\n",
        "# 'density=True'는 상대 빈도를 나타내는 히스토그램을 표시하도록 설정합니다.\n",
        "# 'rwidth=0.8'는 막대의 너비를 0.8로 설정합니다.\n",
        "ax.hist(sample, bins=6, range=(1, 7), density=True, rwidth=0.8)\n",
        "\n",
        "# 주어진 확률 'prob'에 대응하는 위치에 빨간색 수평선을 그립니다.\n",
        "# 이 수평선은 이론적인 확률값을 나타냅니다.\n",
        "ax.hlines(prob, np.arange(1, 7), np.arange(2, 8), colors='red')\n",
        "\n",
        "# x축의 눈금 위치를 설정합니다. 주사위의 각 면의 중간 위치에 눈금을 표시합니다.\n",
        "ax.set_xticks(np.linspace(1.5, 6.5, 6))\n",
        "\n",
        "# x축의 눈금 레이블을 1부터 6까지의 값으로 설정합니다.\n",
        "ax.set_xticklabels(np.arange(1, 7))\n",
        "\n",
        "# x축의 레이블을 'dice'로 설정합니다.\n",
        "ax.set_xlabel('dice')\n",
        "\n",
        "# y축의 레이블을 'relative frequency'로 설정합니다.\n",
        "ax.set_ylabel('relative frequency')\n",
        "\n",
        "# 그림을 표시합니다.\n",
        "plt.show()\n"
      ],
      "metadata": {
        "colab": {
          "base_uri": "https://localhost:8080/",
          "height": 547
        },
        "id": "SZcWJDfnJ64t",
        "outputId": "dceeb48b-aa4e-41ae-fc58-a1b09b4bdd61"
      },
      "execution_count": 22,
      "outputs": [
        {
          "output_type": "display_data",
          "data": {
            "text/plain": [
              "<Figure size 1000x600 with 1 Axes>"
            ],
            "image/png": "[encoded data removed]"
          },
          "metadata": {}
        }
      ]
    },
    {
      "cell_type": "markdown",
      "source": [
        "## 추측통계의 확률"
      ],
      "metadata": {
        "id": "PrtbfZsTLdtv"
      }
    },
    {
      "cell_type": "code",
      "source": [
        "# 크기가 (10, 6)인 그림(figure)을 생성합니다.\n",
        "fig = plt.figure(figsize=(10, 6))\n",
        "\n",
        "# 1x1 크기의 서브 플롯을 추가하고, 해당 서브 플롯의 참조를 'ax'에 저장합니다.\n",
        "ax = fig.add_subplot(111)\n",
        "\n",
        "# 'scores' 내의 값들을 히스토그램으로 표시합니다.\n",
        "# bin의 개수는 100개로, 범위는 0부터 100까지로 설정합니다.\n",
        "# 'density=True'는 상대 빈도를 나타내는 히스토그램을 표시하도록 설정합니다.\n",
        "ax.hist(scores, bins=100, range=(0, 100), density=True)\n",
        "\n",
        "# x축의 표시 범위를 20부터 100까지로 설정합니다.\n",
        "ax.set_xlim(20, 100)\n",
        "\n",
        "# y축의 표시 범위를 0부터 0.042까지로 설정합니다.\n",
        "ax.set_ylim(0, 0.042)\n",
        "\n",
        "# x축의 레이블을 'score'로 설정합니다.\n",
        "ax.set_xlabel('score')\n",
        "\n",
        "# y축의 레이블을 'relative frequency'로 설정합니다.\n",
        "ax.set_ylabel('relative frequency')\n",
        "\n",
        "# 그림을 표시합니다.\n",
        "plt.show()\n"
      ],
      "metadata": {
        "colab": {
          "base_uri": "https://localhost:8080/",
          "height": 542
        },
        "id": "cVycKACfLfI9",
        "outputId": "f9380ca8-bbb5-4826-cb61-b82594a27148"
      },
      "execution_count": 23,
      "outputs": [
        {
          "output_type": "display_data",
          "data": {
            "text/plain": [
              "<Figure size 1000x600 with 1 Axes>"
            ],
            "image/png": "[encoded data removed]"
          },
          "metadata": {}
        }
      ]
    },
    {
      "cell_type": "code",
      "source": [
        "np.random.choice(scores)"
      ],
      "metadata": {
        "colab": {
          "base_uri": "https://localhost:8080/"
        },
        "id": "NrzcLOaGL-qy",
        "outputId": "58646a3f-70ab-4753-ef56-813fa7e87756"
      },
      "execution_count": 24,
      "outputs": [
        {
          "output_type": "execute_result",
          "data": {
            "text/plain": [
              "100"
            ]
          },
          "metadata": {},
          "execution_count": 24
        }
      ]
    },
    {
      "cell_type": "code",
      "source": [
        "sample = np.random.choice(scores, 10000)\n",
        "\n",
        "fig = plt.figure(figsize=(10, 6))\n",
        "ax = fig.add_subplot(111)\n",
        "ax.hist(scores, bins=100, range=(0, 100), density=True)\n",
        "ax.set_xlim(20, 100)\n",
        "ax.set_ylim(0, 0.042)\n",
        "ax.set_xlabel('score')\n",
        "ax.set_ylabel('relative frequency')\n",
        "plt.show()"
      ],
      "metadata": {
        "colab": {
          "base_uri": "https://localhost:8080/",
          "height": 542
        },
        "id": "w0QJ77WtMA3A",
        "outputId": "4b12eeb6-fd40-4289-baf5-a8be354910ec"
      },
      "execution_count": 25,
      "outputs": [
        {
          "output_type": "display_data",
          "data": {
            "text/plain": [
              "<Figure size 1000x600 with 1 Axes>"
            ],
            "image/png": "[encoded data removed]"
          },
          "metadata": {}
        }
      ]
    },
    {
      "cell_type": "code",
      "source": [
        "# 'sample_means'는 주어진 'scores'에서 20개의 값을 무작위로 추출하여 그 평균값을 구하는 작업을\n",
        "# 총 10000번 반복하여 얻은 평균값들의 리스트입니다.\n",
        "sample_means = [np.random.choice(scores, 20).mean() for _ in range(10000)]\n",
        "\n",
        "# 크기가 (10, 6)인 그림(figure)을 생성합니다.\n",
        "fig = plt.figure(figsize=(10, 6))\n",
        "\n",
        "# 1x1 크기의 서브 플롯을 추가하고, 해당 서브 플롯의 참조를 'ax'에 저장합니다.\n",
        "ax = fig.add_subplot(111)\n",
        "\n",
        "# 'sample_means'의 값들을 히스토그램으로 표시합니다.\n",
        "# 여기서 bin의 개수는 100개로, 범위는 0부터 100까지로 설정합니다.\n",
        "# 'density=True'는 상대 빈도를 나타내는 히스토그램을 표시하도록 설정합니다.\n",
        "ax.hist(sample_means, bins=100, range=(0, 100), density=True)\n",
        "\n",
        "# 전체 'scores'의 평균값 위치에 회색의 수직선을 그립니다.\n",
        "ax.vlines(np.mean(scores), 0, 1, 'gray')\n",
        "\n",
        "# x축의 표시 범위를 50부터 90까지로 설정합니다.\n",
        "ax.set_xlim(50, 90)\n",
        "\n",
        "# y축의 표시 범위를 0부터 0.13까지로 설정합니다.\n",
        "ax.set_ylim(0, 0.13)\n",
        "\n",
        "# x축의 레이블을 'score'로 설정합니다.\n",
        "ax.set_xlabel('score')\n",
        "\n",
        "# y축의 레이블을 'relative frequency'로 설정합니다.\n",
        "ax.set_ylabel('relative frequency')\n",
        "\n",
        "# 그림을 표시합니다.\n",
        "plt.show()\n",
        "\n",
        "# 추측통계 관련 주석:\n",
        "# 위 코드는 중심극한정리(Central Limit Theorem)와 관련이 있습니다. 주어진 데이터 'scores'에서\n",
        "# 작은 크기의 표본(20개)를 반복적으로 추출하여 그 평균을 계산하면, 이 평균들의 분포는 정규분포에\n",
        "# 가까워진다는 중심극한정리의 원리를 시각적으로 확인하는 예제입니다.\n",
        "# 따라서 위의 히스토그램은 표본 평균들의 분포를 나타내며, 수직선은 전체 데이터의 평균값을 나타냅니다."
      ],
      "metadata": {
        "colab": {
          "base_uri": "https://localhost:8080/",
          "height": 542
        },
        "id": "lhQGaQuDMMM-",
        "outputId": "665ea374-5853-40d3-c8cf-d786b9b0f857"
      },
      "execution_count": 27,
      "outputs": [
        {
          "output_type": "display_data",
          "data": {
            "text/plain": [
              "<Figure size 1000x600 with 1 Axes>"
            ],
            "image/png": "[encoded data removed]"
          },
          "metadata": {}
        }
      ]
    }
  ]
}