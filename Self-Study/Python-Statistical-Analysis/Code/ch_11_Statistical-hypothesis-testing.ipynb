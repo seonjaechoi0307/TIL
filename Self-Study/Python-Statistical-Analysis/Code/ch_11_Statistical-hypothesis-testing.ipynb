{
 "cells": [
  {
   "cell_type": "code",
   "execution_count": 1,
   "id": "17454ce2-5d4e-4888-8d13-fd9958c8d3a6",
   "metadata": {},
   "outputs": [],
   "source": [
    "import numpy as np\n",
    "import pandas as pd\n",
    "from scipy import stats\n",
    "\n",
    "%precision 3\n",
    "np.random.seed(111)"
   ]
  },
  {
   "cell_type": "code",
   "execution_count": 2,
   "id": "247ff09b-575f-41ad-991a-97d38b2e6604",
   "metadata": {},
   "outputs": [
    {
     "data": {
      "text/plain": [
       "array([122.02, 131.73, 130.6 , 131.82, 132.05, 126.12, 124.43, 132.89,\n",
       "       122.79, 129.95, 126.14, 134.45, 127.64, 125.68])"
      ]
     },
     "execution_count": 2,
     "metadata": {},
     "output_type": "execute_result"
    }
   ],
   "source": [
    "df = pd.read_csv('../python_stat_sample-master/data/ch11_potato.csv')\n",
    "sample = np.array(df['무게'])\n",
    "sample"
   ]
  },
  {
   "cell_type": "code",
   "execution_count": 3,
   "id": "d80955d5-3fdc-4869-b0fd-24bb3edad491",
   "metadata": {},
   "outputs": [
    {
     "data": {
      "text/plain": [
       "128.451"
      ]
     },
     "execution_count": 3,
     "metadata": {},
     "output_type": "execute_result"
    }
   ],
   "source": [
    "# numpy의 mean 함수를 사용하여 데이터 샘플(sample)의 평균을 계산합니다.\n",
    "s_mean = np.mean(sample)\n",
    "\n",
    "# 계산된 평균값을 출력합니다.\n",
    "s_mean"
   ]
  },
  {
   "cell_type": "code",
   "execution_count": 4,
   "id": "ff4c8f59-9165-4755-8356-e356fbcea38d",
   "metadata": {},
   "outputs": [
    {
     "data": {
      "text/plain": [
       "128.681"
      ]
     },
     "execution_count": 4,
     "metadata": {},
     "output_type": "execute_result"
    }
   ],
   "source": [
    "# stats.norm()을 사용하여 평균(mean)이 130이고 표준편차(standard deviation)가 np.sqrt(9/14)인 정규 분포를 생성합니다.\n",
    "rv = stats.norm(130, np.sqrt(9/14))\n",
    "\n",
    "# 생성한 정규 분포에서 95% 신뢰수준을 갖는 상위 경계값을 계산하여 출력합니다.\n",
    "rv.isf(0.95)"
   ]
  },
  {
   "cell_type": "code",
   "execution_count": 5,
   "id": "58c29396-aa13-4e91-b77b-8a3591eeca62",
   "metadata": {},
   "outputs": [
    {
     "data": {
      "text/plain": [
       "-1.932"
      ]
     },
     "execution_count": 5,
     "metadata": {},
     "output_type": "execute_result"
    }
   ],
   "source": [
    "# Z-점수(Z-score)를 계산합니다.\n",
    "# Z-점수는 (샘플 평균 - 모집단 평균)을 모집단 표준편차로 나눈 값입니다.\n",
    "z = (s_mean - 130) / np.sqrt(9/14)\n",
    "\n",
    "# 계산된 Z-점수를 출력합니다.\n",
    "z"
   ]
  },
  {
   "cell_type": "code",
   "execution_count": 6,
   "id": "00b6ce63-a40e-4bc9-a94f-aa87645d295d",
   "metadata": {},
   "outputs": [
    {
     "data": {
      "text/plain": [
       "-1.645"
      ]
     },
     "execution_count": 6,
     "metadata": {},
     "output_type": "execute_result"
    }
   ],
   "source": [
    "# stats.norm()을 사용하여 표준 정규 분포 객체를 생성합니다.\n",
    "rv = stats.norm()\n",
    "\n",
    "# 생성한 표준 정규 분포 객체에서 95% 신뢰수준을 갖는 상위 경계값을 계산하여 출력합니다.\n",
    "rv.isf(0.95)"
   ]
  },
  {
   "cell_type": "code",
   "execution_count": 7,
   "id": "c99d1d25-e868-47a6-b107-27e5db918f09",
   "metadata": {},
   "outputs": [
    {
     "data": {
      "text/plain": [
       "0.027"
      ]
     },
     "execution_count": 7,
     "metadata": {},
     "output_type": "execute_result"
    }
   ],
   "source": [
    "# 생성한 정규 분포 객체(rv)에서 Z-점수(z)에 대한 누적 확률을 계산합니다.\n",
    "rv.cdf(z)"
   ]
  },
  {
   "cell_type": "code",
   "execution_count": 8,
   "id": "956fa840-3758-45a6-a4ee-e183a9100f6c",
   "metadata": {},
   "outputs": [
    {
     "data": {
      "text/plain": [
       "-1.932"
      ]
     },
     "execution_count": 8,
     "metadata": {},
     "output_type": "execute_result"
    }
   ],
   "source": [
    "# Z-점수(Z-score)를 계산합니다.\n",
    "# Z-점수는 (샘플 평균 - 모집단 평균)을 모집단 표준편차로 나눈 값입니다.\n",
    "z = (s_mean - 130) / np.sqrt(9/14)\n",
    "\n",
    "# 계산된 Z-점수를 변수 z에 저장합니다.\n",
    "z"
   ]
  },
  {
   "cell_type": "code",
   "execution_count": 9,
   "id": "3591ca8a-4981-4416-b46a-68cea42c3b61",
   "metadata": {},
   "outputs": [
    {
     "data": {
      "text/plain": [
       "(-1.960, 1.960)"
      ]
     },
     "execution_count": 9,
     "metadata": {},
     "output_type": "execute_result"
    }
   ],
   "source": [
    "# stats.norm()을 사용하여 표준 정규 분포 객체를 생성합니다.\n",
    "rv = stats.norm()\n",
    "\n",
    "# 생성한 표준 정규 분포 객체에서 95% 신뢰수준에 해당하는 신뢰 구간을 계산하여 반환합니다.\n",
    "rv.interval(0.95)"
   ]
  },
  {
   "cell_type": "code",
   "execution_count": 10,
   "id": "bbfc96eb-2ac3-4a98-b7f4-0108eae39906",
   "metadata": {},
   "outputs": [
    {
     "data": {
      "text/plain": [
       "0.053"
      ]
     },
     "execution_count": 10,
     "metadata": {},
     "output_type": "execute_result"
    }
   ],
   "source": [
    "# rv 객체의 누적 분포 함수(CDF)를 사용하여 확률 변수의 값이 z 이하가 될 확률을 계산하고, 이를 2배 합니다.\n",
    "# 이는 특히 양측 검정에서 사용되며, 확률 변수 값이 z의 절대값 이외의 영역에 있을 확률을 계산하는 데 사용됩니다.\n",
    "rv.cdf(z) * 2"
   ]
  },
  {
   "cell_type": "code",
   "execution_count": 11,
   "id": "c54e42c1-49ba-4197-b130-8ffb13672543",
   "metadata": {},
   "outputs": [],
   "source": [
    "# stats 라이브러리의 norm 함수를 사용하여 정규 분포 객체를 생성합니다.\n",
    "# 여기서 130은 평균(mean)을, 3은 표준편차(standard deviation)를 나타냅니다.\n",
    "# 결과적으로, 이 코드는 평균이 130이고 표준편차가 3인 정규 분포를 나타내는 rv 객체를 생성합니다.\n",
    "rv = stats.norm(130, 3)"
   ]
  },
  {
   "cell_type": "code",
   "execution_count": 12,
   "id": "88a70821-50a3-4b50-8930-5eaa9a60f393",
   "metadata": {},
   "outputs": [
    {
     "data": {
      "text/plain": [
       "0.051"
      ]
     },
     "execution_count": 12,
     "metadata": {},
     "output_type": "execute_result"
    }
   ],
   "source": [
    "# stats 라이브러리의 norm 함수를 이용하여 표준 정규 분포에서 상위 5% (95% 분위수)에 해당하는 z-값을 계산합니다.\n",
    "c = stats.norm().isf(0.95)\n",
    "\n",
    "# 시뮬레이션할 샘플의 개수를 10,000개로 설정합니다.\n",
    "n_samples = 10000\n",
    "\n",
    "# 조건을 만족하는 샘플의 개수를 세기 위한 카운터를 초기화합니다.\n",
    "cnt = 0\n",
    "\n",
    "# 10,000번의 시뮬레이션을 수행합니다.\n",
    "for _ in range(n_samples):\n",
    "    # rv 객체에서 14개의 난수를 생성하고, 소수점 둘째자리까지 반올림합니다. 이는 샘플을 나타냅니다.\n",
    "    sample_ = np.round(rv.rvs(14), 2)\n",
    "    # 생성된 샘플의 평균을 계산합니다.\n",
    "    s_mean_ = np.mean(sample_)\n",
    "    # 계산된 샘플 평균을 바탕으로 z-점수를 계산합니다. 여기서 분모는 표준오차를 나타냅니다.\n",
    "    z = (s_mean_ - 130) / np.sqrt(9/14)\n",
    "    # 만약 계산된 z-점수가 c보다 작다면, 카운터를 1 증가시킵니다.\n",
    "    if z < c:\n",
    "        cnt += 1\n",
    "\n",
    "# 조건을 만족하는 샘플의 비율을 계산합니다.\n",
    "cnt / n_samples"
   ]
  },
  {
   "cell_type": "code",
   "execution_count": 13,
   "id": "59c19566-5785-4910-b516-f35e462c654c",
   "metadata": {},
   "outputs": [],
   "source": [
    "# stats 라이브러리의 norm 함수를 사용하여 정규 분포 객체를 생성합니다.\n",
    "# 여기서 첫 번째 인자 128은 분포의 평균(mean)을,\n",
    "# 두 번째 인자 3은 분포의 표준편차(standard deviation)를 나타냅니다.\n",
    "# 따라서, 평균이 128이고 표준편차가 3인 정규 분포 객체 rv가 생성됩니다.\n",
    "rv = stats.norm(128, 3)"
   ]
  },
  {
   "cell_type": "code",
   "execution_count": 14,
   "id": "3d2dfe36-1d50-412b-94e0-2fbd516ccdb4",
   "metadata": {},
   "outputs": [
    {
     "data": {
      "text/plain": [
       "0.197"
      ]
     },
     "execution_count": 14,
     "metadata": {},
     "output_type": "execute_result"
    }
   ],
   "source": [
    "# stats 라이브러리의 정규 분포(norm) 객체를 사용하여, 상위 5%에 해당하는 z값 (즉, 95번째 백분위수)를 구합니다.\n",
    "c = stats.norm().isf(0.95)\n",
    "\n",
    "# 시뮬레이션할 샘플의 개수를 100,000으로 설정합니다.\n",
    "n_samples = 100000\n",
    "\n",
    "# 조건을 만족하는 샘플의 개수를 세기 위한 카운터를 초기화합니다.\n",
    "cnt = 0\n",
    "\n",
    "# 100,000번의 시뮬레이션을 수행합니다.\n",
    "for _ in range(n_samples):\n",
    "    # rv 객체(정규 분포)에서 14개의 난수를 생성하고, 각각을 소수점 둘째 자리까지 반올림합니다.\n",
    "    # 이는 하나의 샘플을 나타냅니다.\n",
    "    sample_ = np.round(rv.rvs(14), 2)\n",
    "    \n",
    "    # 생성된 샘플의 평균을 계산합니다.\n",
    "    s_mean_ = np.mean(sample_)\n",
    "    \n",
    "    # 계산된 샘플 평균을 바탕으로 z-점수를 계산합니다. 분모는 표준오차를 나타냅니다.\n",
    "    z = (s_mean_ - 130) / np.sqrt(9/14)\n",
    "    \n",
    "    # 만약 계산된 z-점수가 c보다 크거나 같다면, 카운터를 1 증가시킵니다.\n",
    "    if z >= c:\n",
    "        cnt += 1\n",
    "\n",
    "# 조건을 만족하는 샘플의 비율을 계산합니다.\n",
    "cnt / n_samples"
   ]
  },
  {
   "cell_type": "code",
   "execution_count": 15,
   "id": "7eecf6a0-73e7-4380-b485-f4409e6f26b3",
   "metadata": {},
   "outputs": [],
   "source": [
    "# 평균에 대한 가설 검정을 수행하는 함수를 정의합니다.\n",
    "# sample은 데이터 샘플, mean0는 비교 대상 평균, p_var는 모집단 분산, alpha는 유의 수준(기본값 0.05)입니다.\n",
    "def pmean_test(sample, mean0, p_var, alpha=0.05):\n",
    "    # 샘플의 평균을 계산합니다.\n",
    "    s_mean = np.mean(sample)\n",
    "    # 샘플의 크기를 구합니다.\n",
    "    n = len(sample)\n",
    "    # 표준 정규 분포 객체를 생성합니다.\n",
    "    rv = stats.norm()\n",
    "    # 유의 수준에 따른 신뢰 구간을 계산합니다.\n",
    "    interval = rv.interval(1-alpha)\n",
    "\n",
    "    # 샘플 평균에 대한 z-점수를 계산합니다.\n",
    "    z = (s_mean - mean0) / np.sqrt(p_var/n)\n",
    "    # z-점수가 신뢰 구간 안에 있는지 확인하여 귀무 가설의 채택 여부를 결정합니다.\n",
    "    if interval[0] <= z <= interval[1]:\n",
    "        print('귀무가설을 채택')\n",
    "    else:\n",
    "        print('귀무가설을 기각')\n",
    "\n",
    "    # p-값을 계산합니다.\n",
    "    # z-점수가 0보다 작으면, p-값은 z-점수의 두 배에 해당하는 확률입니다.\n",
    "    # 그렇지 않으면, p-값은 1에서 z-점수에 해당하는 누적 확률의 두 배를 뺀 값입니다.\n",
    "    if z < 0:\n",
    "        p = rv.cdf(z) * 2\n",
    "    else:\n",
    "        p = (1 - rv.cdf(z)) * 2\n",
    "    print(f'p값은 {p:.3f}')"
   ]
  },
  {
   "cell_type": "code",
   "execution_count": 16,
   "id": "a373e166-22c3-4340-a738-0ce05cd8e5dc",
   "metadata": {},
   "outputs": [
    {
     "name": "stdout",
     "output_type": "stream",
     "text": [
      "귀무가설을 채택\n",
      "p값은 0.053\n"
     ]
    }
   ],
   "source": [
    "# pmean_test 함수를 호출합니다. 이 함수는 평균에 대한 가설 검정을 수행합니다.\n",
    "# sample은 가설 검정에 사용될 데이터 샘플을 나타냅니다.\n",
    "# 130은 검정할 귀무 가설 하에서의 평균값입니다.\n",
    "# 9는 모집단의 분산을 나타냅니다.\n",
    "# 이 함수는 주어진 샘플이 평균이 130이고 분산이 9인 모집단에서 추출되었는지를 검정합니다.\n",
    "pmean_test(sample, 130, 9)"
   ]
  },
  {
   "cell_type": "code",
   "execution_count": 17,
   "id": "060ba298-d03b-4106-afcd-a09412329db8",
   "metadata": {},
   "outputs": [],
   "source": [
    "# 표본 분산에 대한 가설 검정을 수행하는 함수를 정의합니다.\n",
    "# sample은 데이터 샘플, var0는 비교 대상 분산, alpha는 유의 수준(기본값 0.05)입니다.\n",
    "def pvar_test(sample, var0, alpha=0.05):\n",
    "    # 샘플의 불편 분산(unbiased variance)을 계산합니다. ddof=1은 자유도를 1로 설정합니다.\n",
    "    u_var = np.var(sample, ddof=1)\n",
    "    # 샘플의 크기를 구합니다.\n",
    "    n = len(sample)\n",
    "    # 카이제곱(chi-square) 분포 객체를 생성합니다. 자유도는 샘플 크기에서 1을 뺀 값입니다.\n",
    "    rv = stats.chi2(df=n-1)\n",
    "    # 유의 수준에 따른 신뢰 구간을 계산합니다.\n",
    "    interval = rv.interval(1-alpha)\n",
    "\n",
    "    # 카이제곱 검정 통계량을 계산합니다.\n",
    "    y = (n-1) * u_var / var0\n",
    "    # 계산된 검정 통계량이 신뢰 구간 안에 있는지 확인하여 귀무 가설의 채택 여부를 결정합니다.\n",
    "    if interval[0] <= y <= interval[1]:\n",
    "        print('귀무가설을 채택')\n",
    "    else:\n",
    "        print('귀무가설을 기각')\n",
    "\n",
    "    # p-값을 계산합니다.\n",
    "    # 검정 통계량이 카이제곱 분포의 중앙값보다 작으면, p-값은 검정 통계량의 두 배에 해당하는 확률입니다.\n",
    "    # 그렇지 않으면, p-값은 1에서 검정 통계량에 해당하는 누적 확률의 두 배를 뺀 값입니다.\n",
    "    if y < rv.isf(0.5):\n",
    "        p = rv.cdf(y) * 2\n",
    "    else:\n",
    "        p = (1 - rv.cdf(y)) * 2\n",
    "    print(f'p값은 {p:.3f}')"
   ]
  },
  {
   "cell_type": "code",
   "execution_count": 18,
   "id": "68250839-40bc-4a62-a657-e4d4c2161633",
   "metadata": {},
   "outputs": [
    {
     "name": "stdout",
     "output_type": "stream",
     "text": [
      "귀무가설을 채택\n",
      "p값은 0.085\n"
     ]
    }
   ],
   "source": [
    "# pvar_test 함수를 호출하여 표본 분산에 대한 가설 검정을 수행합니다.\n",
    "# sample은 가설 검정에 사용될 데이터 샘플을 나타냅니다.\n",
    "# 9는 검정할 귀무 가설 하에서의 모집단 분산값입니다.\n",
    "# 이 함수는 주어진 샘플이 분산이 9인 모집단에서 추출되었는지를 검정합니다.\n",
    "pvar_test(sample, 9)"
   ]
  },
  {
   "cell_type": "code",
   "execution_count": 19,
   "id": "52281d08-c31e-4108-8dca-bc92e8e0ee50",
   "metadata": {},
   "outputs": [],
   "source": [
    "# 표본 평균에 대한 가설 검정을 수행하는 함수를 정의합니다.\n",
    "# sample은 데이터 샘플, mean0는 비교 대상 평균, alpha는 유의 수준(기본값 0.05)입니다.\n",
    "def pmean_test(sample, mean0, alpha=0.05):\n",
    "    # 샘플의 평균을 계산합니다.\n",
    "    s_mean = np.mean(sample)\n",
    "    # 샘플의 불편 분산(unbiased variance)을 계산합니다. ddof=1은 자유도를 1로 설정합니다.\n",
    "    u_var = np.var(sample, ddof=1)\n",
    "    # 샘플의 크기를 구합니다.\n",
    "    n = len(sample)\n",
    "    # 스튜던트의 t 분포 객체를 생성합니다. 자유도는 샘플 크기에서 1을 뺀 값입니다.\n",
    "    rv = stats.t(df=n-1)\n",
    "    # 유의 수준에 따른 신뢰 구간을 계산합니다.\n",
    "    interval = rv.interval(1-alpha)\n",
    "\n",
    "    # 샘플 평균에 대한 t-점수를 계산합니다.\n",
    "    t = (s_mean - mean0) / np.sqrt(u_var/n)\n",
    "    # 계산된 t-점수가 신뢰 구간 안에 있는지 확인하여 귀무 가설의 채택 여부를 결정합니다.\n",
    "    if interval[0] <= t <= interval[1]:\n",
    "        print('귀무가설을 채택')\n",
    "    else:\n",
    "        print('귀무가설을 기각')\n",
    "\n",
    "    # p-값을 계산합니다.\n",
    "    # t-점수가 0보다 작으면, p-값은 t-점수의 두 배에 해당하는 확률입니다.\n",
    "    # 그렇지 않으면, p-값은 1에서 t-점수에 해당하는 누적 확률의 두 배를 뺀 값입니다.\n",
    "    if t < 0:\n",
    "        p = rv.cdf(t) * 2\n",
    "    else:\n",
    "        p = (1 - rv.cdf(t)) * 2\n",
    "    print(f'p값은 {p:.3f}')"
   ]
  },
  {
   "cell_type": "code",
   "execution_count": 20,
   "id": "5c1d2e30-ef6c-4267-9e44-579d26648895",
   "metadata": {},
   "outputs": [
    {
     "name": "stdout",
     "output_type": "stream",
     "text": [
      "귀무가설을 채택\n",
      "p값은 0.169\n"
     ]
    }
   ],
   "source": [
    "# pmean_test 함수를 호출하여 평균에 대한 가설 검정을 수행합니다.\n",
    "# sample은 가설 검정에 사용될 데이터 샘플을 나타냅니다.\n",
    "# 130은 검정할 귀무 가설 하에서의 모집단 평균값입니다.\n",
    "# 이 함수는 주어진 샘플의 평균이 130과 다른지를 검정합니다.\n",
    "pmean_test(sample, 130)"
   ]
  },
  {
   "cell_type": "code",
   "execution_count": 21,
   "id": "252a500a-2080-4c77-9634-7701e3aa5c52",
   "metadata": {},
   "outputs": [
    {
     "data": {
      "text/plain": [
       "(-1.455, 0.169)"
      ]
     },
     "execution_count": 21,
     "metadata": {},
     "output_type": "execute_result"
    }
   ],
   "source": [
    "# stats.ttest_1samp 함수를 사용하여 단일 표본 t-검정을 수행합니다.\n",
    "# sample은 가설 검정에 사용될 데이터 샘플을 나타냅니다.\n",
    "# 130은 이 표본의 평균을 비교할 모집단 평균값을 나타냅니다.\n",
    "# 이 함수는 sample의 평균이 130과 통계적으로 유의미하게 다른지를 검정합니다.\n",
    "# 반환값으로 t-통계량(t)과 p-값(p)을 받습니다.\n",
    "t, p = stats.ttest_1samp(sample, 130)\n",
    "\n",
    "# t-통계량과 p-값을 출력합니다.\n",
    "t, p"
   ]
  },
  {
   "cell_type": "code",
   "execution_count": 22,
   "id": "ea7d3a73-3cbd-43a5-b832-7da614de6f83",
   "metadata": {},
   "outputs": [
    {
     "name": "stdout",
     "output_type": "stream",
     "text": [
      "(20, 2)\n"
     ]
    },
    {
     "data": {
      "text/html": [
       "<div>\n",
       "<style scoped>\n",
       "    .dataframe tbody tr th:only-of-type {\n",
       "        vertical-align: middle;\n",
       "    }\n",
       "\n",
       "    .dataframe tbody tr th {\n",
       "        vertical-align: top;\n",
       "    }\n",
       "\n",
       "    .dataframe thead th {\n",
       "        text-align: right;\n",
       "    }\n",
       "</style>\n",
       "<table border=\"1\" class=\"dataframe\">\n",
       "  <thead>\n",
       "    <tr style=\"text-align: right;\">\n",
       "      <th></th>\n",
       "      <th>전</th>\n",
       "      <th>후</th>\n",
       "    </tr>\n",
       "  </thead>\n",
       "  <tbody>\n",
       "    <tr>\n",
       "      <th>0</th>\n",
       "      <td>59</td>\n",
       "      <td>41</td>\n",
       "    </tr>\n",
       "    <tr>\n",
       "      <th>1</th>\n",
       "      <td>52</td>\n",
       "      <td>63</td>\n",
       "    </tr>\n",
       "    <tr>\n",
       "      <th>2</th>\n",
       "      <td>55</td>\n",
       "      <td>68</td>\n",
       "    </tr>\n",
       "    <tr>\n",
       "      <th>3</th>\n",
       "      <td>61</td>\n",
       "      <td>59</td>\n",
       "    </tr>\n",
       "    <tr>\n",
       "      <th>4</th>\n",
       "      <td>59</td>\n",
       "      <td>84</td>\n",
       "    </tr>\n",
       "  </tbody>\n",
       "</table>\n",
       "</div>"
      ],
      "text/plain": [
       "    전   후\n",
       "0  59  41\n",
       "1  52  63\n",
       "2  55  68\n",
       "3  61  59\n",
       "4  59  84"
      ]
     },
     "execution_count": 22,
     "metadata": {},
     "output_type": "execute_result"
    }
   ],
   "source": [
    "training_rel = pd.read_csv('../python_stat_sample-master/data/ch11_training_rel.csv')\n",
    "print(training_rel.shape)\n",
    "training_rel.head()"
   ]
  },
  {
   "cell_type": "code",
   "execution_count": 23,
   "id": "a75a1b61-7fc1-4fac-ae2b-164910ef2709",
   "metadata": {},
   "outputs": [
    {
     "data": {
      "text/html": [
       "<div>\n",
       "<style scoped>\n",
       "    .dataframe tbody tr th:only-of-type {\n",
       "        vertical-align: middle;\n",
       "    }\n",
       "\n",
       "    .dataframe tbody tr th {\n",
       "        vertical-align: top;\n",
       "    }\n",
       "\n",
       "    .dataframe thead th {\n",
       "        text-align: right;\n",
       "    }\n",
       "</style>\n",
       "<table border=\"1\" class=\"dataframe\">\n",
       "  <thead>\n",
       "    <tr style=\"text-align: right;\">\n",
       "      <th></th>\n",
       "      <th>전</th>\n",
       "      <th>후</th>\n",
       "      <th>차</th>\n",
       "    </tr>\n",
       "  </thead>\n",
       "  <tbody>\n",
       "    <tr>\n",
       "      <th>0</th>\n",
       "      <td>59</td>\n",
       "      <td>41</td>\n",
       "      <td>-18</td>\n",
       "    </tr>\n",
       "    <tr>\n",
       "      <th>1</th>\n",
       "      <td>52</td>\n",
       "      <td>63</td>\n",
       "      <td>11</td>\n",
       "    </tr>\n",
       "    <tr>\n",
       "      <th>2</th>\n",
       "      <td>55</td>\n",
       "      <td>68</td>\n",
       "      <td>13</td>\n",
       "    </tr>\n",
       "    <tr>\n",
       "      <th>3</th>\n",
       "      <td>61</td>\n",
       "      <td>59</td>\n",
       "      <td>-2</td>\n",
       "    </tr>\n",
       "    <tr>\n",
       "      <th>4</th>\n",
       "      <td>59</td>\n",
       "      <td>84</td>\n",
       "      <td>25</td>\n",
       "    </tr>\n",
       "  </tbody>\n",
       "</table>\n",
       "</div>"
      ],
      "text/plain": [
       "    전   후   차\n",
       "0  59  41 -18\n",
       "1  52  63  11\n",
       "2  55  68  13\n",
       "3  61  59  -2\n",
       "4  59  84  25"
      ]
     },
     "execution_count": 23,
     "metadata": {},
     "output_type": "execute_result"
    }
   ],
   "source": [
    "# 'training_rel' 데이터프레임에 '차'라는 새로운 열을 추가합니다. \n",
    "# 이 열은 '후'와 '전' 열의 값들의 차이를 나타냅니다.\n",
    "training_rel['차'] = training_rel['후'] - training_rel['전']\n",
    "training_rel.head()"
   ]
  },
  {
   "cell_type": "code",
   "execution_count": 24,
   "id": "55b4434f-6828-4b79-8963-8e113cc4aae2",
   "metadata": {},
   "outputs": [
    {
     "data": {
      "text/plain": [
       "0.040"
      ]
     },
     "execution_count": 24,
     "metadata": {},
     "output_type": "execute_result"
    }
   ],
   "source": [
    "# 단일 표본 t-검정을 사용하여 '차'의 평균이 0과 다른지를 검정합니다.\n",
    "# 이는 '전'과 '후'의 차이가 통계적으로 유의한지를 판단하기 위함입니다.\n",
    "t, p = stats.ttest_1samp(training_rel['차'], 0)\n",
    "\n",
    "# 위에서 계산된 p-값을 출력합니다. 이 값이 낮을수록 '전'과 '후'의 차이가 유의미하다는 것을 나타냅니다.\n",
    "p"
   ]
  },
  {
   "cell_type": "code",
   "execution_count": 25,
   "id": "b3ef2416-b1d2-4fa2-bed1-8ba76cd2cb34",
   "metadata": {},
   "outputs": [
    {
     "data": {
      "text/plain": [
       "0.040"
      ]
     },
     "execution_count": 25,
     "metadata": {},
     "output_type": "execute_result"
    }
   ],
   "source": [
    "# 대응 표본 t-검정(t-test for related samples)을 수행하여 \n",
    "# '후'와 '전' 간의 평균 차이가 통계적으로 유의한지를 검정합니다.\n",
    "t, p = stats.ttest_rel(training_rel['후'], training_rel['전'])\n",
    "\n",
    "# 위에서 계산된 p-값을 출력합니다. 이 값이 낮을수록 '전'과 '후' 간의 차이가 유의미하다는 것을 나타냅니다.\n",
    "p"
   ]
  },
  {
   "cell_type": "code",
   "execution_count": 26,
   "id": "c66adb51-51e6-4851-a08c-5dda0e34215d",
   "metadata": {},
   "outputs": [
    {
     "name": "stdout",
     "output_type": "stream",
     "text": [
      "(20, 2)\n"
     ]
    },
    {
     "data": {
      "text/html": [
       "<div>\n",
       "<style scoped>\n",
       "    .dataframe tbody tr th:only-of-type {\n",
       "        vertical-align: middle;\n",
       "    }\n",
       "\n",
       "    .dataframe tbody tr th {\n",
       "        vertical-align: top;\n",
       "    }\n",
       "\n",
       "    .dataframe thead th {\n",
       "        text-align: right;\n",
       "    }\n",
       "</style>\n",
       "<table border=\"1\" class=\"dataframe\">\n",
       "  <thead>\n",
       "    <tr style=\"text-align: right;\">\n",
       "      <th></th>\n",
       "      <th>A</th>\n",
       "      <th>B</th>\n",
       "    </tr>\n",
       "  </thead>\n",
       "  <tbody>\n",
       "    <tr>\n",
       "      <th>0</th>\n",
       "      <td>47</td>\n",
       "      <td>49</td>\n",
       "    </tr>\n",
       "    <tr>\n",
       "      <th>1</th>\n",
       "      <td>50</td>\n",
       "      <td>52</td>\n",
       "    </tr>\n",
       "    <tr>\n",
       "      <th>2</th>\n",
       "      <td>37</td>\n",
       "      <td>54</td>\n",
       "    </tr>\n",
       "    <tr>\n",
       "      <th>3</th>\n",
       "      <td>60</td>\n",
       "      <td>48</td>\n",
       "    </tr>\n",
       "    <tr>\n",
       "      <th>4</th>\n",
       "      <td>39</td>\n",
       "      <td>51</td>\n",
       "    </tr>\n",
       "  </tbody>\n",
       "</table>\n",
       "</div>"
      ],
      "text/plain": [
       "    A   B\n",
       "0  47  49\n",
       "1  50  52\n",
       "2  37  54\n",
       "3  60  48\n",
       "4  39  51"
      ]
     },
     "execution_count": 26,
     "metadata": {},
     "output_type": "execute_result"
    }
   ],
   "source": [
    "training_ind = pd.read_csv('../python_stat_sample-master/data/ch11_training_ind.csv')\n",
    "print(training_ind.shape)\n",
    "training_ind.head()"
   ]
  },
  {
   "cell_type": "code",
   "execution_count": 27,
   "id": "38055a63-cf89-448d-877a-727488eced35",
   "metadata": {},
   "outputs": [
    {
     "data": {
      "text/plain": [
       "0.087"
      ]
     },
     "execution_count": 27,
     "metadata": {},
     "output_type": "execute_result"
    }
   ],
   "source": [
    "# stats.ttest_ind 함수를 사용하여 독립 표본 t-검정을 수행합니다.\n",
    "# training_ind['A']와 training_ind['B']는 비교할 두 독립 표본 그룹을 나타냅니다.\n",
    "# equal_var = False는 두 그룹의 분산이 동일하지 않다고 가정합니다 (Welch's t-test).\n",
    "# 이 검정은 두 그룹 'A'와 'B'의 평균이 통계적으로 유의미하게 다른지를 판단합니다.\n",
    "t, p = stats.ttest_ind(training_ind['A'], training_ind['B'], equal_var = False)\n",
    "\n",
    "# 계산된 p-값을 출력합니다.\n",
    "# p-값이 낮을 경우, 두 그룹 간의 평균 차이가 통계적으로 유의미하다는 것을 나타냅니다.\n",
    "p"
   ]
  },
  {
   "cell_type": "code",
   "execution_count": 28,
   "id": "9643a831-cbf5-4f6c-b0df-9ec5d5548ccd",
   "metadata": {},
   "outputs": [
    {
     "data": {
      "text/html": [
       "<div>\n",
       "<style scoped>\n",
       "    .dataframe tbody tr th:only-of-type {\n",
       "        vertical-align: middle;\n",
       "    }\n",
       "\n",
       "    .dataframe tbody tr th {\n",
       "        vertical-align: top;\n",
       "    }\n",
       "\n",
       "    .dataframe thead th {\n",
       "        text-align: right;\n",
       "    }\n",
       "</style>\n",
       "<table border=\"1\" class=\"dataframe\">\n",
       "  <thead>\n",
       "    <tr style=\"text-align: right;\">\n",
       "      <th></th>\n",
       "      <th>전</th>\n",
       "      <th>후</th>\n",
       "    </tr>\n",
       "  </thead>\n",
       "  <tbody>\n",
       "    <tr>\n",
       "      <th>0</th>\n",
       "      <td>59</td>\n",
       "      <td>41</td>\n",
       "    </tr>\n",
       "    <tr>\n",
       "      <th>1</th>\n",
       "      <td>52</td>\n",
       "      <td>63</td>\n",
       "    </tr>\n",
       "    <tr>\n",
       "      <th>2</th>\n",
       "      <td>55</td>\n",
       "      <td>68</td>\n",
       "    </tr>\n",
       "    <tr>\n",
       "      <th>3</th>\n",
       "      <td>61</td>\n",
       "      <td>59</td>\n",
       "    </tr>\n",
       "    <tr>\n",
       "      <th>4</th>\n",
       "      <td>59</td>\n",
       "      <td>84</td>\n",
       "    </tr>\n",
       "    <tr>\n",
       "      <th>5</th>\n",
       "      <td>45</td>\n",
       "      <td>37</td>\n",
       "    </tr>\n",
       "  </tbody>\n",
       "</table>\n",
       "</div>"
      ],
      "text/plain": [
       "    전   후\n",
       "0  59  41\n",
       "1  52  63\n",
       "2  55  68\n",
       "3  61  59\n",
       "4  59  84\n",
       "5  45  37"
      ]
     },
     "execution_count": 28,
     "metadata": {},
     "output_type": "execute_result"
    }
   ],
   "source": [
    "training_rel = pd.read_csv('../python_stat_sample-master/data/ch11_training_rel.csv')\n",
    "toy_df = training_rel[:6].copy()\n",
    "toy_df"
   ]
  },
  {
   "cell_type": "code",
   "execution_count": 29,
   "id": "a91b7751-d1f7-4ef7-86c7-74115af184ea",
   "metadata": {},
   "outputs": [
    {
     "data": {
      "text/html": [
       "<div>\n",
       "<style scoped>\n",
       "    .dataframe tbody tr th:only-of-type {\n",
       "        vertical-align: middle;\n",
       "    }\n",
       "\n",
       "    .dataframe tbody tr th {\n",
       "        vertical-align: top;\n",
       "    }\n",
       "\n",
       "    .dataframe thead th {\n",
       "        text-align: right;\n",
       "    }\n",
       "</style>\n",
       "<table border=\"1\" class=\"dataframe\">\n",
       "  <thead>\n",
       "    <tr style=\"text-align: right;\">\n",
       "      <th></th>\n",
       "      <th>전</th>\n",
       "      <th>후</th>\n",
       "      <th>차</th>\n",
       "    </tr>\n",
       "  </thead>\n",
       "  <tbody>\n",
       "    <tr>\n",
       "      <th>0</th>\n",
       "      <td>59</td>\n",
       "      <td>41</td>\n",
       "      <td>-18</td>\n",
       "    </tr>\n",
       "    <tr>\n",
       "      <th>1</th>\n",
       "      <td>52</td>\n",
       "      <td>63</td>\n",
       "      <td>11</td>\n",
       "    </tr>\n",
       "    <tr>\n",
       "      <th>2</th>\n",
       "      <td>55</td>\n",
       "      <td>68</td>\n",
       "      <td>13</td>\n",
       "    </tr>\n",
       "    <tr>\n",
       "      <th>3</th>\n",
       "      <td>61</td>\n",
       "      <td>59</td>\n",
       "      <td>-2</td>\n",
       "    </tr>\n",
       "    <tr>\n",
       "      <th>4</th>\n",
       "      <td>59</td>\n",
       "      <td>84</td>\n",
       "      <td>25</td>\n",
       "    </tr>\n",
       "    <tr>\n",
       "      <th>5</th>\n",
       "      <td>45</td>\n",
       "      <td>37</td>\n",
       "      <td>-8</td>\n",
       "    </tr>\n",
       "  </tbody>\n",
       "</table>\n",
       "</div>"
      ],
      "text/plain": [
       "    전   후   차\n",
       "0  59  41 -18\n",
       "1  52  63  11\n",
       "2  55  68  13\n",
       "3  61  59  -2\n",
       "4  59  84  25\n",
       "5  45  37  -8"
      ]
     },
     "execution_count": 29,
     "metadata": {},
     "output_type": "execute_result"
    }
   ],
   "source": [
    "# toy_df 데이터프레임의 '후'와 '전' 열 간의 차이를 계산하여 새로운 열 '차'에 저장합니다.\n",
    "diff = toy_df['후'] - toy_df['전']\n",
    "toy_df['차'] = diff\n",
    "\n",
    "# 변경된 데이터프레임을 출력합니다.\n",
    "toy_df"
   ]
  },
  {
   "cell_type": "code",
   "execution_count": 30,
   "id": "c4f8c0d1-f51b-4508-897c-317fbf3ecc87",
   "metadata": {},
   "outputs": [
    {
     "data": {
      "text/html": [
       "<div>\n",
       "<style scoped>\n",
       "    .dataframe tbody tr th:only-of-type {\n",
       "        vertical-align: middle;\n",
       "    }\n",
       "\n",
       "    .dataframe tbody tr th {\n",
       "        vertical-align: top;\n",
       "    }\n",
       "\n",
       "    .dataframe thead th {\n",
       "        text-align: right;\n",
       "    }\n",
       "</style>\n",
       "<table border=\"1\" class=\"dataframe\">\n",
       "  <thead>\n",
       "    <tr style=\"text-align: right;\">\n",
       "      <th></th>\n",
       "      <th>전</th>\n",
       "      <th>후</th>\n",
       "      <th>차</th>\n",
       "      <th>순위</th>\n",
       "    </tr>\n",
       "  </thead>\n",
       "  <tbody>\n",
       "    <tr>\n",
       "      <th>0</th>\n",
       "      <td>59</td>\n",
       "      <td>41</td>\n",
       "      <td>-18</td>\n",
       "      <td>5</td>\n",
       "    </tr>\n",
       "    <tr>\n",
       "      <th>1</th>\n",
       "      <td>52</td>\n",
       "      <td>63</td>\n",
       "      <td>11</td>\n",
       "      <td>3</td>\n",
       "    </tr>\n",
       "    <tr>\n",
       "      <th>2</th>\n",
       "      <td>55</td>\n",
       "      <td>68</td>\n",
       "      <td>13</td>\n",
       "      <td>4</td>\n",
       "    </tr>\n",
       "    <tr>\n",
       "      <th>3</th>\n",
       "      <td>61</td>\n",
       "      <td>59</td>\n",
       "      <td>-2</td>\n",
       "      <td>1</td>\n",
       "    </tr>\n",
       "    <tr>\n",
       "      <th>4</th>\n",
       "      <td>59</td>\n",
       "      <td>84</td>\n",
       "      <td>25</td>\n",
       "      <td>6</td>\n",
       "    </tr>\n",
       "    <tr>\n",
       "      <th>5</th>\n",
       "      <td>45</td>\n",
       "      <td>37</td>\n",
       "      <td>-8</td>\n",
       "      <td>2</td>\n",
       "    </tr>\n",
       "  </tbody>\n",
       "</table>\n",
       "</div>"
      ],
      "text/plain": [
       "    전   후   차  순위\n",
       "0  59  41 -18   5\n",
       "1  52  63  11   3\n",
       "2  55  68  13   4\n",
       "3  61  59  -2   1\n",
       "4  59  84  25   6\n",
       "5  45  37  -8   2"
      ]
     },
     "execution_count": 30,
     "metadata": {},
     "output_type": "execute_result"
    }
   ],
   "source": [
    "# diff의 절대값에 대해 순위를 매깁니다. stats.rankdata 함수는 각 값에 순위를 부여합니다.\n",
    "# 순위 데이터는 정수형으로 변환합니다.\n",
    "rank = stats.rankdata(abs(diff)).astype(int)\n",
    "\n",
    "# 계산된 순위를 '순위' 열에 저장합니다.\n",
    "toy_df['순위'] = rank\n",
    "\n",
    "# 변경된 데이터프레임을 출력합니다.\n",
    "toy_df"
   ]
  },
  {
   "cell_type": "code",
   "execution_count": 31,
   "id": "01a5b5e7-8c76-43d6-9f02-1aa452cebac7",
   "metadata": {},
   "outputs": [
    {
     "data": {
      "text/plain": [
       "(8, 13)"
      ]
     },
     "execution_count": 31,
     "metadata": {},
     "output_type": "execute_result"
    }
   ],
   "source": [
    "# diff가 0보다 작은 경우(음의 차이)의 순위 합을 계산합니다.\n",
    "r_minus = np.sum((diff < 0) * rank)\n",
    "# diff가 0보다 큰 경우(양의 차이)의 순위 합을 계산합니다.\n",
    "r_plus = np.sum((diff > 0) * rank)\n",
    "\n",
    "# 음의 차이에 대한 순위 합과 양의 차이에 대한 순위 합을 출력합니다.\n",
    "r_minus, r_plus"
   ]
  },
  {
   "cell_type": "code",
   "execution_count": 32,
   "id": "9fae113d-4a40-440d-8caa-01aef0b86a6e",
   "metadata": {},
   "outputs": [
    {
     "data": {
      "text/html": [
       "<div>\n",
       "<style scoped>\n",
       "    .dataframe tbody tr th:only-of-type {\n",
       "        vertical-align: middle;\n",
       "    }\n",
       "\n",
       "    .dataframe tbody tr th {\n",
       "        vertical-align: top;\n",
       "    }\n",
       "\n",
       "    .dataframe thead th {\n",
       "        text-align: right;\n",
       "    }\n",
       "</style>\n",
       "<table border=\"1\" class=\"dataframe\">\n",
       "  <thead>\n",
       "    <tr style=\"text-align: right;\">\n",
       "      <th></th>\n",
       "      <th>전</th>\n",
       "      <th>후</th>\n",
       "      <th>차</th>\n",
       "      <th>순위</th>\n",
       "    </tr>\n",
       "  </thead>\n",
       "  <tbody>\n",
       "    <tr>\n",
       "      <th>0</th>\n",
       "      <td>59</td>\n",
       "      <td>60</td>\n",
       "      <td>1</td>\n",
       "      <td>1</td>\n",
       "    </tr>\n",
       "    <tr>\n",
       "      <th>1</th>\n",
       "      <td>52</td>\n",
       "      <td>54</td>\n",
       "      <td>2</td>\n",
       "      <td>2</td>\n",
       "    </tr>\n",
       "    <tr>\n",
       "      <th>2</th>\n",
       "      <td>55</td>\n",
       "      <td>58</td>\n",
       "      <td>3</td>\n",
       "      <td>3</td>\n",
       "    </tr>\n",
       "    <tr>\n",
       "      <th>3</th>\n",
       "      <td>61</td>\n",
       "      <td>65</td>\n",
       "      <td>4</td>\n",
       "      <td>4</td>\n",
       "    </tr>\n",
       "    <tr>\n",
       "      <th>4</th>\n",
       "      <td>59</td>\n",
       "      <td>64</td>\n",
       "      <td>5</td>\n",
       "      <td>5</td>\n",
       "    </tr>\n",
       "    <tr>\n",
       "      <th>5</th>\n",
       "      <td>45</td>\n",
       "      <td>51</td>\n",
       "      <td>6</td>\n",
       "      <td>6</td>\n",
       "    </tr>\n",
       "  </tbody>\n",
       "</table>\n",
       "</div>"
      ],
      "text/plain": [
       "    전   후  차  순위\n",
       "0  59  60  1   1\n",
       "1  52  54  2   2\n",
       "2  55  58  3   3\n",
       "3  61  65  4   4\n",
       "4  59  64  5   5\n",
       "5  45  51  6   6"
      ]
     },
     "execution_count": 32,
     "metadata": {},
     "output_type": "execute_result"
    }
   ],
   "source": [
    "# toy_df 데이터프레임의 '전' 열에 1부터 6까지의 숫자를 순차적으로 더하여 '후' 열을 생성합니다.\n",
    "toy_df['후'] = toy_df['전'] + np.arange(1, 7)\n",
    "\n",
    "# '후'와 '전' 열 간의 차이를 계산하여 새로운 열 '차'에 저장합니다.\n",
    "diff = toy_df['후'] - toy_df['전']\n",
    "\n",
    "# 차이(diff)의 절대값에 대해 순위를 매기고, 그 결과를 정수형으로 변환하여 '순위' 열에 저장합니다.\n",
    "rank = stats.rankdata(abs(diff)).astype(int)\n",
    "toy_df['차'] = diff\n",
    "toy_df['순위'] = rank\n",
    "\n",
    "# 수정된 toy_df 데이터프레임을 출력합니다.\n",
    "toy_df"
   ]
  },
  {
   "cell_type": "code",
   "execution_count": 33,
   "id": "9a343c53-a298-47d8-9287-576b614faa3b",
   "metadata": {},
   "outputs": [
    {
     "data": {
      "text/plain": [
       "(0, 21)"
      ]
     },
     "execution_count": 33,
     "metadata": {},
     "output_type": "execute_result"
    }
   ],
   "source": [
    "# diff가 음수(0보다 작은 값)인 경우에 해당하는 순위들의 합을 계산합니다.\n",
    "# 이는 diff < 0 조건에 부합하는 값에 해당하는 rank 값들만 합산합니다.\n",
    "r_minus = np.sum((diff < 0) * rank)\n",
    "\n",
    "# diff가 양수(0보다 큰 값)인 경우에 해당하는 순위들의 합을 계산합니다.\n",
    "# 이는 diff > 0 조건에 부합하는 값에 해당하는 rank 값들만 합산합니다.\n",
    "r_plus = np.sum((diff > 0) * rank)\n",
    "\n",
    "# 계산된 r_minus(음수 차이에 대한 순위 합)와 r_plus(양수 차이에 대한 순위 합)를 출력합니다.\n",
    "r_minus, r_plus"
   ]
  },
  {
   "cell_type": "code",
   "execution_count": 34,
   "id": "d98d93f1-f3eb-4bfc-9fbd-0268297fb8bc",
   "metadata": {},
   "outputs": [
    {
     "data": {
      "text/html": [
       "<div>\n",
       "<style scoped>\n",
       "    .dataframe tbody tr th:only-of-type {\n",
       "        vertical-align: middle;\n",
       "    }\n",
       "\n",
       "    .dataframe tbody tr th {\n",
       "        vertical-align: top;\n",
       "    }\n",
       "\n",
       "    .dataframe thead th {\n",
       "        text-align: right;\n",
       "    }\n",
       "</style>\n",
       "<table border=\"1\" class=\"dataframe\">\n",
       "  <thead>\n",
       "    <tr style=\"text-align: right;\">\n",
       "      <th></th>\n",
       "      <th>전</th>\n",
       "      <th>후</th>\n",
       "      <th>차</th>\n",
       "      <th>순위</th>\n",
       "    </tr>\n",
       "  </thead>\n",
       "  <tbody>\n",
       "    <tr>\n",
       "      <th>0</th>\n",
       "      <td>59</td>\n",
       "      <td>60</td>\n",
       "      <td>1</td>\n",
       "      <td>1</td>\n",
       "    </tr>\n",
       "    <tr>\n",
       "      <th>1</th>\n",
       "      <td>52</td>\n",
       "      <td>50</td>\n",
       "      <td>-2</td>\n",
       "      <td>2</td>\n",
       "    </tr>\n",
       "    <tr>\n",
       "      <th>2</th>\n",
       "      <td>55</td>\n",
       "      <td>52</td>\n",
       "      <td>-3</td>\n",
       "      <td>3</td>\n",
       "    </tr>\n",
       "    <tr>\n",
       "      <th>3</th>\n",
       "      <td>61</td>\n",
       "      <td>65</td>\n",
       "      <td>4</td>\n",
       "      <td>4</td>\n",
       "    </tr>\n",
       "    <tr>\n",
       "      <th>4</th>\n",
       "      <td>59</td>\n",
       "      <td>64</td>\n",
       "      <td>5</td>\n",
       "      <td>5</td>\n",
       "    </tr>\n",
       "    <tr>\n",
       "      <th>5</th>\n",
       "      <td>45</td>\n",
       "      <td>39</td>\n",
       "      <td>-6</td>\n",
       "      <td>6</td>\n",
       "    </tr>\n",
       "  </tbody>\n",
       "</table>\n",
       "</div>"
      ],
      "text/plain": [
       "    전   후  차  순위\n",
       "0  59  60  1   1\n",
       "1  52  50 -2   2\n",
       "2  55  52 -3   3\n",
       "3  61  65  4   4\n",
       "4  59  64  5   5\n",
       "5  45  39 -6   6"
      ]
     },
     "execution_count": 34,
     "metadata": {},
     "output_type": "execute_result"
    }
   ],
   "source": [
    "# toy_df 데이터프레임의 '전' 열에 고정된 값들 [1, -2, -3, 4, 5, -6]을 더하여 '후' 열을 수정합니다.\n",
    "toy_df['후'] = toy_df['전'] + [1, -2, -3, 4, 5, -6]\n",
    "\n",
    "# '후'와 '전' 열 간의 차이를 계산하여 새로운 열 '차'에 저장합니다.\n",
    "diff = toy_df['후'] - toy_df['전']\n",
    "\n",
    "# 차이(diff)의 절대값에 대해 순위를 매기고, 그 결과를 정수형으로 변환하여 '순위' 열에 저장합니다.\n",
    "rank = stats.rankdata(abs(diff)).astype(int)\n",
    "toy_df['차'] = diff\n",
    "toy_df['순위'] = rank\n",
    "\n",
    "# 수정된 toy_df 데이터프레임을 출력합니다.\n",
    "toy_df"
   ]
  },
  {
   "cell_type": "code",
   "execution_count": 35,
   "id": "5448f1b6-1536-4600-b697-edbcf6ce310f",
   "metadata": {},
   "outputs": [
    {
     "data": {
      "text/plain": [
       "(11, 10)"
      ]
     },
     "execution_count": 35,
     "metadata": {},
     "output_type": "execute_result"
    }
   ],
   "source": [
    "# diff가 음수인 경우(즉, '후'의 값이 '전'의 값보다 작은 경우)의 순위(rank) 합을 계산합니다.\n",
    "# 이는 diff < 0을 만족하는 요소에 해당하는 순위의 합을 의미합니다.\n",
    "r_minus = np.sum((diff < 0) * rank)\n",
    "\n",
    "# diff가 양수인 경우(즉, '후'의 값이 '전'의 값보다 큰 경우)의 순위(rank) 합을 계산합니다.\n",
    "# 이는 diff > 0을 만족하는 요소에 해당하는 순위의 합을 의미합니다.\n",
    "r_plus = np.sum((diff > 0) * rank)\n",
    "\n",
    "# 계산된 r_minus와 r_plus를 출력합니다.\n",
    "# 이 값들은 윌콕슨 부호 순위 검정에서 사용되며, '전'과 '후' 사이에 유의미한 차이가 있는지를 평가하는 데 사용됩니다.\n",
    "r_minus, r_plus"
   ]
  },
  {
   "cell_type": "code",
   "execution_count": 36,
   "id": "69d0bb10-beaf-4191-88e1-d8200b535bd5",
   "metadata": {},
   "outputs": [
    {
     "data": {
      "text/plain": [
       "0.036"
      ]
     },
     "execution_count": 36,
     "metadata": {},
     "output_type": "execute_result"
    }
   ],
   "source": [
    "# stats.wilcoxon 함수를 사용하여 윌콕슨 부호 순위 검정을 수행합니다.\n",
    "# 이 검정은 두 관련 표본인 training_rel 데이터프레임의 '전'과 '후' 열 간의 차이를 비모수적으로 검정합니다.\n",
    "# 반환값으로 검정 통계량(T)과 p-값(p)을 받습니다.\n",
    "T, p = stats.wilcoxon(training_rel['전'], training_rel['후'])\n",
    "\n",
    "# 계산된 p-값을 출력합니다.\n",
    "# p-값이 낮을 경우, 두 관련 표본 간의 차이가 통계적으로 유의미하다는 것을 나타냅니다.\n",
    "p"
   ]
  },
  {
   "cell_type": "code",
   "execution_count": 37,
   "id": "e227dfcf-7676-41b2-89a1-d1a9e6fa3c51",
   "metadata": {},
   "outputs": [
    {
     "data": {
      "text/plain": [
       "0.040"
      ]
     },
     "execution_count": 37,
     "metadata": {},
     "output_type": "execute_result"
    }
   ],
   "source": [
    "# stats.wilcoxon 함수를 사용하여 윌콕슨 부호 순위 검정을 수행합니다.\n",
    "# 이 검정은 training_rel 데이터프레임의 '후'와 '전' 열 간의 차이를 비모수적으로 검정합니다.\n",
    "# 검정은 '후'와 '전'의 차이를 계산한 결과를 사용합니다.\n",
    "# 반환값으로 검정 통계량(T)과 p-값(p)을 받습니다.\n",
    "T, p = stats.wilcoxon(training_rel['후'] - training_rel['전'])\n",
    "\n",
    "# 계산된 p-값을 출력합니다.\n",
    "# p-값이 낮을 경우, 두 관련 표본 간의 차이가 통계적으로 유의미하다는 것을 나타냅니다.\n",
    "p"
   ]
  },
  {
   "cell_type": "code",
   "execution_count": 38,
   "id": "7bc5f914-cd24-41d0-af63-108043b59e51",
   "metadata": {},
   "outputs": [],
   "source": [
    "# 샘플의 크기와 차원을 설정합니다. 여기서는 10,000개의 샘플을 생성하며, 각 샘플은 20개의 요소를 가집니다.\n",
    "n = 10000\n",
    "\n",
    "# stats.norm(3, 4)은 평균이 3이고 표준편차가 4인 정규 분포를 나타냅니다.\n",
    "# rvs(size=(n, 20))는 위에서 정의한 정규 분포에서 무작위로 n개의 샘플을 추출하는데, \n",
    "# 각 샘플은 20개의 값으로 구성됩니다.\n",
    "# np.round를 사용하여 이러한 값들을 가장 가까운 정수로 반올림합니다.\n",
    "diffs = np.round(stats.norm(3, 4).rvs(size=(n, 20)))"
   ]
  },
  {
   "cell_type": "code",
   "execution_count": 39,
   "id": "a89cd8dc-9a28-4a4e-9901-cab9ab84d391",
   "metadata": {},
   "outputs": [
    {
     "data": {
      "text/plain": [
       "0.885"
      ]
     },
     "execution_count": 39,
     "metadata": {},
     "output_type": "execute_result"
    }
   ],
   "source": [
    "# 유의미한 결과를 세기 위한 카운터를 초기화합니다.\n",
    "cnt = 0\n",
    "\n",
    "# 유의 수준을 0.05로 설정합니다.\n",
    "alpha = 0.05\n",
    "\n",
    "# diffs의 각 diff(20개 요소를 가진 샘플)에 대해 반복합니다.\n",
    "for diff in diffs:\n",
    "    # 단일 표본 t-검정을 수행합니다. 여기서 귀무 가설은 diff의 평균이 0이라는 것입니다.\n",
    "    t, p = stats.ttest_1samp(diff, 0)\n",
    "    # p-값이 유의 수준보다 작으면 카운터를 증가시킵니다.\n",
    "    # 이는 귀무 가설을 기각하는 경우를 의미합니다.\n",
    "    if p < alpha:\n",
    "        cnt += 1\n",
    "\n",
    "# 전체 시행 횟수 대비 유의 수준보다 작은 p-값을 가진 시행의 비율을 계산합니다.\n",
    "cnt / n"
   ]
  },
  {
   "cell_type": "code",
   "execution_count": 40,
   "id": "361d2480-a58a-4f28-a932-c3e66b4de539",
   "metadata": {},
   "outputs": [
    {
     "name": "stderr",
     "output_type": "stream",
     "text": [
      "C:\\Users\\admin\\Documents\\Python-Statistical-Analysis\\venv\\lib\\site-packages\\scipy\\stats\\_morestats.py:4088: UserWarning: Exact p-value calculation does not work if there are zeros. Switching to normal approximation.\n",
      "  warnings.warn(\"Exact p-value calculation does not work if there are \"\n"
     ]
    },
    {
     "data": {
      "text/plain": [
       "0.876"
      ]
     },
     "execution_count": 40,
     "metadata": {},
     "output_type": "execute_result"
    }
   ],
   "source": [
    "# cnt는 유의미한 차이가 관찰된 데이터 쌍의 수를 계산하기 위한 카운터입니다.\n",
    "cnt = 0\n",
    "\n",
    "# alpha는 유의 수준을 설정합니다. 이 경우 0.05로 설정되어 있어,\n",
    "# p-값이 0.05보다 작으면 결과가 통계적으로 유의미하다고 간주합니다.\n",
    "alpha = 0.05\n",
    "\n",
    "# diffs에 있는 각 데이터 쌍에 대해 반복합니다.\n",
    "for diff in diffs:\n",
    "    # 윌콕슨 부호 순위 검정을 수행합니다.\n",
    "    # 이 검정은 두 관련 표본 간의 차이가 0이 아닌지를 검정합니다.\n",
    "    T, p = stats.wilcoxon(diff)\n",
    "\n",
    "    # 만약 p-값이 alpha(0.05)보다 작으면,\n",
    "    # 이는 통계적으로 유의미한 차이가 있다는 것을 의미합니다.\n",
    "    if p < alpha:\n",
    "        cnt += 1\n",
    "\n",
    "# 유의미한 차이가 관찰된 경우의 비율을 계산합니다.\n",
    "# 이는 전체 데이터 쌍 중에서 통계적으로 유의미한 차이를 보인 쌍의 비율입니다.\n",
    "cnt / n"
   ]
  },
  {
   "cell_type": "code",
   "execution_count": 41,
   "id": "ab70aef7-0ed2-48ff-8193-daeced5e58dc",
   "metadata": {},
   "outputs": [
    {
     "data": {
      "text/html": [
       "<div>\n",
       "<style scoped>\n",
       "    .dataframe tbody tr th:only-of-type {\n",
       "        vertical-align: middle;\n",
       "    }\n",
       "\n",
       "    .dataframe tbody tr th {\n",
       "        vertical-align: top;\n",
       "    }\n",
       "\n",
       "    .dataframe thead th {\n",
       "        text-align: right;\n",
       "    }\n",
       "</style>\n",
       "<table border=\"1\" class=\"dataframe\">\n",
       "  <thead>\n",
       "    <tr style=\"text-align: right;\">\n",
       "      <th></th>\n",
       "      <th>A</th>\n",
       "      <th>B</th>\n",
       "    </tr>\n",
       "  </thead>\n",
       "  <tbody>\n",
       "    <tr>\n",
       "      <th>0</th>\n",
       "      <td>47</td>\n",
       "      <td>49</td>\n",
       "    </tr>\n",
       "    <tr>\n",
       "      <th>1</th>\n",
       "      <td>50</td>\n",
       "      <td>52</td>\n",
       "    </tr>\n",
       "    <tr>\n",
       "      <th>2</th>\n",
       "      <td>37</td>\n",
       "      <td>54</td>\n",
       "    </tr>\n",
       "    <tr>\n",
       "      <th>3</th>\n",
       "      <td>60</td>\n",
       "      <td>48</td>\n",
       "    </tr>\n",
       "    <tr>\n",
       "      <th>4</th>\n",
       "      <td>39</td>\n",
       "      <td>51</td>\n",
       "    </tr>\n",
       "  </tbody>\n",
       "</table>\n",
       "</div>"
      ],
      "text/plain": [
       "    A   B\n",
       "0  47  49\n",
       "1  50  52\n",
       "2  37  54\n",
       "3  60  48\n",
       "4  39  51"
      ]
     },
     "execution_count": 41,
     "metadata": {},
     "output_type": "execute_result"
    }
   ],
   "source": [
    "training_ind = pd.read_csv('../python_stat_sample-master/data/ch11_training_ind.csv')\n",
    "toy_df = training_ind[:5].copy()\n",
    "toy_df"
   ]
  },
  {
   "cell_type": "code",
   "execution_count": 42,
   "id": "adbc6b66-be68-4451-af3a-b030ab376158",
   "metadata": {},
   "outputs": [
    {
     "data": {
      "text/html": [
       "<div>\n",
       "<style scoped>\n",
       "    .dataframe tbody tr th:only-of-type {\n",
       "        vertical-align: middle;\n",
       "    }\n",
       "\n",
       "    .dataframe tbody tr th {\n",
       "        vertical-align: top;\n",
       "    }\n",
       "\n",
       "    .dataframe thead th {\n",
       "        text-align: right;\n",
       "    }\n",
       "</style>\n",
       "<table border=\"1\" class=\"dataframe\">\n",
       "  <thead>\n",
       "    <tr style=\"text-align: right;\">\n",
       "      <th></th>\n",
       "      <th>A</th>\n",
       "      <th>B</th>\n",
       "    </tr>\n",
       "  </thead>\n",
       "  <tbody>\n",
       "    <tr>\n",
       "      <th>0</th>\n",
       "      <td>3</td>\n",
       "      <td>5</td>\n",
       "    </tr>\n",
       "    <tr>\n",
       "      <th>1</th>\n",
       "      <td>6</td>\n",
       "      <td>8</td>\n",
       "    </tr>\n",
       "    <tr>\n",
       "      <th>2</th>\n",
       "      <td>1</td>\n",
       "      <td>9</td>\n",
       "    </tr>\n",
       "    <tr>\n",
       "      <th>3</th>\n",
       "      <td>10</td>\n",
       "      <td>4</td>\n",
       "    </tr>\n",
       "    <tr>\n",
       "      <th>4</th>\n",
       "      <td>2</td>\n",
       "      <td>7</td>\n",
       "    </tr>\n",
       "  </tbody>\n",
       "</table>\n",
       "</div>"
      ],
      "text/plain": [
       "    A  B\n",
       "0   3  5\n",
       "1   6  8\n",
       "2   1  9\n",
       "3  10  4\n",
       "4   2  7"
      ]
     },
     "execution_count": 42,
     "metadata": {},
     "output_type": "execute_result"
    }
   ],
   "source": [
    "# 'A' 열과 'B' 열의 값을 합쳐서 하나의 배열로 만듭니다.\n",
    "# rankdata 함수를 사용하여 해당 배열의 요소들에 대한 순위를 계산합니다.\n",
    "rank = stats.rankdata(np.concatenate([toy_df['A'], toy_df['B']]))\n",
    "\n",
    "# 순위를 계산한 결과를 바탕으로 새로운 데이터 프레임을 생성합니다.\n",
    "# 'A' 열에는 rank 배열의 처음 5개 값을, 'B' 열에는 rank 배열의 5번째부터 10번째까지 값을 넣습니다.\n",
    "# 순위는 정수형으로 변환하여 저장합니다.\n",
    "rank_df = pd.DataFrame({'A': rank[:5], 'B': rank[5:10]}).astype(int)\n",
    "\n",
    "# 최종적으로 생성된 rank_df를 출력합니다.\n",
    "rank_df"
   ]
  },
  {
   "cell_type": "code",
   "execution_count": 43,
   "id": "f720d3ae-7b49-493b-b925-5b4eec3f2c10",
   "metadata": {},
   "outputs": [
    {
     "data": {
      "text/plain": [
       "7.000"
      ]
     },
     "execution_count": 43,
     "metadata": {},
     "output_type": "execute_result"
    }
   ],
   "source": [
    "# 데이터 프레임 rank_df의 'A' 열의 길이를 n1에 저장합니다.\n",
    "n1 = len(rank_df['A'])\n",
    "\n",
    "# Wilcoxon 순위 합 검정을 위한 U 통계량을 계산합니다.\n",
    "# U 통계량은 'A' 열의 순위 합을 계산한 뒤, 기대값인 (n1 * (n1 + 1)) / 2를 뺀 값을 의미합니다.\n",
    "# U 통계량은 두 개의 대응하는 표본 간의 차이를 비교하는 데 사용됩니다.\n",
    "u = rank_df['A'].sum() - (n1 * (n1 + 1)) / 2\n",
    "\n",
    "# U 통계량을 출력합니다.\n",
    "u"
   ]
  },
  {
   "cell_type": "code",
   "execution_count": 44,
   "id": "84f20743-85db-4f16-9747-dfcec16112c6",
   "metadata": {},
   "outputs": [
    {
     "data": {
      "text/html": [
       "<div>\n",
       "<style scoped>\n",
       "    .dataframe tbody tr th:only-of-type {\n",
       "        vertical-align: middle;\n",
       "    }\n",
       "\n",
       "    .dataframe tbody tr th {\n",
       "        vertical-align: top;\n",
       "    }\n",
       "\n",
       "    .dataframe thead th {\n",
       "        text-align: right;\n",
       "    }\n",
       "</style>\n",
       "<table border=\"1\" class=\"dataframe\">\n",
       "  <thead>\n",
       "    <tr style=\"text-align: right;\">\n",
       "      <th></th>\n",
       "      <th>A</th>\n",
       "      <th>B</th>\n",
       "    </tr>\n",
       "  </thead>\n",
       "  <tbody>\n",
       "    <tr>\n",
       "      <th>0</th>\n",
       "      <td>1</td>\n",
       "      <td>6</td>\n",
       "    </tr>\n",
       "    <tr>\n",
       "      <th>1</th>\n",
       "      <td>2</td>\n",
       "      <td>7</td>\n",
       "    </tr>\n",
       "    <tr>\n",
       "      <th>2</th>\n",
       "      <td>3</td>\n",
       "      <td>8</td>\n",
       "    </tr>\n",
       "    <tr>\n",
       "      <th>3</th>\n",
       "      <td>4</td>\n",
       "      <td>9</td>\n",
       "    </tr>\n",
       "    <tr>\n",
       "      <th>4</th>\n",
       "      <td>5</td>\n",
       "      <td>10</td>\n",
       "    </tr>\n",
       "  </tbody>\n",
       "</table>\n",
       "</div>"
      ],
      "text/plain": [
       "   A   B\n",
       "0  1   6\n",
       "1  2   7\n",
       "2  3   8\n",
       "3  4   9\n",
       "4  5  10"
      ]
     },
     "execution_count": 44,
     "metadata": {},
     "output_type": "execute_result"
    }
   ],
   "source": [
    "# np.arange(1, 11)은 1부터 10까지의 숫자를 생성한 배열을 나타냅니다.\n",
    "# reshape(2, 5)는 이 숫자 배열을 2x5 형태의 행렬로 변형합니다.\n",
    "# T는 행렬을 전치(transpose)하여 행과 열을 바꿉니다.\n",
    "# 이로써 'A' 열과 'B' 열이 각각 1부터 5까지의 값을 가지는 2개의 열로 구성된 데이터 프레임이 생성됩니다.\n",
    "rank_df = pd.DataFrame(np.arange(1, 11).reshape(2, 5).T, columns=['A', 'B'])\n",
    "\n",
    "# 생성된 데이터 프레임 rank_df를 출력합니다.\n",
    "rank_df"
   ]
  },
  {
   "cell_type": "code",
   "execution_count": 45,
   "id": "33a9057f-0bcd-4b10-8971-ee62231682ba",
   "metadata": {},
   "outputs": [
    {
     "data": {
      "text/plain": [
       "0.000"
      ]
     },
     "execution_count": 45,
     "metadata": {},
     "output_type": "execute_result"
    }
   ],
   "source": [
    "# 데이터 프레임 rank_df의 'A' 열에서 U 통계량(U statistic)을 계산합니다.\n",
    "# U 통계량은 Wilcoxon 순위 합 검정(Wilcoxon signed-rank test)에서 사용되는 값으로,\n",
    "# 두 개의 대응하는 표본 간의 순위 합의 차이를 나타냅니다.\n",
    "# 'A' 열의 순위 합을 계산한 뒤, 기대값인 (n1 * (n1 + 1)) / 2를 뺀 값을 U로 저장합니다.\n",
    "u = rank_df['A'].sum() - (n1 * (n1 + 1)) / 2\n",
    "\n",
    "# U 통계량 값을 출력합니다.\n",
    "u"
   ]
  },
  {
   "cell_type": "code",
   "execution_count": 46,
   "id": "b7d4e90f-5de7-40ca-8bbb-b12b6752328a",
   "metadata": {},
   "outputs": [
    {
     "data": {
      "text/html": [
       "<div>\n",
       "<style scoped>\n",
       "    .dataframe tbody tr th:only-of-type {\n",
       "        vertical-align: middle;\n",
       "    }\n",
       "\n",
       "    .dataframe tbody tr th {\n",
       "        vertical-align: top;\n",
       "    }\n",
       "\n",
       "    .dataframe thead th {\n",
       "        text-align: right;\n",
       "    }\n",
       "</style>\n",
       "<table border=\"1\" class=\"dataframe\">\n",
       "  <thead>\n",
       "    <tr style=\"text-align: right;\">\n",
       "      <th></th>\n",
       "      <th>A</th>\n",
       "      <th>B</th>\n",
       "    </tr>\n",
       "  </thead>\n",
       "  <tbody>\n",
       "    <tr>\n",
       "      <th>0</th>\n",
       "      <td>6</td>\n",
       "      <td>1</td>\n",
       "    </tr>\n",
       "    <tr>\n",
       "      <th>1</th>\n",
       "      <td>7</td>\n",
       "      <td>2</td>\n",
       "    </tr>\n",
       "    <tr>\n",
       "      <th>2</th>\n",
       "      <td>8</td>\n",
       "      <td>3</td>\n",
       "    </tr>\n",
       "    <tr>\n",
       "      <th>3</th>\n",
       "      <td>9</td>\n",
       "      <td>4</td>\n",
       "    </tr>\n",
       "    <tr>\n",
       "      <th>4</th>\n",
       "      <td>10</td>\n",
       "      <td>5</td>\n",
       "    </tr>\n",
       "  </tbody>\n",
       "</table>\n",
       "</div>"
      ],
      "text/plain": [
       "    A  B\n",
       "0   6  1\n",
       "1   7  2\n",
       "2   8  3\n",
       "3   9  4\n",
       "4  10  5"
      ]
     },
     "execution_count": 46,
     "metadata": {},
     "output_type": "execute_result"
    }
   ],
   "source": [
    "# np.arange(1, 11)은 1부터 10까지의 숫자를 생성한 배열을 나타냅니다.\n",
    "# reshape(2, 5)는 이 숫자 배열을 2x5 형태의 행렬로 변형합니다.\n",
    "# [::-1]은 배열을 역순으로 변환합니다. 따라서 [10, 9, 8, 7, 6, 5, 4, 3, 2, 1]로 변환됩니다.\n",
    "# T는 행렬을 전치(transpose)하여 행과 열을 바꿉니다.\n",
    "# 이로써 'A' 열과 'B' 열이 각각 [10, 9, 8, 7, 6]과 [5, 4, 3, 2, 1]로 구성된 데이터 프레임이 생성됩니다.\n",
    "rank_df = pd.DataFrame(np.arange(1, 11).reshape(2, 5)[::-1].T, columns=['A', 'B'])\n",
    "\n",
    "# 생성된 데이터 프레임 rank_df를 출력합니다.\n",
    "rank_df"
   ]
  },
  {
   "cell_type": "code",
   "execution_count": 47,
   "id": "78dd6c7d-c438-4749-b289-6cddddcc5c3a",
   "metadata": {},
   "outputs": [
    {
     "data": {
      "text/plain": [
       "25.000"
      ]
     },
     "execution_count": 47,
     "metadata": {},
     "output_type": "execute_result"
    }
   ],
   "source": [
    "# 데이터 프레임 rank_df의 'A' 열에서 모든 값을 합산합니다.\n",
    "# 이것은 'A' 열의 모든 값의 순위 합을 나타냅니다.\n",
    "# n1은 'A' 열의 길이를 나타내는 변수입니다. 이 변수는 코드 내에서 정의되어 있어야 합니다.\n",
    "# U 통계량(U statistic)은 Wilcoxon 순위 합 검정에서 사용되는 값으로,\n",
    "# 'A' 열의 순위 합에서 기대값인 (n1 * (n1 + 1)) / 2를 뺀 값을 나타냅니다.\n",
    "u = rank_df['A'].sum() - (n1*(n1+1))/2\n",
    "\n",
    "# 계산된 U 통계량 값을 출력합니다.\n",
    "u"
   ]
  },
  {
   "cell_type": "code",
   "execution_count": 48,
   "id": "d5e7821f-c230-458c-8b22-a31db82d62ac",
   "metadata": {},
   "outputs": [
    {
     "data": {
      "text/plain": [
       "0.059"
      ]
     },
     "execution_count": 48,
     "metadata": {},
     "output_type": "execute_result"
    }
   ],
   "source": [
    "# Mann-Whitney U 검정을 수행하고 유의확률(p-value)을 계산합니다.\n",
    "\n",
    "# stats.mannwhitneyu 함수를 사용하여 Mann-Whitney U 검정을 수행합니다.\n",
    "# training_ind['A']는 'A' 그룹의 데이터를 나타내며, training_ind['B']는 'B' 그룹의 데이터를 나타냅니다.\n",
    "# alternative='two-sided'는 양측 검정을 수행하겠다는 옵션입니다.\n",
    "u, p = stats.mannwhitneyu(training_ind['A'], training_ind['B'], alternative='two-sided')\n",
    "\n",
    "# Mann-Whitney U 검정의 결과로 얻은 유의확률(p-value)을 출력합니다.\n",
    "p"
   ]
  },
  {
   "cell_type": "code",
   "execution_count": 49,
   "id": "b2840eb0-2246-43f6-8406-72eee76dcd43",
   "metadata": {},
   "outputs": [
    {
     "name": "stdout",
     "output_type": "stream",
     "text": [
      "1000\n"
     ]
    },
    {
     "data": {
      "text/html": [
       "<div>\n",
       "<style scoped>\n",
       "    .dataframe tbody tr th:only-of-type {\n",
       "        vertical-align: middle;\n",
       "    }\n",
       "\n",
       "    .dataframe tbody tr th {\n",
       "        vertical-align: top;\n",
       "    }\n",
       "\n",
       "    .dataframe thead th {\n",
       "        text-align: right;\n",
       "    }\n",
       "</style>\n",
       "<table border=\"1\" class=\"dataframe\">\n",
       "  <thead>\n",
       "    <tr style=\"text-align: right;\">\n",
       "      <th></th>\n",
       "      <th>광고</th>\n",
       "      <th>구입</th>\n",
       "    </tr>\n",
       "  </thead>\n",
       "  <tbody>\n",
       "    <tr>\n",
       "      <th>0</th>\n",
       "      <td>B</td>\n",
       "      <td>하지 않았다</td>\n",
       "    </tr>\n",
       "    <tr>\n",
       "      <th>1</th>\n",
       "      <td>B</td>\n",
       "      <td>하지 않았다</td>\n",
       "    </tr>\n",
       "    <tr>\n",
       "      <th>2</th>\n",
       "      <td>A</td>\n",
       "      <td>했다</td>\n",
       "    </tr>\n",
       "    <tr>\n",
       "      <th>3</th>\n",
       "      <td>A</td>\n",
       "      <td>했다</td>\n",
       "    </tr>\n",
       "    <tr>\n",
       "      <th>4</th>\n",
       "      <td>B</td>\n",
       "      <td>하지 않았다</td>\n",
       "    </tr>\n",
       "  </tbody>\n",
       "</table>\n",
       "</div>"
      ],
      "text/plain": [
       "  광고      구입\n",
       "0  B  하지 않았다\n",
       "1  B  하지 않았다\n",
       "2  A      했다\n",
       "3  A      했다\n",
       "4  B  하지 않았다"
      ]
     },
     "execution_count": 49,
     "metadata": {},
     "output_type": "execute_result"
    }
   ],
   "source": [
    "ad_df = pd.read_csv('../python_stat_sample-master/data/ch11_ad.csv')\n",
    "n = len(ad_df)\n",
    "print(n)\n",
    "ad_df.head()"
   ]
  },
  {
   "cell_type": "code",
   "execution_count": 50,
   "id": "38002dc5-0b1c-4d97-b597-9636c8d1139e",
   "metadata": {},
   "outputs": [
    {
     "data": {
      "text/html": [
       "<div>\n",
       "<style scoped>\n",
       "    .dataframe tbody tr th:only-of-type {\n",
       "        vertical-align: middle;\n",
       "    }\n",
       "\n",
       "    .dataframe tbody tr th {\n",
       "        vertical-align: top;\n",
       "    }\n",
       "\n",
       "    .dataframe thead th {\n",
       "        text-align: right;\n",
       "    }\n",
       "</style>\n",
       "<table border=\"1\" class=\"dataframe\">\n",
       "  <thead>\n",
       "    <tr style=\"text-align: right;\">\n",
       "      <th>구입</th>\n",
       "      <th>하지 않았다</th>\n",
       "      <th>했다</th>\n",
       "    </tr>\n",
       "    <tr>\n",
       "      <th>광고</th>\n",
       "      <th></th>\n",
       "      <th></th>\n",
       "    </tr>\n",
       "  </thead>\n",
       "  <tbody>\n",
       "    <tr>\n",
       "      <th>A</th>\n",
       "      <td>351</td>\n",
       "      <td>49</td>\n",
       "    </tr>\n",
       "    <tr>\n",
       "      <th>B</th>\n",
       "      <td>549</td>\n",
       "      <td>51</td>\n",
       "    </tr>\n",
       "  </tbody>\n",
       "</table>\n",
       "</div>"
      ],
      "text/plain": [
       "구입  하지 않았다  했다\n",
       "광고            \n",
       "A      351  49\n",
       "B      549  51"
      ]
     },
     "execution_count": 50,
     "metadata": {},
     "output_type": "execute_result"
    }
   ],
   "source": [
    "# '광고' 열과 '구입' 열을 기반으로 크로스탭(crosstab)을 생성합니다.\n",
    "# 크로스탭은 두 범주형 변수 간의 교차 빈도를 나타냅니다.\n",
    "ad_cross = pd.crosstab(ad_df['광고'], ad_df['구입'])\n",
    "ad_cross"
   ]
  },
  {
   "cell_type": "code",
   "execution_count": 51,
   "id": "e65aa5aa-4fcb-49fc-870b-2e213bdd6b64",
   "metadata": {},
   "outputs": [
    {
     "data": {
      "text/plain": [
       "광고\n",
       "A    0.1225\n",
       "B    0.0850\n",
       "dtype: float64"
      ]
     },
     "execution_count": 51,
     "metadata": {},
     "output_type": "execute_result"
    }
   ],
   "source": [
    "# 크로스탭에서 '했다' 열을 '했다' 열과 '하지 않았다' 열을 합친 값으로 나누어\n",
    "# '했다' 열의 비율을 계산합니다.\n",
    "ad_cross['했다'] / (ad_cross['했다'] + ad_cross['하지 않았다'])"
   ]
  },
  {
   "cell_type": "code",
   "execution_count": 52,
   "id": "029710ad-7feb-44b4-9725-f02f1500fb45",
   "metadata": {},
   "outputs": [
    {
     "data": {
      "text/plain": [
       "(900, 100)"
      ]
     },
     "execution_count": 52,
     "metadata": {},
     "output_type": "execute_result"
    }
   ],
   "source": [
    "# 크로스탭에서 '했다' 열과 '하지 않았다' 열의 합계를 계산합니다.\n",
    "n_not, n_yes = ad_cross.sum()\n",
    "\n",
    "# '했다' 열과 '하지 않았다' 열의 합계를 출력합니다.\n",
    "n_not, n_yes"
   ]
  },
  {
   "cell_type": "code",
   "execution_count": 53,
   "id": "14a01a12-b644-4171-93a1-84f584b5ed5c",
   "metadata": {},
   "outputs": [
    {
     "data": {
      "text/plain": [
       "(400, 600)"
      ]
     },
     "execution_count": 53,
     "metadata": {},
     "output_type": "execute_result"
    }
   ],
   "source": [
    "# 각 광고 유형('A'와 'B')에 대한 관측치 합계를 계산합니다.\n",
    "# axis=1은 행 방향을 따라 합계를 계산하라는 것을 의미합니다.\n",
    "n_adA, n_adB = ad_cross.sum(axis=1)\n",
    "\n",
    "# n_adA와 n_adB는 각각 'A' 광고와 'B' 광고에 대한 관측치 합계를 나타냅니다.\n",
    "# 이 값을 출력합니다.\n",
    "n_adA, n_adB"
   ]
  },
  {
   "cell_type": "code",
   "execution_count": 54,
   "id": "845ed740-3959-49d7-a72d-1a2e462659f1",
   "metadata": {},
   "outputs": [
    {
     "data": {
      "text/html": [
       "<div>\n",
       "<style scoped>\n",
       "    .dataframe tbody tr th:only-of-type {\n",
       "        vertical-align: middle;\n",
       "    }\n",
       "\n",
       "    .dataframe tbody tr th {\n",
       "        vertical-align: top;\n",
       "    }\n",
       "\n",
       "    .dataframe thead th {\n",
       "        text-align: right;\n",
       "    }\n",
       "</style>\n",
       "<table border=\"1\" class=\"dataframe\">\n",
       "  <thead>\n",
       "    <tr style=\"text-align: right;\">\n",
       "      <th></th>\n",
       "      <th>했다</th>\n",
       "      <th>하지 않았다</th>\n",
       "    </tr>\n",
       "  </thead>\n",
       "  <tbody>\n",
       "    <tr>\n",
       "      <th>A</th>\n",
       "      <td>40.0</td>\n",
       "      <td>360.0</td>\n",
       "    </tr>\n",
       "    <tr>\n",
       "      <th>B</th>\n",
       "      <td>60.0</td>\n",
       "      <td>540.0</td>\n",
       "    </tr>\n",
       "  </tbody>\n",
       "</table>\n",
       "</div>"
      ],
      "text/plain": [
       "     했다  하지 않았다\n",
       "A  40.0   360.0\n",
       "B  60.0   540.0"
      ]
     },
     "execution_count": 54,
     "metadata": {},
     "output_type": "execute_result"
    }
   ],
   "source": [
    "# 기대 빈도(expected frequency)를 계산하기 위한 데이터 프레임을 생성합니다.\n",
    "\n",
    "# '했다'와 '하지 않았다'를 각 광고 유형('A'와 'B')에 대한 기대 빈도로 계산합니다.\n",
    "# n_adA * n_yes / n은 'A' 광고에 대한 '했다' 및 '하지 않았다'의 기대 빈도를 계산합니다.\n",
    "# n_adB * n_yes / n은 'B' 광고에 대한 '했다' 및 '하지 않았다'의 기대 빈도를 계산합니다.\n",
    "# index=['A', 'B']로 인덱스를 설정합니다.\n",
    "ad_ef = pd.DataFrame({'했다': [n_adA * n_yes / n, n_adB * n_yes / n],\n",
    "                     '하지 않았다': [n_adA * n_not / n, n_adB * n_not / n]},\n",
    "                     index=['A', 'B'])\n",
    "\n",
    "# 생성된 기대 빈도 데이터 프레임을 출력합니다.\n",
    "ad_ef"
   ]
  },
  {
   "cell_type": "code",
   "execution_count": 55,
   "id": "ab2bb7c8-da7e-4e1f-9656-946c33656b0d",
   "metadata": {},
   "outputs": [
    {
     "data": {
      "text/plain": [
       "3.750"
      ]
     },
     "execution_count": 55,
     "metadata": {},
     "output_type": "execute_result"
    }
   ],
   "source": [
    "# 카이제곱 통계량(Chi-squared statistic)을 계산합니다.\n",
    "\n",
    "# ad_cross는 관측 빈도를 나타내며, ad_ef는 기대 빈도를 나타냅니다.\n",
    "# (ad_cross - ad_ef) ** 2는 각 셀에서 관측 빈도와 기대 빈도의 차이를 제곱한 값을 나타냅니다.\n",
    "# 이를 기대 빈도로 나누어 카이제곱 통계량을 계산합니다.\n",
    "# .sum().sum()을 사용하여 모든 셀에서의 카이제곱 값을 합산합니다.\n",
    "y = ((ad_cross - ad_ef) ** 2 / ad_ef).sum().sum()\n",
    "\n",
    "# 계산된 카이제곱 통계량 값을 출력합니다.\n",
    "y"
   ]
  },
  {
   "cell_type": "code",
   "execution_count": 56,
   "id": "45fc92fa-4eda-4343-a99e-2129cd9d4a96",
   "metadata": {},
   "outputs": [
    {
     "data": {
      "text/plain": [
       "0.053"
      ]
     },
     "execution_count": 56,
     "metadata": {},
     "output_type": "execute_result"
    }
   ],
   "source": [
    "# 카이제곱 분포를 생성하고 유의확률(p-value)을 계산합니다.\n",
    "# stats.chi2(1)은 자유도가 1인 카이제곱 분포를 생성합니다.\n",
    "# 자유도 1은 카이제곱 검정에서 자주 사용되는 값 중 하나입니다.\n",
    "rv = stats.chi2(1)\n",
    "\n",
    "# 1 - rv.cdf(y)는 카이제곱 분포의 누적 분포 함수(CDF)를 사용하여\n",
    "# 카이제곱 통계량 y에 대한 유의확률(p-value)을 계산합니다.\n",
    "# 1에서 CDF 값을 빼서 상단 꼬리 영역의 확률을 계산합니다.\n",
    "1 - rv.cdf(y)"
   ]
  },
  {
   "cell_type": "code",
   "execution_count": 59,
   "id": "874b15c7-07e4-44f0-b6a8-116a4e6910f4",
   "metadata": {},
   "outputs": [
    {
     "data": {
      "text/plain": [
       "(3.750, 0.053, 1)"
      ]
     },
     "execution_count": 59,
     "metadata": {},
     "output_type": "execute_result"
    }
   ],
   "source": [
    "# 카이제곱 독립성 검정을 수행하고 검정 통계량(chi2), 유의확률(p-value), 자유도(dof)를 계산합니다.\n",
    "\n",
    "# stats.chi2_contingency 함수를 사용하여 카이제곱 독립성 검정을 수행합니다.\n",
    "# ad_cross는 크로스탭 테이블을 나타냅니다.\n",
    "# correction=False는 Yates' 보정(Yates' continuity correction)을 사용하지 않겠다는 옵션입니다.\n",
    "chi2, p, dof, ef = stats.chi2_contingency(ad_cross, correction=False)\n",
    "\n",
    "# 계산된 검정 통계량(chi2), 유의확률(p-value), 자유도(dof)를 출력합니다.\n",
    "chi2, p, dof"
   ]
  },
  {
   "cell_type": "code",
   "execution_count": 60,
   "id": "7ee55964-632b-407c-b0c1-be5fc2c85a5b",
   "metadata": {},
   "outputs": [
    {
     "data": {
      "text/plain": [
       "array([[360.,  40.],\n",
       "       [540.,  60.]])"
      ]
     },
     "execution_count": 60,
     "metadata": {},
     "output_type": "execute_result"
    }
   ],
   "source": [
    "# 기대빈도\n",
    "ef"
   ]
  }
 ],
 "metadata": {
  "kernelspec": {
   "display_name": "Python 3 (ipykernel)",
   "language": "python",
   "name": "python3"
  },
  "language_info": {
   "codemirror_mode": {
    "name": "ipython",
    "version": 3
   },
   "file_extension": ".py",
   "mimetype": "text/x-python",
   "name": "python",
   "nbconvert_exporter": "python",
   "pygments_lexer": "ipython3",
   "version": "3.9.13"
  }
 },
 "nbformat": 4,
 "nbformat_minor": 5
}
