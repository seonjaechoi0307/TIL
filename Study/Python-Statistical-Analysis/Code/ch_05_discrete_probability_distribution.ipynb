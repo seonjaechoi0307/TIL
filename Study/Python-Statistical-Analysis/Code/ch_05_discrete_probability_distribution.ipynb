{
 "cells": [
  {
   "cell_type": "markdown",
   "metadata": {
    "id": "afF3wWQR_pN6"
   },
   "source": [
    "# CHAPTER 05. 이산형 확률변수"
   ]
  },
  {
   "cell_type": "code",
   "execution_count": 1,
   "metadata": {
    "colab": {
     "base_uri": "https://localhost:8080/"
    },
    "id": "CgIgz3kS4lvQ",
    "outputId": "a134d32b-7695-4bbd-a8ae-02d87e139933"
   },
   "outputs": [],
   "source": [
    "# from google.colab import drive\n",
    "# drive.mount('/content/mydrive')"
   ]
  },
  {
   "cell_type": "code",
   "execution_count": 2,
   "metadata": {
    "id": "xYT_6hww47Gn"
   },
   "outputs": [],
   "source": [
    "import numpy as np\n",
    "import pandas as pd\n",
    "import matplotlib.pyplot as plt\n",
    "\n",
    "# 주피터 환경 전용\n",
    "%precision 3\n",
    "%matplotlib inline\n",
    "\n",
    "# 코랩 환경도 적용\n",
    "np.set_printoptions(precision=3)\n",
    "pd.options.display.float_format = '{:,.3f}'.format"
   ]
  },
  {
   "cell_type": "markdown",
   "metadata": {
    "id": "0qh4EdYJ_mtJ"
   },
   "source": [
    "## 1차원 이산형 확률변수"
   ]
  },
  {
   "cell_type": "code",
   "execution_count": 3,
   "metadata": {
    "id": "yLI9G1MU8AM_"
   },
   "outputs": [],
   "source": [
    "# 주사위의 가능한 결과(눈금)를 나타내는 배열 생성\n",
    "# 통계에서, 이러한 결과들을 표본 공간의 원소라고 부릅니다.\n",
    "# 즉, 주사위를 던질 때 나올 수 있는 모든 결과를 나열한 것입니다.\n",
    "x_set = np.array([1, 2, 3, 4, 5, 6])"
   ]
  },
  {
   "cell_type": "code",
   "execution_count": 4,
   "metadata": {
    "id": "e9m_hbDM8IYw"
   },
   "outputs": [],
   "source": [
    "def f(x):\n",
    "    # x가 x_set(주사위의 가능한 눈금)에 포함되어 있다면\n",
    "    if x in x_set:\n",
    "        # 확률 값을 반환합니다. 여기서는 x/21이라는 규칙을 따르는데,\n",
    "        # 이는 각 눈금의 확률을 특정한 방식으로 나타내려고 함을 의미합니다.\n",
    "        # 예를 들어, x=1일 때 확률은 1/21, x=2일 때 확률은 2/21로 계산됩니다.\n",
    "        return x / 21\n",
    "    else:\n",
    "        # x가 x_set에 포함되어 있지 않다면 확률은 0입니다.\n",
    "        # 즉, 주사위의 눈금 외의 다른 결과에 대한 확률은 0이라고 가정하는 것입니다.\n",
    "        return 0"
   ]
  },
  {
   "cell_type": "code",
   "execution_count": 5,
   "metadata": {
    "id": "X7pMRJLy8SyT"
   },
   "outputs": [],
   "source": [
    "# 확률 변수 X를 정의합니다.\n",
    "# X는 2개의 요소로 구성된 리스트입니다.\n",
    "# 첫 번째 요소 x_set은 확률 변수 X가 취할 수 있는 모든 가능한 값들의 집합(표본 공간)을 나타냅니다.\n",
    "# 두 번째 요소 f는 확률 질량 함수(PMF)로, x_set에 있는 특정 값 x에 대한 확률을 반환합니다.\n",
    "X = [x_set, f]"
   ]
  },
  {
   "cell_type": "code",
   "execution_count": 6,
   "metadata": {
    "colab": {
     "base_uri": "https://localhost:8080/"
    },
    "id": "uJCwrTuu8WsU",
    "outputId": "fc179822-2c10-415c-e04c-711fb4317889"
   },
   "outputs": [
    {
     "data": {
      "text/plain": [
       "{1: 0.048, 2: 0.095, 3: 0.143, 4: 0.190, 5: 0.238, 6: 0.286}"
      ]
     },
     "execution_count": 6,
     "metadata": {},
     "output_type": "execute_result"
    }
   ],
   "source": [
    "# 확률 변수 X가 취할 수 있는 각 값 x_k에 대한 확률 p_k를 계산합니다.\n",
    "# 여기서 f는 확률 질량 함수(probability mass function, PMF)로, \n",
    "# 주어진 x_k에 대한 확률 값을 반환합니다.\n",
    "prob = np.array([f(x_k) for x_k in x_set])\n",
    "\n",
    "# 각 확률 변수의 값 x_k와 그에 대응하는 확률 p_k를 사전(dictionary) 형태로 만듭니다.\n",
    "# 이렇게 하면 x_k 값을 key로 사용하여 해당 확률 p_k를 쉽게 찾을 수 있습니다.\n",
    "dict(zip(x_set, prob))\n",
    "\n",
    "# 결과적으로 dict_mapping은 x_k와 p_k의 대응 관계를 나타내는 사전입니다."
   ]
  },
  {
   "cell_type": "code",
   "execution_count": 7,
   "metadata": {
    "colab": {
     "base_uri": "https://localhost:8080/",
     "height": 547
    },
    "id": "An29GML_8nTm",
    "outputId": "5176e70a-7d69-48fb-d821-3d2ce8d36a3a"
   },
   "outputs": [
    {
     "data": {
      "image/png": "[encoded data removed]",
      "text/plain": [
       "<Figure size 1000x600 with 1 Axes>"
      ]
     },
     "metadata": {},
     "output_type": "display_data"
    }
   ],
   "source": [
    "# plt.figure를 통해 그래프의 전체 크기와 모양을 정의합니다.\n",
    "# figsize는 그래프의 크기를 정의하는 튜플입니다. 여기서는 가로 10 인치, 세로 6 인치 크기로 설정되었습니다.\n",
    "fig = plt.figure(figsize=(10, 6))\n",
    "\n",
    "# fig.add_subplot(111)을 통해 1x1 그리드의 첫 번째 서브 플롯을 생성합니다.\n",
    "# ax는 이 서브플롯에 대한 참조입니다. 이 참조를 사용하여 서브플롯에 다양한 설정을 할 수 있습니다.\n",
    "ax = fig.add_subplot(111)\n",
    "\n",
    "# ax.bar는 막대 그래프를 그리는 함수입니다. \n",
    "# x_set에는 이산형 확률 변수가 취할 수 있는 값들이, prob에는 해당 값들의 확률이 저장되어 있습니다.\n",
    "# 따라서 x_set와 prob에 저장된 값을 사용하여 확률 분포를 막대 그래프로 표현합니다.\n",
    "ax.bar(x_set, prob)\n",
    "\n",
    "# x축과 y축의 라벨을 설정합니다.\n",
    "# 여기서 x축은 확률 변수가 취할 수 있는 값들을, y축은 그 값들의 확률을 나타냅니다.\n",
    "ax.set_xlabel('value')\n",
    "ax.set_ylabel('probability') # 'probability'는 확률을 의미합니다.\n",
    "\n",
    "# 그래프를 화면에 표시합니다.\n",
    "plt.show()"
   ]
  },
  {
   "cell_type": "code",
   "execution_count": 8,
   "metadata": {
    "colab": {
     "base_uri": "https://localhost:8080/"
    },
    "id": "XfoCdT_m9E8e",
    "outputId": "e24a5202-3fa0-4519-9e8b-bb0155dcfdc7"
   },
   "outputs": [
    {
     "data": {
      "text/plain": [
       "True"
      ]
     },
     "execution_count": 8,
     "metadata": {},
     "output_type": "execute_result"
    }
   ],
   "source": [
    "# `np.all` 함수는 배열 내의 모든 요소가 주어진 조건을 만족하는지 검사합니다.\n",
    "# 여기서는 `prob >= 0`이라는 조건을 사용하여 prob 배열의 모든 값이 0 또는 0보다 큰지 검사합니다.\n",
    "# 결과는 True 또는 False로 반환됩니다.\n",
    "# True: prob 배열의 모든 요소가 0 이상입니다. (이상적으로 확률 분포의 요소들은 모두 0 이상이어야 합니다.)\n",
    "# False: prob 배열에 0보다 작은 값이 하나 이상 포함되어 있습니다. (이는 확률 분포로서 유효하지 않습니다.)\n",
    "np.all(prob >= 0)"
   ]
  },
  {
   "cell_type": "code",
   "execution_count": 9,
   "metadata": {
    "colab": {
     "base_uri": "https://localhost:8080/"
    },
    "id": "6lrFWrKj9UH1",
    "outputId": "5fbe0716-3606-4810-8d68-b3e851518ebf"
   },
   "outputs": [
    {
     "data": {
      "text/plain": [
       "1.000"
      ]
     },
     "execution_count": 9,
     "metadata": {},
     "output_type": "execute_result"
    }
   ],
   "source": [
    "# `prob` 배열(또는 리스트)의 모든 원소들의 합을 계산하고,\n",
    "# 주로 `prob`가 확률 분포를 나타내는 경우, 그 합이 1에 가까운지 확인하는 데 사용될 수 있다.\n",
    "np.sum(prob)"
   ]
  },
  {
   "cell_type": "code",
   "execution_count": 10,
   "metadata": {
    "id": "hUADGnz29Vxb"
   },
   "outputs": [],
   "source": [
    "def F(x):\n",
    "    # `x_set`에서 x 이하의 모든 값을 대상으로 확률 질량 함수 f를 적용하고,\n",
    "    # 그 결과들의 합을 반환한다. 이로써 누적 분포 함수의 값을 얻는다.\n",
    "    return np.sum([f(x_k) for x_k in x_set if x_k <= x])"
   ]
  },
  {
   "cell_type": "code",
   "execution_count": 11,
   "metadata": {
    "colab": {
     "base_uri": "https://localhost:8080/"
    },
    "id": "WPPXycDDN_GZ",
    "outputId": "62151c73-921d-4416-be4a-c65ddba98a24"
   },
   "outputs": [
    {
     "data": {
      "text/plain": [
       "0.286"
      ]
     },
     "execution_count": 11,
     "metadata": {},
     "output_type": "execute_result"
    }
   ],
   "source": [
    "# `F`는 누적 분포 함수이므로, `F(3)`은 확률 변수 X의 값이 3 이하일 확률을 반환한다.\n",
    "F(3)"
   ]
  },
  {
   "cell_type": "code",
   "execution_count": 12,
   "metadata": {
    "colab": {
     "base_uri": "https://localhost:8080/"
    },
    "id": "j0xHgobx_N2t",
    "outputId": "dbf60216-1920-4f66-c013-1d7fea6827d3"
   },
   "outputs": [],
   "source": [
    "# `x_set`의 각 원소에 선형 변환 2x + 3을 적용하여 y_set을 생성한다.\n",
    "y_set = np.array([2 * x_k + 3 for x_k in x_set])\n",
    "\n",
    "# `x_set`의 각 원소에 확률 질량 함수 f를 적용하여 해당 원소의 확률을 얻는다.\n",
    "prob = np.array([f(x_k) for x_k in x_set])\n",
    "\n",
    "# y_set의 값과 해당 확률을 쌍으로 묶어 딕셔너리 형태로 반환한다.\n",
    "# 이 딕셔너리는 확률 변수 Y의 확률 분포를 나타낸다.\n",
    "y_prob_distribution = dict(zip(y_set, prob))"
   ]
  },
  {
   "cell_type": "code",
   "execution_count": 13,
   "metadata": {
    "colab": {
     "base_uri": "https://localhost:8080/"
    },
    "id": "ngbg_con_dS2",
    "outputId": "0a6cf3d8-fff0-4bcb-b15d-ad5198063c0a"
   },
   "outputs": [
    {
     "data": {
      "text/plain": [
       "4.333"
      ]
     },
     "execution_count": 13,
     "metadata": {},
     "output_type": "execute_result"
    }
   ],
   "source": [
    "# `x_set`의 각 원소에 대해 해당 원소의 값과 그 원소의 확률을 곱하고,\n",
    "# 그 결과들의 합을 계산하여 확률 변수 X의 기대값(또는 평균)을 반환한다.\n",
    "np.sum([x_k * f(x_k) for x_k in x_set])"
   ]
  },
  {
   "cell_type": "code",
   "execution_count": 14,
   "metadata": {
    "colab": {
     "base_uri": "https://localhost:8080/"
    },
    "id": "QA0JmaI4Aswj",
    "outputId": "ee2426dd-3045-40bb-8a63-8217fc099aef"
   },
   "outputs": [
    {
     "data": {
      "text/plain": [
       "4.332"
      ]
     },
     "execution_count": 14,
     "metadata": {},
     "output_type": "execute_result"
    }
   ],
   "source": [
    "# `x_set`에서 주어진 확률 분포 `prob`를 기반으로 1,000,000개의 표본을 무작위로 추출한다.\n",
    "sample = np.random.choice(x_set, int(1e6), p=prob)\n",
    "\n",
    "# 추출된 표본들의 평균 값을 계산한다.\n",
    "np.mean(sample)"
   ]
  },
  {
   "cell_type": "code",
   "execution_count": 15,
   "metadata": {
    "id": "zx_9skaIA-YF"
   },
   "outputs": [],
   "source": [
    "def E(X, g=lambda x: x):\n",
    "    \"\"\"\n",
    "    확률변수 X의 기댓값을 계산하는 함수.\n",
    "\n",
    "    Parameters:\n",
    "    - X (tuple): 확률변수 X의 정의. \n",
    "                 X는 (x_set, f)의 튜플 형태로 주어져야 합니다.\n",
    "                 x_set은 확률변수 X가 취할 수 있는 값들의 집합, \n",
    "                 f는 그 값들에 대한 확률질량함수를 나타냅니다.\n",
    "    - g (function, optional): g(x)는 확률변수 X에 대한 함수로, \n",
    "                              기본적으로 항등함수로 설정됩니다.\n",
    "\n",
    "    Returns:\n",
    "    - float: g(X)의 기댓값. \n",
    "\n",
    "    예시:\n",
    "    X가 다음과 같이 주어질 경우:\n",
    "    x_set = {1, 2, 3}\n",
    "    f = {1: 0.2, 2: 0.5, 3: 0.3}\n",
    "    E(X)는 1*0.2 + 2*0.5 + 3*0.3 = 2.1을 반환합니다.\n",
    "    \"\"\"\n",
    "\n",
    "    # X에서 x_set(값들의 집합)과 f(확률질량함수)를 추출합니다.\n",
    "    x_set, f = X\n",
    "\n",
    "    # 각 값 x_k에 대해 함수 g를 적용한 후, 그 결과에 확률 f(x_k)를 곱합니다.\n",
    "    # 이렇게 계산된 모든 값을 합하여 기댓값을 반환합니다.\n",
    "    return np.sum([g(x_k) * f(x_k) for x_k in x_set])"
   ]
  },
  {
   "cell_type": "code",
   "execution_count": 16,
   "metadata": {
    "colab": {
     "base_uri": "https://localhost:8080/"
    },
    "id": "hlEsCM-FBoZ2",
    "outputId": "eac0f401-6c19-4c10-87ed-6e1c513c36de"
   },
   "outputs": [
    {
     "data": {
      "text/plain": [
       "4.333"
      ]
     },
     "execution_count": 16,
     "metadata": {},
     "output_type": "execute_result"
    }
   ],
   "source": [
    "E(X)"
   ]
  },
  {
   "cell_type": "code",
   "execution_count": 17,
   "metadata": {
    "colab": {
     "base_uri": "https://localhost:8080/"
    },
    "id": "VCQz7vG1BpcX",
    "outputId": "d991e7c0-c8b7-48a9-edfd-cd635ed4cc0b"
   },
   "outputs": [
    {
     "data": {
      "text/plain": [
       "11.667"
      ]
     },
     "execution_count": 17,
     "metadata": {},
     "output_type": "execute_result"
    }
   ],
   "source": [
    "# E 함수를 호출하여 확률변수 X의 기댓값을 계산합니다.\n",
    "# 여기서 주어진 함수 g는 확률변수 X의 각 값에 2를 곱하고 3을 더하는 변환을 의미합니다.\n",
    "# 즉, 이 코드는 확률변수 X의 각 값에 대해 2x + 3 변환을 적용한 후 그 변환된 값들의 기댓값을 계산하려는 것입니다.\n",
    "E(X, g=lambda x: 2*x + 3)"
   ]
  },
  {
   "cell_type": "code",
   "execution_count": 18,
   "metadata": {
    "colab": {
     "base_uri": "https://localhost:8080/"
    },
    "id": "PR74ZbRVBy3a",
    "outputId": "f50ad537-35ee-4db7-ae71-9ff0aadd2274"
   },
   "outputs": [
    {
     "data": {
      "text/plain": [
       "11.667"
      ]
     },
     "execution_count": 18,
     "metadata": {},
     "output_type": "execute_result"
    }
   ],
   "source": [
    "2 * E(X) + 3"
   ]
  },
  {
   "cell_type": "code",
   "execution_count": 19,
   "metadata": {
    "colab": {
     "base_uri": "https://localhost:8080/"
    },
    "id": "_3iqDGFCCGPb",
    "outputId": "9b02fe5d-6ecb-4304-d20a-df02c9c4218e"
   },
   "outputs": [
    {
     "data": {
      "text/plain": [
       "2.222"
      ]
     },
     "execution_count": 19,
     "metadata": {},
     "output_type": "execute_result"
    }
   ],
   "source": [
    "mean = E(X)\n",
    "np.sum([(x_k-mean)**2 * f(x_k) for x_k in x_set])"
   ]
  },
  {
   "cell_type": "code",
   "execution_count": 20,
   "metadata": {
    "id": "jBKeKQP7Co66"
   },
   "outputs": [],
   "source": [
    "# E(X)는 확률변수 X의 기댓값을 계산합니다. \n",
    "# 기댓값은 확률변수의 \"평균적인\" 값을 나타내는 통계적 척도입니다.\n",
    "# 여기서는 그 기댓값에 2를 곱하고 3을 더하는 연산을 수행합니다.\n",
    "result = 2 * E(X) + 3"
   ]
  },
  {
   "cell_type": "code",
   "execution_count": 21,
   "metadata": {},
   "outputs": [],
   "source": [
    "def V(x, g=lambda x: x):\n",
    "    x_set, f = X\n",
    "    mean = E(X, g)\n",
    "    return np.sum([(g(x_k)-mean)**2 * f(x_k) for x_k in x_set])"
   ]
  },
  {
   "cell_type": "code",
   "execution_count": 22,
   "metadata": {
    "colab": {
     "base_uri": "https://localhost:8080/"
    },
    "id": "M_zoCSRfDHKr",
    "outputId": "689e4ed3-831d-4402-d320-72294b37f13c"
   },
   "outputs": [
    {
     "data": {
      "text/plain": [
       "2.222"
      ]
     },
     "execution_count": 22,
     "metadata": {},
     "output_type": "execute_result"
    }
   ],
   "source": [
    "V(X)"
   ]
  },
  {
   "cell_type": "code",
   "execution_count": 23,
   "metadata": {
    "colab": {
     "base_uri": "https://localhost:8080/"
    },
    "id": "A5WuPqnmDJO1",
    "outputId": "5142e881-93d1-438c-9744-5c3a50d894b3"
   },
   "outputs": [
    {
     "data": {
      "text/plain": [
       "8.889"
      ]
     },
     "execution_count": 23,
     "metadata": {},
     "output_type": "execute_result"
    }
   ],
   "source": [
    "V(X, lambda x: 2*x +3)"
   ]
  },
  {
   "cell_type": "code",
   "execution_count": 24,
   "metadata": {
    "colab": {
     "base_uri": "https://localhost:8080/"
    },
    "id": "NpBnoRabDN34",
    "outputId": "c609465d-6181-42a0-f5bb-a9a60c747e83"
   },
   "outputs": [
    {
     "data": {
      "text/plain": [
       "8.889"
      ]
     },
     "execution_count": 24,
     "metadata": {},
     "output_type": "execute_result"
    }
   ],
   "source": [
    "2**2 * V(X)"
   ]
  },
  {
   "cell_type": "markdown",
   "metadata": {
    "id": "NDuFYGltDhpV"
   },
   "source": [
    "## 2차원 이산형 확률변수"
   ]
  },
  {
   "cell_type": "code",
   "execution_count": 25,
   "metadata": {
    "id": "cS-JIHNCDgWE"
   },
   "outputs": [],
   "source": [
    "# X 확률 변수가 취할 수 있는 값의 집합을 생성합니다.\n",
    "# 여기서는 2부터 12까지의 정수 값을 포함하는 배열입니다.\n",
    "x_set = np.arange(2, 13)\n",
    "\n",
    "# Y 확률 변수가 취할 수 있는 값의 집합을 생성합니다.\n",
    "# 여기서는 1부터 6까지의 정수 값을 포함하는 배열입니다.\n",
    "y_set = np.arange(1, 7)"
   ]
  },
  {
   "cell_type": "code",
   "execution_count": 26,
   "metadata": {
    "id": "l71_xSwLGRiL"
   },
   "outputs": [],
   "source": [
    "def f_XY(x, y):\n",
    "    \n",
    "    # x와 y가 모두 특정 조건을 만족할 때 확률 값을 계산합니다.\n",
    "    # 여기서 y는 1과 6 사이의 값을 가져야 하며, x-y도 1과 6 사이의 값을 가져야 합니다.\n",
    "    if 1 <= y <= 6 and 1 <= x - y <= 6:\n",
    "        \n",
    "        # 확률 질량 함수의 값을 계산하여 반환합니다.\n",
    "        # y와 (x-y)를 곱한 값에 441로 나누어 확률 값을 구합니다.\n",
    "        # 이 확률 값은 주사위 두 개를 던졌을 때의 합과 관련이 있을 수 있습니다.\n",
    "        # 예를 들어, (x, y) = (3, 1)일 때, 첫 번째 주사위에서 1, 두 번째 주사위에서 2가 나와서 합이 3이 될 확률을 계산합니다.\n",
    "        return y * (x - y) / 441\n",
    "        \n",
    "    else:\n",
    "        \n",
    "        # 만약 x와 y가 주어진 조건을 만족하지 않는다면 확률은 0입니다.\n",
    "        return 0"
   ]
  },
  {
   "cell_type": "code",
   "execution_count": 27,
   "metadata": {
    "id": "AEhymjh4Gfcn"
   },
   "outputs": [],
   "source": [
    "# 결합 확률 질량 함수 f_XY를 정의합니다.\n",
    "# 이 함수는 이전 코드 블록에서 정의되었습니다.\n",
    "\n",
    "# XY는 확률 변수 X와 Y, 그리고 이들의 결합 확률 질량 함수를 포함하는 리스트입니다.\n",
    "# 이 구조를 사용하여 두 확률 변수의 확률 분포 및 통계적 특성을 분석할 수 있습니다.\n",
    "XY = [x_set, y_set, f_XY]"
   ]
  },
  {
   "cell_type": "code",
   "execution_count": 28,
   "metadata": {
    "colab": {
     "base_uri": "https://localhost:8080/",
     "height": 685
    },
    "id": "Hh6Ex5Z2GnnL",
    "outputId": "654ce3ac-776c-471a-ed7e-7424f6274193"
   },
   "outputs": [
    {
     "data": {
      "image/png": "[encoded data removed]",
      "text/plain": [
       "<Figure size 1000x800 with 2 Axes>"
      ]
     },
     "metadata": {},
     "output_type": "display_data"
    }
   ],
   "source": [
    "# 확률 변수 X와 Y의 결합 확률 분포를 계산합니다.\n",
    "# prob는 각 (x, y) 쌍에 대한 확률 값을 포함하는 2차원 배열입니다.\n",
    "prob = np.array([[f_XY(x_i, y_j) for y_j in y_set] for x_i in x_set])\n",
    "\n",
    "# 확률 분포를 시각화하기 위해 matplotlib의 pyplot을 사용합니다.\n",
    "fig = plt.figure(figsize=(10, 8))\n",
    "ax = fig.add_subplot(111)\n",
    "\n",
    "# prob 배열의 값에 따라 색상을 지정하여 2차원 확률 분포를 시각화합니다.\n",
    "c = ax.pcolor(prob)\n",
    "\n",
    "# x축과 y축에 눈금을 설정합니다. \n",
    "ax.set_xticks(np.arange(prob.shape[1]) + 0.5, minor=False)\n",
    "ax.set_yticks(np.arange(prob.shape[0]) + 0.5, minor=False)\n",
    "\n",
    "# x축과 y축에 레이블을 설정합니다.\n",
    "ax.set_xticklabels(np.arange(1, 7), minor=False)\n",
    "ax.set_yticklabels(np.arange(2, 13), minor=False)\n",
    "\n",
    "# y축의 숫자를 역순으로 표시합니다.\n",
    "ax.invert_yaxis()\n",
    "\n",
    "# x축 눈금을 그래프의 위쪽에 표시합니다.\n",
    "ax.xaxis.tick_top()\n",
    "\n",
    "# 색상 막대를 그래프에 추가하여, 색상이 확률 값을 어떻게 나타내는지 표시합니다.\n",
    "fig.colorbar(c, ax=ax)\n",
    "\n",
    "# 그래프를 표시합니다.\n",
    "plt.show()"
   ]
  },
  {
   "cell_type": "code",
   "execution_count": 29,
   "metadata": {
    "colab": {
     "base_uri": "https://localhost:8080/"
    },
    "id": "Gnw6U1X7HWu5",
    "outputId": "1a064719-2077-4d80-ea2a-ecd38c2faf26"
   },
   "outputs": [
    {
     "data": {
      "text/plain": [
       "True"
      ]
     },
     "execution_count": 29,
     "metadata": {},
     "output_type": "execute_result"
    }
   ],
   "source": [
    "np.all(prob >= 0)"
   ]
  },
  {
   "cell_type": "code",
   "execution_count": 30,
   "metadata": {
    "colab": {
     "base_uri": "https://localhost:8080/"
    },
    "id": "6iTVE6joH1yE",
    "outputId": "73cbea0a-5a98-4ffc-bb0c-4e42ac148489"
   },
   "outputs": [
    {
     "data": {
      "text/plain": [
       "1.000"
      ]
     },
     "execution_count": 30,
     "metadata": {},
     "output_type": "execute_result"
    }
   ],
   "source": [
    "np.sum(prob)"
   ]
  },
  {
   "cell_type": "code",
   "execution_count": 31,
   "metadata": {
    "id": "Hfjzf2cmH2-F"
   },
   "outputs": [],
   "source": [
    "# 이 함수는 주변 확률분포(marginal probability distribution)를 계산하기 위한 함수입니다.\n",
    "def f_X(x):\n",
    "    \n",
    "    # f_XY(x, y)는 x와 y의 결합 확률분포(joint probability distribution)를 나타냅니다.\n",
    "    # 여기서는 x 값이 주어졌을 때, 모든 y 값에 대한 확률을 합산하여\n",
    "    # x만의 확률을 계산하는 것입니다.\n",
    "    \n",
    "    # 리스트 내포를 사용하여 y_set의 모든 y_k 값에 대해 f_XY(x, y_k)를 계산하고\n",
    "    # 그 결과를 합산(np.sum)하여 반환합니다.\n",
    "    return np.sum([f_XY(x, y_k) for y_k in y_set])"
   ]
  },
  {
   "cell_type": "code",
   "execution_count": 32,
   "metadata": {
    "id": "bHR2jmFQI1yK"
   },
   "outputs": [],
   "source": [
    "# f_Y 함수는 주어진 y 값에 대한 결합 확률 분포 f_XY의 주변 확률 분포를 계산하는 함수입니다.\n",
    "def f_Y(y):\n",
    "    \n",
    "    # x_set 내의 각 x 값에 대해 f_XY(x, y)를 계산하고,\n",
    "    # 그 결과들의 합을 반환하여 Y 확률 변수의 특정 값 y에 대한 확률을 얻습니다.\n",
    "    return np.sum([f_XY(x_k, y) for x_k in x_set])"
   ]
  },
  {
   "cell_type": "code",
   "execution_count": 33,
   "metadata": {
    "id": "OycSkjsxJICw"
   },
   "outputs": [],
   "source": [
    "# X는 X 확률 변수와 관련된 정보를 담는 리스트입니다.\n",
    "# X[0]은 X 확률 변수가 취할 수 있는 모든 값의 집합을 포함하고 있습니다.\n",
    "# X[1]은 X 확률 변수의 특정 값에 대한 확률을 반환하는 함수 f_X를 포함하고 있습니다.\n",
    "X = [x_set, f_X]\n",
    "\n",
    "# Y는 Y 확률 변수와 관련된 정보를 담는 리스트입니다.\n",
    "# Y[0]은 Y 확률 변수가 취할 수 있는 모든 값의 집합을 포함하고 있습니다.\n",
    "# Y[1]은 Y 확률 변수의 특정 값에 대한 확률을 반환하는 함수 f_Y를 포함하고 있습니다.\n",
    "Y = [y_set, f_Y]"
   ]
  },
  {
   "cell_type": "code",
   "execution_count": 60,
   "metadata": {
    "colab": {
     "base_uri": "https://localhost:8080/",
     "height": 410
    },
    "id": "iZgF56LBJNj5",
    "outputId": "f38ab064-3b6e-41c7-98dc-6d6c75aa3b5e"
   },
   "outputs": [
    {
     "data": {
      "image/png": "[encoded data removed]",
      "text/plain": [
       "<Figure size 1200x400 with 2 Axes>"
      ]
     },
     "metadata": {},
     "output_type": "display_data"
    }
   ],
   "source": [
    "# X 확률 변수의 주변 확률 분포를 계산합니다.\n",
    "# x_set 내의 각 값에 대한 확률 값을 배열로 생성합니다.\n",
    "prob_x = np.array([f_X(x_k) for x_k in x_set])\n",
    "\n",
    "# Y 확률 변수의 주변 확률 분포를 계산합니다.\n",
    "# y_set 내의 각 값에 대한 확률 값을 배열로 생성합니다.\n",
    "prob_y = np.array([f_Y(y_k) for y_k in y_set])\n",
    "\n",
    "# 그래프의 크기를 설정하고 두 개의 서브플롯을 생성합니다.\n",
    "fig = plt.figure(figsize=(12, 4))\n",
    "ax1 = fig.add_subplot(121)\n",
    "ax2 = fig.add_subplot(122)\n",
    "\n",
    "# 첫 번째 서브플롯(ax1)에 X 확률 변수의 주변 확률 분포를 막대 그래프로 표시합니다.\n",
    "ax1.bar(x_set, prob_x)\n",
    "ax1.set_title('X_marginal probability distribution')  # 그래프 제목 설정\n",
    "ax1.set_xlabel('X_value')  # x축 라벨 설정\n",
    "ax1.set_ylabel('probability')  # y축 라벨 설정\n",
    "ax1.set_xticks(x_set)  # x축 눈금 설정\n",
    "\n",
    "# 두 번째 서브플롯(ax2)에 Y 확률 변수의 주변 확률 분포를 막대 그래프로 표시합니다.\n",
    "ax2.bar(y_set, prob_y)\n",
    "ax2.set_title('Y_marginal probability distribution')  # 그래프 제목 설정\n",
    "ax2.set_xlabel('Y_value')  # x축 라벨 설정\n",
    "ax2.set_ylabel('probability')  # y축 라벨 설정\n",
    "\n",
    "# 두 개의 서브플롯을 함께 표시합니다.\n",
    "plt.show()"
   ]
  },
  {
   "cell_type": "code",
   "execution_count": 61,
   "metadata": {
    "colab": {
     "base_uri": "https://localhost:8080/"
    },
    "id": "jf3ua0YrKhSs",
    "outputId": "29ba005a-bfe3-41c6-cc66-b841c0f2b95a"
   },
   "outputs": [
    {
     "data": {
      "text/plain": [
       "8.667"
      ]
     },
     "execution_count": 61,
     "metadata": {},
     "output_type": "execute_result"
    }
   ],
   "source": [
    "# 주어진 결합 확률밀도함수 f_XY(x, y)를 사용하여 X의 기대값을 계산합니다.\n",
    "# 이를 위해 각 x_i 값과 그에 해당하는 f_XY(x_i, y_j) 값을 곱한 후 모두 합합니다.\n",
    "# 이때, 모든 가능한 x_i와 y_j 조합을 고려합니다.\n",
    "\n",
    "expected_value = np.sum([x_i * f_XY(x_i, y_j) for x_i in x_set for y_j in y_set])"
   ]
  },
  {
   "cell_type": "code",
   "execution_count": 62,
   "metadata": {
    "id": "NslbO6AFKxsT"
   },
   "outputs": [],
   "source": [
    "# E 함수는 두 확률변수 X, Y의 결합 확률밀도함수와 임의의 함수 g를 입력으로 받아서,\n",
    "# g의 기대값을 계산하는 함수입니다.\n",
    "\n",
    "def E(XY, g):\n",
    "    \n",
    "    # XY는 [x_set, y_set, f_XY] 형태의 리스트입니다.\n",
    "    # x_set, y_set은 각각 확률변수 X와 Y가 취할 수 있는 값의 집합을 의미하고,\n",
    "    # f_XY는 X와 Y의 결합 확률밀도함수를 의미합니다.\n",
    "    x_set, y_set, f_XY = XY\n",
    "\n",
    "    # g(x_i, y_j)는 x_i와 y_j에 대한 g의 값이며,\n",
    "    # f_XY(x_i, y_j)는 x_i와 y_j에서의 결합 확률밀도함수의 값을 의미합니다.\n",
    "    # 이 두 값을 곱하고 모든 가능한 x_i와 y_j 조합에 대해 합을 계산하여 \n",
    "    # g의 기대값을 반환합니다.\n",
    "    return np.sum([g(x_i, y_j) * f_XY(x_i, y_j)\n",
    "                    for x_i in x_set for y_j in y_set])"
   ]
  },
  {
   "cell_type": "code",
   "execution_count": 63,
   "metadata": {
    "colab": {
     "base_uri": "https://localhost:8080/"
    },
    "id": "h-EJfTd7LHem",
    "outputId": "c9afac68-8490-45ca-fe46-3b78716fca7d"
   },
   "outputs": [
    {
     "data": {
      "text/plain": [
       "8.667"
      ]
     },
     "execution_count": 63,
     "metadata": {},
     "output_type": "execute_result"
    }
   ],
   "source": [
    "# mean_X는 확률변수 X의 평균(기대값)을 나타냅니다.\n",
    "# 람다 함수 lambda x, y: x는 (x, y) 쌍에서 x 값을 반환하는 함수입니다.\n",
    "# 따라서 E 함수에 이 람다 함수를 전달하면, X의 기대값을 계산하게 됩니다.\n",
    "mean_X = E(XY, lambda x, y: x)\n",
    "\n",
    "mean_X  # X의 평균(기대값)을 출력합니다."
   ]
  },
  {
   "cell_type": "code",
   "execution_count": 64,
   "metadata": {
    "colab": {
     "base_uri": "https://localhost:8080/"
    },
    "id": "Ce0J4RMJLMNC",
    "outputId": "94dfa3b9-bc8c-4c1a-8419-8288d235230b"
   },
   "outputs": [
    {
     "data": {
      "text/plain": [
       "4.333"
      ]
     },
     "execution_count": 64,
     "metadata": {},
     "output_type": "execute_result"
    }
   ],
   "source": [
    "# mean_Y는 확률변수 Y의 평균(기대값)을 나타냅니다.\n",
    "# 람다 함수 lambda x, y: y는 (x, y) 쌍에서 y 값을 반환하는 함수입니다.\n",
    "# 따라서 E 함수에 이 람다 함수를 전달하면, Y의 기대값을 계산하게 됩니다.\n",
    "mean_Y = E(XY, lambda x, y: y)\n",
    "\n",
    "mean_Y  # Y의 평균(기대값)을 출력합니다."
   ]
  },
  {
   "cell_type": "code",
   "execution_count": 65,
   "metadata": {
    "id": "2KxJEVGGLRIp"
   },
   "outputs": [],
   "source": [
    "# a와 b는 상수로 주어집니다.\n",
    "a, b = 2, 3"
   ]
  },
  {
   "cell_type": "code",
   "execution_count": 66,
   "metadata": {
    "colab": {
     "base_uri": "https://localhost:8080/"
    },
    "id": "8ByPzo_uLTuZ",
    "outputId": "0aa06f27-46e0-409e-ae65-fb7d84ccc9ba"
   },
   "outputs": [
    {
     "data": {
      "text/plain": [
       "30.333"
      ]
     },
     "execution_count": 66,
     "metadata": {},
     "output_type": "execute_result"
    }
   ],
   "source": [
    "# 이 코드는 함수 a*x + b*y에 대한 결합 확률변수 XY의 기대값을 계산합니다.\n",
    "# 여기서 람다 함수 lambda x, y: a*x + b*y는 각 (x, y) 쌍에 대해 a*x + b*y 값을 반환합니다.\n",
    "E(XY, lambda x, y: a*x + b*y)"
   ]
  },
  {
   "cell_type": "code",
   "execution_count": 67,
   "metadata": {
    "id": "khSl9bLrLXv_"
   },
   "outputs": [],
   "source": [
    "# f_Y 함수는 확률 변수 Y의 주변 확률 질량 함수 (pmf)를 계산하는 함수입니다.\n",
    "def f_Y(y):\n",
    "    \n",
    "    # 주변 확률 질량 함수 f_Y(y)는 결합 확률 질량 함수 f_XY(x, y)를 x의 모든 가능한 값에 대해 합산함으로써 계산됩니다.\n",
    "    # 따라서, 아래의 코드는 x_set 내의 각 x_k에 대한 f_XY(x_k, y)의 값을 합산하여 Y=y일 확률을 반환합니다.\n",
    "    return np.sum([f_XY(x_k, y) for x_k in x_set])"
   ]
  },
  {
   "cell_type": "code",
   "execution_count": 68,
   "metadata": {
    "id": "4VdyjSlbQqOZ"
   },
   "outputs": [],
   "source": [
    "# 확률 변수 X와 Y를 정의하기 위한 코드입니다.\n",
    "\n",
    "# X는 두 개의 요소로 구성된 리스트입니다.\n",
    "# 첫 번째 요소 x_set은 확률 변수 X가 취할 수 있는 모든 가능한 값을 포함하는 배열입니다.\n",
    "# 두 번째 요소 f_X는 확률 변수 X의 주변 확률 질량 함수 (pmf)를 나타내는 함수입니다.\n",
    "X = [x_set, f_X]\n",
    "\n",
    "# Y는 두 개의 요소로 구성된 리스트입니다.\n",
    "# 첫 번째 요소 y_set은 확률 변수 Y가 취할 수 있는 모든 가능한 값을 포함하는 배열입니다.\n",
    "# 두 번째 요소 f_Y는 확률 변수 Y의 주변 확률 질량 함수 (pmf)를 나타내는 함수입니다.\n",
    "Y = [y_set, f_Y]"
   ]
  },
  {
   "cell_type": "code",
   "execution_count": 69,
   "metadata": {
    "colab": {
     "base_uri": "https://localhost:8080/",
     "height": 410
    },
    "id": "VJJLsWgQQu1U",
    "outputId": "81bd4ad2-be4e-4ce0-b67e-e66b94952276",
    "scrolled": true
   },
   "outputs": [
    {
     "data": {
      "image/png": "[encoded data removed]",
      "text/plain": [
       "<Figure size 1200x400 with 2 Axes>"
      ]
     },
     "metadata": {},
     "output_type": "display_data"
    }
   ],
   "source": [
    "# 확률 변수 X와 Y의 주변 확률 분포를 계산합니다.\n",
    "\n",
    "# 확률 변수 X의 각 값에 대한 확률을 계산합니다.\n",
    "prob_x = np.array([f_X(x_k) for x_k in x_set])\n",
    "# 확률 변수 Y의 각 값에 대한 확률을 계산합니다.\n",
    "prob_y = np.array([f_Y(y_k) for y_k in y_set])\n",
    "\n",
    "# 12x4 크기의 그림 객체를 생성합니다.\n",
    "fig = plt.figure(figsize=(12, 4))\n",
    "\n",
    "# 그림 내에 두 개의 서브플롯을 추가합니다.\n",
    "ax1 = fig.add_subplot(121)  # 첫 번째 서브플롯 (X의 주변 확률 분포를 표시할 것입니다.)\n",
    "ax2 = fig.add_subplot(122)  # 두 번째 서브플롯 (Y의 주변 확률 분포를 표시할 것입니다.)\n",
    "\n",
    "# 첫 번째 서브플롯에 X의 주변 확률 분포를 막대 그래프로 그립니다.\n",
    "ax1.bar(x_set, prob_x)\n",
    "# 서브플롯의 제목을 설정합니다.\n",
    "ax1.set_title('X_marginal probability distribution')\n",
    "# x축과 y축의 레이블을 설정합니다.\n",
    "ax1.set_xlabel('X_value')\n",
    "ax1.set_ylabel('probability')\n",
    "# x축에 확률 변수 X의 가능한 값을 표시합니다.\n",
    "ax1.set_xticks(x_set)\n",
    "\n",
    "# 두 번째 서브플롯에 Y의 주변 확률 분포를 막대 그래프로 그립니다.\n",
    "ax2.bar(y_set, prob_y)\n",
    "# 서브플롯의 제목을 설정합니다.\n",
    "ax2.set_title('Y_marginal probability distribution')\n",
    "# x축과 y축의 레이블을 설정합니다.\n",
    "ax2.set_xlabel('Y_value')\n",
    "ax2.set_ylabel('probability')\n",
    "\n",
    "# 그림을 화면에 표시합니다.\n",
    "plt.show()"
   ]
  },
  {
   "cell_type": "code",
   "execution_count": 70,
   "metadata": {
    "colab": {
     "base_uri": "https://localhost:8080/"
    },
    "id": "3AbalfNQRgC_",
    "outputId": "4e271091-a572-43be-f3b1-10a0af3d6774"
   },
   "outputs": [
    {
     "data": {
      "text/plain": [
       "8.667"
      ]
     },
     "execution_count": 70,
     "metadata": {},
     "output_type": "execute_result"
    }
   ],
   "source": [
    "# 이 코드는 결합 확률 분포 f_XY를 사용하여 확률 변수 X의 기댓값을 계산합니다.\n",
    "\n",
    "# x_set의 각 원소 x_i에 대해 y_set의 각 원소 y_j와의 조합에 대하여\n",
    "# x_i와 해당 조합의 확률값 f_XY(x_i, y_j)를 곱한 값을 리스트로 생성합니다.\n",
    "# 그 후, 이러한 모든 값을 합산하여 확률 변수 X의 기댓값을 계산합니다.\n",
    "expected_value = np.sum([x_i*f_XY(x_i, y_j) for x_i in x_set for y_j in y_set])"
   ]
  },
  {
   "cell_type": "code",
   "execution_count": 71,
   "metadata": {
    "id": "XcuW5MLGSAWM"
   },
   "outputs": [],
   "source": [
    "# 이 함수는 확률 변수 X와 Y의 결합 확률 분포 f_XY에 대한 기댓값을 계산하는 함수입니다.\n",
    "# g는 X와 Y의 값을 입력으로 받는 함수이며, 이 함수를 통해 X와 Y에 대한 다양한 연산을 수행할 수 있습니다.\n",
    "# 예를 들어, g(x, y) = x*y로 설정하면, X와 Y의 곱에 대한 기댓값을 계산할 수 있습니다.\n",
    "\n",
    "def E(XY, g):\n",
    "    # XY에서 x_set, y_set, f_XY를 각각 추출합니다.\n",
    "    x_set, y_set, f_XY = XY\n",
    "    \n",
    "    # 각 x_i, y_j 조합에 대해 함수 g를 적용한 값과 해당 조합의 확률을 곱하고,\n",
    "    # 그 결과들의 총합을 반환하여 기댓값을 계산합니다.\n",
    "    return np.sum([g(x_i, y_j) * f_XY(x_i, y_j)\n",
    "                    for x_i in x_set for y_j in y_set])"
   ]
  },
  {
   "cell_type": "code",
   "execution_count": 72,
   "metadata": {
    "colab": {
     "base_uri": "https://localhost:8080/"
    },
    "id": "vKXKe7UYSf6n",
    "outputId": "516d1704-ecf5-4ba3-bd57-65651081ab7f"
   },
   "outputs": [
    {
     "data": {
      "text/plain": [
       "8.667"
      ]
     },
     "execution_count": 72,
     "metadata": {},
     "output_type": "execute_result"
    }
   ],
   "source": [
    "# 이 코드는 확률 변수 X의 기댓값을 계산하기 위한 코드입니다.\n",
    "# E 함수는 주어진 확률 변수의 기댓값을 계산하는 함수이며,\n",
    "# 여기서 lambda 함수는 X의 값을 그대로 반환하므로,\n",
    "# 결국 E(XY, lambda x, y: x)는 X의 기댓값 E(X)와 같습니다.\n",
    "mean_X = E(XY, lambda x, y: x)\n",
    "mean_X"
   ]
  },
  {
   "cell_type": "code",
   "execution_count": 73,
   "metadata": {
    "colab": {
     "base_uri": "https://localhost:8080/"
    },
    "id": "vvmZUkIZSkSi",
    "outputId": "4932fe78-fb9b-4e64-a221-0a3979e5f61e"
   },
   "outputs": [
    {
     "data": {
      "text/plain": [
       "4.333"
      ]
     },
     "execution_count": 73,
     "metadata": {},
     "output_type": "execute_result"
    }
   ],
   "source": [
    "# 이 코드는 확률 변수 Y의 기댓값을 계산하기 위한 코드입니다.\n",
    "# E 함수는 주어진 확률 변수의 기댓값을 계산하는 함수이며,\n",
    "# 여기서 lambda 함수는 Y의 값을 그대로 반환하므로,\n",
    "# 결국 E(XY, lambda x, y: y)는 Y의 기댓값 E(Y)와 같습니다.\n",
    "mean_Y = E(XY, lambda x, y: y)\n",
    "mean_Y"
   ]
  },
  {
   "cell_type": "code",
   "execution_count": 74,
   "metadata": {
    "id": "QkiucBDOTElX"
   },
   "outputs": [],
   "source": [
    "# 주어진 상수 a와 b에 대해 확률 변수 X와 Y의 선형 결합의 기댓값을 계산하는 코드입니다.\n",
    "\n",
    "# 상수 a와 b를 정의합니다. 이 경우 a는 2, b는 3입니다.\n",
    "a, b = 2, 3"
   ]
  },
  {
   "cell_type": "code",
   "execution_count": 75,
   "metadata": {
    "colab": {
     "base_uri": "https://localhost:8080/"
    },
    "id": "OseHE-vITJZ_",
    "outputId": "4ca66be5-06d0-43c2-e3c8-93e077de43ca"
   },
   "outputs": [
    {
     "data": {
      "text/plain": [
       "30.333"
      ]
     },
     "execution_count": 75,
     "metadata": {},
     "output_type": "execute_result"
    }
   ],
   "source": [
    "# E 함수를 사용하여 확률 변수 X와 Y의 선형 결합인 aX + bY의 기댓값을 계산합니다.\n",
    "# lambda 함수는 입력으로 주어진 x와 y에 대해 a*x + b*y를 반환합니다.\n",
    "# 따라서, 이 lambda 함수를 E 함수에 전달함으로써 aX + bY의 기댓값을 계산하게 됩니다.\n",
    "E(XY, lambda x, y: a*x + b*y)"
   ]
  },
  {
   "cell_type": "code",
   "execution_count": 76,
   "metadata": {
    "colab": {
     "base_uri": "https://localhost:8080/"
    },
    "id": "M_05SeCiTNNT",
    "outputId": "be9d638b-400b-4d98-edb7-aff751f1d05b"
   },
   "outputs": [
    {
     "data": {
      "text/plain": [
       "30.333"
      ]
     },
     "execution_count": 76,
     "metadata": {},
     "output_type": "execute_result"
    }
   ],
   "source": [
    "# 확률 변수 X와 Y의 선형 결합인 aX + bY의 기댓값을 계산하는 코드입니다.\n",
    "\n",
    "# 기댓값의 선형성에 따라, aX + bY의 기댓값은 a와 X의 기댓값의 곱에\n",
    "# b와 Y의 기댓값의 곱을 더한 것과 같습니다.\n",
    "# 따라서 아래 코드는 a와 확률 변수 X의 기댓값 mean_X의 곱에\n",
    "# b와 확률 변수 Y의 기댓값 mean_Y의 곱을 더하여\n",
    "# aX + bY의 기댓값을 계산합니다.\n",
    "a * mean_X + b * mean_Y"
   ]
  },
  {
   "cell_type": "code",
   "execution_count": 77,
   "metadata": {
    "colab": {
     "base_uri": "https://localhost:8080/"
    },
    "id": "5o6P5R_YTQaf",
    "outputId": "d09d91b5-a61c-4f23-9575-d35b4f92cd8e"
   },
   "outputs": [
    {
     "data": {
      "text/plain": [
       "4.444"
      ]
     },
     "execution_count": 77,
     "metadata": {},
     "output_type": "execute_result"
    }
   ],
   "source": [
    "# 확률 변수 X의 분산을 계산하는 코드입니다.\n",
    "\n",
    "# 분산의 정의에 따라, 분산은 각 확률변수 값에서 평균을 뺀 값의 제곱에\n",
    "# 그 값이 나타날 확률을 곱한 것들의 합과 같습니다.\n",
    "# 아래 코드는 이 과정을 반영하여, 확률 변수 X의 모든 값 x_i에 대해\n",
    "# (x_i - mean_X)^2 * f_XY(x_i, y_j)를 계산하고\n",
    "# 이를 모두 합하여 확률 변수 X의 분산을 계산합니다.\n",
    "np.sum([(x_i-mean_X)**2 * f_XY(x_i, y_j)\n",
    "        for x_i in x_set for y_j in y_set])"
   ]
  },
  {
   "cell_type": "code",
   "execution_count": 78,
   "metadata": {
    "id": "f8N6iDeETyO-"
   },
   "outputs": [],
   "source": [
    "# 함수 V는 확률변수들 X, Y에 대한 함수 g의 분산을 계산하는 함수입니다.\n",
    "\n",
    "def V(XY, g):\n",
    "    # XY로부터 확률변수 X와 Y의 값들의 집합 x_set, y_set과\n",
    "    # X와 Y의 결합 확률밀도함수 f_XY를 추출합니다.\n",
    "    x_set, y_set, f_XY = XY\n",
    "\n",
    "    # 함수 g에 대한 기대값(평균)을 계산합니다.\n",
    "    mean = E(XY, g)\n",
    "\n",
    "    # 분산은 각 확률변수 값에서 함수 g의 평균을 뺀 값의 제곱에\n",
    "    # 그 값이 나타날 확률을 곱한 것들의 합과 같습니다.\n",
    "    # 아래 코드는 이 과정을 반영하여, 함수 g에 대한 분산을 계산합니다.\n",
    "    return np.sum([(g(x_i, y_j)-mean)**2 * f_XY(x_i, y_j)\n",
    "                    for x_i in x_set for y_j in y_set])"
   ]
  },
  {
   "cell_type": "code",
   "execution_count": 79,
   "metadata": {
    "colab": {
     "base_uri": "https://localhost:8080/"
    },
    "id": "iRiNh_6NUI1u",
    "outputId": "9b73e461-1b48-4988-def9-bd9da3931239"
   },
   "outputs": [
    {
     "data": {
      "text/plain": [
       "4.444"
      ]
     },
     "execution_count": 79,
     "metadata": {},
     "output_type": "execute_result"
    }
   ],
   "source": [
    "# 확률 변수 X의 분산을 계산합니다.\n",
    "# 여기서 g 함수는 X의 값을 그대로 반환하므로, 이것은 X의 분산을 계산하는 것과 같습니다.\n",
    "var_X = V(XY, g=lambda x, y: x)\n",
    "var_X"
   ]
  },
  {
   "cell_type": "code",
   "execution_count": 80,
   "metadata": {
    "colab": {
     "base_uri": "https://localhost:8080/"
    },
    "id": "i8-Jqw-gUSeZ",
    "outputId": "786eed03-3bfe-4ec4-9187-18c20bc2aefe"
   },
   "outputs": [
    {
     "data": {
      "text/plain": [
       "2.222"
      ]
     },
     "execution_count": 80,
     "metadata": {},
     "output_type": "execute_result"
    }
   ],
   "source": [
    "# 확률 변수 Y의 분산을 계산합니다.\n",
    "# 여기서 g 함수는 Y의 값을 그대로 반환하므로, 이것은 Y의 분산을 계산하는 것과 같습니다.\n",
    "var_Y = V(XY, g=lambda x, y: y)\n",
    "var_Y"
   ]
  },
  {
   "cell_type": "code",
   "execution_count": 81,
   "metadata": {
    "id": "dwKJbqeeUXO1"
   },
   "outputs": [],
   "source": [
    "def Cov(XY):\n",
    "    # XY는 [x_set, y_set, f_XY] 형태의 데이터를 포함하고 있으며,\n",
    "    # x_set과 y_set은 각각 X와 Y의 값 집합을 나타내고,\n",
    "    # f_XY는 X와 Y의 결합 확률 질량 함수(joint probability mass function)를 나타냅니다.\n",
    "\n",
    "    x_set, y_set, f_XY = XY  # 각각의 값을 추출\n",
    "\n",
    "    # E(XY, lambda x, y: x)는 X의 기대값을 계산하는 것과 동일합니다.\n",
    "    mean_X = E(XY, lambda x, y: x)\n",
    "\n",
    "    # E(XY, lambda x, y: y)는 Y의 기대값을 계산하는 것과 동일합니다.\n",
    "    mean_Y = E(XY, lambda x, y: y)\n",
    "\n",
    "    # 공분산을 계산하기 위해 각 (x, y) 쌍에 대한 (x - 평균X) * (y - 평균Y) * P(x, y)를 누적 합산\n",
    "    # 여기서 P(x, y)는 X와 Y의 결합 확률입니다.\n",
    "    return np.sum([(x_i-mean_X) * (y_j-mean_Y) * f_XY(x_i, y_j)\n",
    "                    for x_i in x_set for y_j in y_set])"
   ]
  },
  {
   "cell_type": "code",
   "execution_count": 82,
   "metadata": {
    "colab": {
     "base_uri": "https://localhost:8080/"
    },
    "id": "EBL0KN3xUy03",
    "outputId": "0b7b0fea-aea6-48bd-9566-871a82673811"
   },
   "outputs": [
    {
     "data": {
      "text/plain": [
       "2.222"
      ]
     },
     "execution_count": 82,
     "metadata": {},
     "output_type": "execute_result"
    }
   ],
   "source": [
    "# Cov 함수를 사용하여 XY의 공분산을 계산합니다.\n",
    "cov_xy = Cov(XY)\n",
    "\n",
    "# cov_xy는 X와 Y의 공분산 값을 저장합니다. \n",
    "# 공분산은 두 변수의 관계를 나타내는 통계적 척도로서,\n",
    "# 양수 값은 두 변수가 함께 증가하는 경향이 있음을 나타내며,\n",
    "# 음수 값은 하나의 변수가 증가할 때 다른 변수가 감소하는 경향이 있음을 나타냅니다.\n",
    "# 값이 0에 가까우면 두 변수 사이에는 선형 관계가 거의 없다는 것을 의미합니다.\n",
    "\n",
    "cov_xy"
   ]
  },
  {
   "cell_type": "code",
   "execution_count": 83,
   "metadata": {
    "colab": {
     "base_uri": "https://localhost:8080/"
    },
    "id": "bGPzoqz7U3ox",
    "outputId": "cdc7de4e-e462-4b6f-c849-90463006a170"
   },
   "outputs": [
    {
     "data": {
      "text/plain": [
       "64.444"
      ]
     },
     "execution_count": 83,
     "metadata": {},
     "output_type": "execute_result"
    }
   ],
   "source": [
    "# V 함수는 주어진 함수 g에 대한 확률변수 XY의 분산을 계산합니다.\n",
    "# 여기서 g는 두 확률변수 X와 Y의 선형 결합인 aX + bY를 나타냅니다.\n",
    "\n",
    "# V(XY, lambda x, y: a*x + b*y)는 a와 b에 대한 선형 결합인 aX + bY의 분산을 반환합니다.\n",
    "# 분산은 확률변수의 퍼짐 정도를 나타내는 척도로, 값이 크면 데이터가 평균으로부터 많이 퍼져 있음을,\n",
    "# 값이 작으면 데이터가 평균 근처에 밀집해 있음을 의미합니다.\n",
    "# 이 경우, 선형 결합의 분산은 aX + bY의 퍼짐 정도를 나타내게 됩니다.\n",
    "V(XY, lambda x, y: a*x + b*y)"
   ]
  },
  {
   "cell_type": "code",
   "execution_count": 84,
   "metadata": {
    "colab": {
     "base_uri": "https://localhost:8080/"
    },
    "id": "0XK0OAGuVGLj",
    "outputId": "389557e6-4522-4dfa-ad25-d82265f5f15d"
   },
   "outputs": [
    {
     "data": {
      "text/plain": [
       "64.444"
      ]
     },
     "execution_count": 84,
     "metadata": {},
     "output_type": "execute_result"
    }
   ],
   "source": [
    "# 이 코드는 두 확률변수 X와 Y의 선형 결합인 aX + bY의 분산을 계산합니다.\n",
    "# 분산의 공식은 다음과 같습니다: \n",
    "# Var(aX + bY) = a^2 * Var(X) + b^2 * Var(Y) + 2ab * Cov(X,Y)\n",
    "\n",
    "# a^2 * var_X: 확률변수 X의 분산에 스케일링 인자 a의 제곱을 곱한 값입니다.\n",
    "# 이는 확률변수 X의 퍼짐 정도에 a의 영향을 나타냅니다.\n",
    "\n",
    "# b^2 * var_Y: 확률변수 Y의 분산에 스케일링 인자 b의 제곱을 곱한 값입니다.\n",
    "# 이는 확률변수 Y의 퍼짐 정도에 b의 영향을 나타냅니다.\n",
    "\n",
    "# 2ab * cov_xy: 확률변수 X와 Y 사이의 공분산에 2ab를 곱한 값입니다.\n",
    "# 이는 X와 Y 사이의 선형 관계와 스케일링 인자 a와 b의 결합된 영향을 나타냅니다.\n",
    "# 공분산은 두 변수가 함께 어떻게 움직이는지 나타내는 척도로, \n",
    "# 양의 값이면 두 변수가 같은 방향으로 움직이고, 음의 값이면 반대 방향으로 움직입니다.\n",
    "\n",
    "a**2 * var_X + b**2 *var_Y + 2*a*b * cov_xy"
   ]
  },
  {
   "cell_type": "code",
   "execution_count": 85,
   "metadata": {
    "colab": {
     "base_uri": "https://localhost:8080/"
    },
    "id": "blb2bMiSVM8k",
    "outputId": "2cfe4d85-7508-493d-f167-4d2d8d295713"
   },
   "outputs": [
    {
     "data": {
      "text/plain": [
       "0.707"
      ]
     },
     "execution_count": 85,
     "metadata": {},
     "output_type": "execute_result"
    }
   ],
   "source": [
    "# 이 코드는 두 확률변수 X와 Y 사이의 상관계수를 계산합니다.\n",
    "# 상관계수는 두 변수 사이의 선형 관계의 강도와 방향을 나타내는 척도입니다.\n",
    "# 상관계수의 공식은 다음과 같습니다:\n",
    "# ρ(X,Y) = Cov(X,Y) / √(Var(X) * Var(Y))\n",
    "\n",
    "# Cov(X,Y): 확률변수 X와 Y 사이의 공분산입니다. \n",
    "# 이는 두 변수가 함께 어떻게 움직이는지 나타내는 척도로, \n",
    "# 양의 값이면 두 변수가 같은 방향으로 움직이고, 음의 값이면 반대 방향으로 움직입니다.\n",
    "\n",
    "# √(Var(X) * Var(Y)): 확률변수 X와 Y의 분산의 곱의 제곱근입니다.\n",
    "# 이는 X와 Y 각각의 퍼짐 정도의 척도를 결합한 것입니다.\n",
    "\n",
    "# 상관계수의 결과값은 -1에서 1 사이의 값을 가집니다.\n",
    "# 1에 가까우면 강한 양의 선형 관계, -1에 가까우면 강한 음의 선형 관계를 나타내며,\n",
    "# 0에 가까우면 선형 관계가 약하거나 없음을 의미합니다.\n",
    "cov_xy / np.sqrt(var_X * var_Y)"
   ]
  }
 ],
 "metadata": {
  "colab": {
   "provenance": []
  },
  "kernelspec": {
   "display_name": "Python 3 (ipykernel)",
   "language": "python",
   "name": "python3"
  },
  "language_info": {
   "codemirror_mode": {
    "name": "ipython",
    "version": 3
   },
   "file_extension": ".py",
   "mimetype": "text/x-python",
   "name": "python",
   "nbconvert_exporter": "python",
   "pygments_lexer": "ipython3",
   "version": "3.9.13"
  }
 },
 "nbformat": 4,
 "nbformat_minor": 4
}
