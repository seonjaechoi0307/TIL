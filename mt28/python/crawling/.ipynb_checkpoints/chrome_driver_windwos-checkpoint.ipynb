{
 "cells": [
  {
   "cell_type": "markdown",
   "id": "ce56ee62-2684-4438-81eb-260317693288",
   "metadata": {},
   "source": [
    "# 크롬드라이버 설정 방법 - Windows (2023 Aug)"
   ]
  },
  {
   "cell_type": "markdown",
   "id": "a706960f-a055-4145-acf5-ff99e53e6a1f",
   "metadata": {},
   "source": [
    "## 개요\n",
    "- `selenium 4.10` 버전에서 크롬드라이버 설정하는 방법에 대해 기술하고자 한다. "
   ]
  },
  {
   "cell_type": "markdown",
   "id": "9c1f5ab4-3879-4a99-becf-bdd93e18ce3a",
   "metadata": {},
   "source": [
    "## selenium 버전 확인\n",
    "- 먼저 selenium 버전은 아래와 같다.\n",
    "- 설치 방법\n",
    "```python\n",
    "pip install selenium\n",
    "\n",
    "```"
   ]
  },
  {
   "cell_type": "code",
   "execution_count": 10,
   "id": "640ce619-aa46-4bc2-ae9d-3a9c8cda7441",
   "metadata": {},
   "outputs": [
    {
     "name": "stdout",
     "output_type": "stream",
     "text": [
      "4.11.2\n"
     ]
    }
   ],
   "source": [
    "import selenium\n",
    "print(selenium.__version__)"
   ]
  },
  {
   "cell_type": "markdown",
   "id": "72fb9a18-2105-4e89-834f-526f05b79b34",
   "metadata": {},
   "source": [
    "## 크롬드라이버 수동 설정\n",
    "- 특별한 경로에 chromedriver.exe 파일을 설치한다. "
   ]
  },
  {
   "cell_type": "code",
   "execution_count": 11,
   "id": "2babf552-55f5-47f5-b7b0-ece5f4310ca0",
   "metadata": {},
   "outputs": [
    {
     "name": "stdout",
     "output_type": "stream",
     "text": [
      "driver/\n",
      "    chrome_driver_windwos.ipynb\n",
      "    windows_102/\n",
      "        chromedriver.exe\n",
      "        LICENSE.chromedriver\n"
     ]
    }
   ],
   "source": [
    "import os\n",
    "\n",
    "def list_files(startpath):\n",
    "    for root, dirs, files in os.walk(startpath):\n",
    "        level = root.replace(startpath, '').count(os.sep)\n",
    "        indent = ' ' * 4 * (level)\n",
    "        print('{}{}/'.format(indent, os.path.basename(root)))\n",
    "        subindent = ' ' * 4 * (level + 1)\n",
    "        for f in files:\n",
    "            print('{}{}'.format(subindent, f))\n",
    "\n",
    "list_files(\"driver\")"
   ]
  },
  {
   "cell_type": "markdown",
   "id": "0f413b46-0258-402f-8bc4-03ee57ecc545",
   "metadata": {},
   "source": [
    "- 크롬드라이버 경로를 지정 후 아래 코드를 실행한다. "
   ]
  },
  {
   "cell_type": "code",
   "execution_count": 12,
   "id": "a6ed69d6-4ff0-420f-beca-c76e22e038eb",
   "metadata": {},
   "outputs": [],
   "source": [
    "from selenium import webdriver\n",
    "from selenium.webdriver.chrome.service import Service\n",
    "\n",
    "CHROME_DRIVER_PATH = './driver/windows_102/chromedriver.exe'\n",
    "service = Service(executable_path=CHROME_DRIVER_PATH)\n",
    "options = webdriver.ChromeOptions()\n",
    "driver = webdriver.Chrome(service=service, options=options)\n",
    "\n",
    "driver.get('https://www.naver.com/')"
   ]
  },
  {
   "cell_type": "markdown",
   "id": "f73d42e2-e2ae-49e5-a299-2929e68a3523",
   "metadata": {},
   "source": [
    "- 드라이버를 종료하고 싶다면 아래와 같이 코드를 실행한다. "
   ]
  },
  {
   "cell_type": "code",
   "execution_count": 13,
   "id": "dba5815a-2d55-466e-95d7-2b349996f320",
   "metadata": {},
   "outputs": [],
   "source": [
    "driver.quit()"
   ]
  },
  {
   "cell_type": "markdown",
   "id": "df178b53-b1a6-4f54-a7fc-9940021e3973",
   "metadata": {},
   "source": [
    "- 위 방식은 하나의 치명적인 단점이 존재한다. 위의 코드는 매우 잘 작동하지만 Chrome이 새 버전으로 업그레이드될 때마다 ChromeDriver를 다시 다운로드해야 한다.\n",
    "- 매우 불편하다. "
   ]
  },
  {
   "cell_type": "markdown",
   "id": "196b42c3-56e6-486e-bd34-4134a8325775",
   "metadata": {},
   "source": [
    "## webdriver-manager 라이브러리\n",
    "- 이 부분을 해결하고자 라이브러리가 나왔다.\n",
    "```python\n",
    "pip install webdriver-manager\n",
    "\n",
    "``\n",
    "\n",
    "- 코드는 간단하다. `"
   ]
  },
  {
   "cell_type": "code",
   "execution_count": 14,
   "id": "25b5928e-5263-43e1-acc6-4f51f777941c",
   "metadata": {},
   "outputs": [],
   "source": [
    "from selenium import webdriver\n",
    "from selenium.webdriver.chrome.service import Service as ChromeService\n",
    "from webdriver_manager.chrome import ChromeDriverManager\n",
    "\n",
    "driver = webdriver.Chrome(service=ChromeService(ChromeDriverManager().install()))\n",
    "driver.get('https://www.naver.com/')"
   ]
  },
  {
   "cell_type": "code",
   "execution_count": 15,
   "id": "993dd5f6-88f1-40ad-9886-9d8f4521e1e3",
   "metadata": {},
   "outputs": [],
   "source": [
    "driver.quit()"
   ]
  }
 ],
 "metadata": {
  "kernelspec": {
   "display_name": "Python 3 (ipykernel)",
   "language": "python",
   "name": "python3"
  },
  "language_info": {
   "codemirror_mode": {
    "name": "ipython",
    "version": 3
   },
   "file_extension": ".py",
   "mimetype": "text/x-python",
   "name": "python",
   "nbconvert_exporter": "python",
   "pygments_lexer": "ipython3",
   "version": "3.9.13"
  }
 },
 "nbformat": 4,
 "nbformat_minor": 5
}
