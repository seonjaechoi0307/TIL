{
 "cells": [
  {
   "cell_type": "markdown",
   "id": "ce56ee62-2684-4438-81eb-260317693288",
   "metadata": {},
   "source": [
    "# 크롬드라이버 설정 방법 - Windows (2023 Aug)"
   ]
  },
  {
   "cell_type": "markdown",
   "id": "a706960f-a055-4145-acf5-ff99e53e6a1f",
   "metadata": {},
   "source": [
    "## 개요\n",
    "- `selenium 4.10` 버전에서 크롬드라이버 설정하는 방법에 대해 기술하고자 한다.\n",
    "- 크롬 드라이버 다운로드 사이트 : https://chromedriver.chromium.org/downloads"
   ]
  },
  {
   "cell_type": "markdown",
   "id": "9c1f5ab4-3879-4a99-becf-bdd93e18ce3a",
   "metadata": {},
   "source": [
    "## selenium 버전 확인\n",
    "- 먼저 selenium 버전은 아래와 같다.\n",
    "- 설치 방법\n",
    "```python\n",
    "pip install selenium\n",
    "\n",
    "```"
   ]
  },
  {
   "cell_type": "code",
   "execution_count": 1,
   "id": "640ce619-aa46-4bc2-ae9d-3a9c8cda7441",
   "metadata": {},
   "outputs": [
    {
     "name": "stdout",
     "output_type": "stream",
     "text": [
      "4.11.0\n"
     ]
    }
   ],
   "source": [
    "import selenium\n",
    "print(selenium.__version__)"
   ]
  },
  {
   "cell_type": "markdown",
   "id": "72fb9a18-2105-4e89-834f-526f05b79b34",
   "metadata": {},
   "source": [
    "## 크롬드라이버 수동 설정\n",
    "- 특별한 경로에 chromedriver.exe 파일을 설치한다. "
   ]
  },
  {
   "cell_type": "code",
   "execution_count": 2,
   "id": "2babf552-55f5-47f5-b7b0-ece5f4310ca0",
   "metadata": {},
   "outputs": [
    {
     "name": "stdout",
     "output_type": "stream",
     "text": [
      "driver/\n",
      "    windows_110/\n",
      "        chromedriver.exe\n",
      "        LICENSE.chromedriver\n"
     ]
    }
   ],
   "source": [
    "import os\n",
    "\n",
    "def list_files(startpath):\n",
    "    for root, dirs, files in os.walk(startpath):\n",
    "        level = root.replace(startpath, '').count(os.sep)\n",
    "        indent = ' ' * 4 * (level)\n",
    "        print('{}{}/'.format(indent, os.path.basename(root)))\n",
    "        subindent = ' ' * 4 * (level + 1)\n",
    "        for f in files:\n",
    "            print('{}{}'.format(subindent, f))\n",
    "\n",
    "list_files(\"driver\")"
   ]
  },
  {
   "cell_type": "markdown",
   "id": "0f413b46-0258-402f-8bc4-03ee57ecc545",
   "metadata": {},
   "source": [
    "- 크롬드라이버 경로를 지정 후 아래 코드를 실행한다. "
   ]
  },
  {
   "cell_type": "code",
   "execution_count": 8,
   "id": "a6ed69d6-4ff0-420f-beca-c76e22e038eb",
   "metadata": {},
   "outputs": [],
   "source": [
    "from selenium import webdriver\n",
    "from selenium.webdriver.chrome.service import Service\n",
    "\n",
    "CHROME_DRIVER_PATH = './driver/windows_110/chromedriver.exe'\n",
    "service = Service(executable_path=CHROME_DRIVER_PATH)\n",
    "options = webdriver.ChromeOptions()\n",
    "driver = webdriver.Chrome(service=service, options=options)\n",
    "\n",
    "driver.get('https://www.naver.com/')"
   ]
  },
  {
   "cell_type": "markdown",
   "id": "f73d42e2-e2ae-49e5-a299-2929e68a3523",
   "metadata": {},
   "source": [
    "- 드라이버를 종료하고 싶다면 아래와 같이 코드를 실행한다. "
   ]
  },
  {
   "cell_type": "code",
   "execution_count": 5,
   "id": "dba5815a-2d55-466e-95d7-2b349996f320",
   "metadata": {},
   "outputs": [],
   "source": [
    "driver.quit()"
   ]
  },
  {
   "cell_type": "markdown",
   "id": "df178b53-b1a6-4f54-a7fc-9940021e3973",
   "metadata": {},
   "source": [
    "- 위 방식은 하나의 치명적인 단점이 존재한다. 위의 코드는 매우 잘 작동하지만 Chrome이 새 버전으로 업그레이드될 때마다 ChromeDriver를 다시 다운로드해야 한다.\n",
    "- 매우 불편하다. "
   ]
  },
  {
   "cell_type": "markdown",
   "id": "196b42c3-56e6-486e-bd34-4134a8325775",
   "metadata": {},
   "source": [
    "## webdriver-manager 라이브러리\n",
    "- 이 부분을 해결하고자 라이브러리가 나왔다.\n",
    "```python\n",
    "pip install webdriver-manager\n",
    "\n",
    "``\n",
    "\n",
    "- 코드는 간단하다. `"
   ]
  },
  {
   "cell_type": "code",
   "execution_count": 10,
   "id": "25b5928e-5263-43e1-acc6-4f51f777941c",
   "metadata": {},
   "outputs": [],
   "source": [
    "from selenium import webdriver\n",
    "from selenium.webdriver.chrome.service import Service as ChromeService\n",
    "from webdriver_manager.chrome import ChromeDriverManager\n",
    "\n",
    "driver = webdriver.Chrome(service=ChromeService(ChromeDriverManager().install()))\n",
    "driver.get('https://www.naver.com/')"
   ]
  },
  {
   "cell_type": "code",
   "execution_count": 11,
   "id": "993dd5f6-88f1-40ad-9886-9d8f4521e1e3",
   "metadata": {},
   "outputs": [],
   "source": [
    "driver.quit()"
   ]
  },
  {
   "cell_type": "markdown",
   "id": "2e4638e8-fbfd-4111-921e-dbce4d12100e",
   "metadata": {},
   "source": [
    "## 구글 이미지 다운로드"
   ]
  },
  {
   "cell_type": "code",
   "execution_count": 45,
   "id": "5d28df3b-322c-4b14-b134-3ad973cc05d5",
   "metadata": {},
   "outputs": [
    {
     "name": "stdout",
     "output_type": "stream",
     "text": [
      " 찾은 이미지 개수: 47\n"
     ]
    }
   ],
   "source": [
    "from selenium import webdriver\n",
    "from selenium.webdriver.chrome.service import Service\n",
    "from selenium.webdriver.common.keys import Keys\n",
    "from selenium.webdriver.common.by import By\n",
    "import time\n",
    "\n",
    "CHROME_DRIVER_PATH = './driver/windows_110/chromedriver.exe'\n",
    "service = Service(executable_path=CHROME_DRIVER_PATH)\n",
    "options = webdriver.ChromeOptions()\n",
    "driver = webdriver.Chrome(service=service, options=options)\n",
    "\n",
    "URL='https://www.google.co.kr/imghp'\n",
    "driver.get(url=URL)\n",
    "\n",
    "elem = driver.find_element(By.CSS_SELECTOR, \"body > div.L3eUgb > div.o3j99.ikrT4e.om7nvf > form > div:nth-child(1) > div.A8SBwf > div.RNNXgb > div > div.a4bIc > textarea.gLFyf\")\n",
    "elem.send_keys(\"보라카이\")\n",
    "elem.send_keys(Keys.RETURN)\n",
    "\n",
    "elem = driver.find_element(By.TAG_NAME, \"body\")\n",
    "for i in range(60):\n",
    "    elem.send_keys(Keys.PAGE_DOWN)\n",
    "    time.sleep(0.1)\n",
    "\n",
    "try:\n",
    "    driver.find_element(By.CSS_SELECTOR, \"#islmp > div > div > div > div.gBPM8 > div.qvfT1 > div.YstHxe > input\").click()\n",
    "    for i in range(60):\n",
    "        elem.send_keys(Keys.PAGE_DOWN)\n",
    "        time.sleep(0.1)\n",
    "\n",
    "except:\n",
    "    pass\n",
    "\n",
    "links=[] \n",
    "images = driver.find_elements(By.CSS_SELECTOR, \"#islrg > div.islrc > div > a.wXeWr.islib.nfEiy > div.bRMDJf.islir > img\")\n",
    "\n",
    "for image in images:\n",
    "    if image.get_attribute('src') is not None:\n",
    "        links.append(image.get_attribute('src'))\n",
    "        \n",
    "print(' 찾은 이미지 개수:',len(links))"
   ]
  },
  {
   "cell_type": "code",
   "execution_count": 47,
   "id": "edafbe06-e37f-4dcb-9c36-7f75756d28df",
   "metadata": {},
   "outputs": [
    {
     "name": "stdout",
     "output_type": "stream",
     "text": [
      "다운로드 완료하였습니다.\n"
     ]
    }
   ],
   "source": [
    "import urllib.request\n",
    "\n",
    "for k, i in enumerate(links):\n",
    "    url = i\n",
    "    urllib.request.urlretrieve(url, \".\\\\사진다운로드\\\\\"+str(k)+\".jpg\")\n",
    "\n",
    "print('다운로드 완료하였습니다.')"
   ]
  },
  {
   "cell_type": "code",
   "execution_count": 44,
   "id": "ab8b374d-e45d-47a9-a5c8-c15e58843736",
   "metadata": {},
   "outputs": [],
   "source": [
    "driver.quit()"
   ]
  },
  {
   "cell_type": "markdown",
   "id": "8eaa42a6-dd4a-4c0c-9a11-5ddeb1dc9e33",
   "metadata": {},
   "source": [
    "## 검색어 추출"
   ]
  },
  {
   "cell_type": "code",
   "execution_count": 61,
   "id": "0d0d65b7-ebaf-4f12-a81a-d7df61df3b10",
   "metadata": {},
   "outputs": [
    {
     "data": {
      "text/plain": [
       "['잼버리',\n",
       " '살인 예고 글',\n",
       " '태풍 카눈 북상에',\n",
       " '류현진',\n",
       " '세계 고양이의 날',\n",
       " '파두',\n",
       " '경상수지 58.7억달러',\n",
       " '최원종',\n",
       " '입추',\n",
       " '초전도체']"
      ]
     },
     "execution_count": 61,
     "metadata": {},
     "output_type": "execute_result"
    }
   ],
   "source": [
    "from selenium import webdriver\n",
    "from selenium.webdriver.chrome.service import Service as ChromeService\n",
    "from webdriver_manager.chrome import ChromeDriverManager\n",
    "from selenium.webdriver.common.keys import Keys\n",
    "from selenium.webdriver.common.by import By\n",
    "import time\n",
    "\n",
    "driver = webdriver.Chrome(service=ChromeService(ChromeDriverManager().install()))\n",
    "URL='https://signal.bz/news'\n",
    "driver.get(url=URL)\n",
    "results = driver.find_elements(By.CSS_SELECTOR, \"#app > div > main > div > section > div > section > section:nth-child(2) > div:nth-child(2) > div > div > div > a > span.rank-text\")\n",
    "results\n",
    "\n",
    "keyword_list = []\n",
    "for keyword in results:\n",
    "    keyword_list.append(keyword.text)\n",
    "keyword_list"
   ]
  },
  {
   "cell_type": "code",
   "execution_count": null,
   "id": "7d5afe80-306c-41e1-8f49-6d0f3be0e9af",
   "metadata": {},
   "outputs": [],
   "source": [
    "driver.quit()"
   ]
  },
  {
   "cell_type": "markdown",
   "id": "08870a3e-ffda-462a-ad5b-567cfd54083d",
   "metadata": {},
   "source": [
    "## Nate.com"
   ]
  },
  {
   "cell_type": "code",
   "execution_count": 71,
   "id": "f8d47e67-6ff1-4a1a-b5a9-81e6a6bf9f60",
   "metadata": {},
   "outputs": [
    {
     "name": "stdout",
     "output_type": "stream",
     "text": [
      "['1_태풍 카눈 북상에', '2_경상수지 두 달', '3_잼버리', '4_류현진 강습 타구', '5_사고 위장 부사관', '6_잼버리 대원들', '7_서울대공원서 시베리아호랑이 파악', '8_中 윤동주 폐쇄', '9_입추', '10_신성록']\n"
     ]
    }
   ],
   "source": [
    "from selenium import webdriver\n",
    "from selenium.webdriver.chrome.service import Service as ChromeService\n",
    "from webdriver_manager.chrome import ChromeDriverManager\n",
    "from selenium.webdriver.common.keys import Keys\n",
    "from selenium.webdriver.common.by import By\n",
    "import time\n",
    "\n",
    "driver = webdriver.Chrome(service=ChromeService(ChromeDriverManager().install()))\n",
    "nate_list_1st = []\n",
    "nate_list_2nd = []\n",
    "for i in range(2):\n",
    "    URL='https://www.nate.com'\n",
    "    driver.get(url=URL) \n",
    "    rank_results = driver.find_elements(By.CSS_SELECTOR,'#olLiveIssueKeyword > li > span.num_rank')\n",
    "    nate_results = driver.find_elements(By.CSS_SELECTOR,'#olLiveIssueKeyword > li > a > span.txt_rank')\n",
    "    for rank, keyword in zip(rank_results, nate_results):\n",
    "        if i == 0:\n",
    "            nate_list_1st.append(f'{rank.text}_{keyword.text}')\n",
    "        elif i == 1:\n",
    "            nate_list_2nd.append(f'{rank.text}_{keyword.text}')\n",
    "    time.sleep(5)\n",
    "    driver.refresh()\n",
    "result = nate_list_1st + nate_list_2nd\n",
    "\n",
    "print(result)\n",
    "driver.quit()"
   ]
  },
  {
   "cell_type": "code",
   "execution_count": 70,
   "id": "000b6694-9737-48f5-a61d-ff7839bc2066",
   "metadata": {},
   "outputs": [],
   "source": [
    "driver.quit()"
   ]
  },
  {
   "cell_type": "code",
   "execution_count": 79,
   "id": "57094807-1b9e-4d73-a41c-309c1af1b1f5",
   "metadata": {},
   "outputs": [
    {
     "name": "stdout",
     "output_type": "stream",
     "text": [
      "[티몬] 바세린 퓨어 젤리 50ml 5개 외 (5,520원/무료)\n",
      "https://www.ppomppu.co.kr/zboard/view.php?id=ppomppu&page=1&divpage=80&no=477026\n",
      "[지마켓] LG 코드제로 오브제컬렉션 A9S 무선청소기 AX9874TPE (951,000원/무료)\n",
      "https://www.ppomppu.co.kr/zboard/view.php?id=ppomppu&page=1&divpage=80&no=477025\n",
      "[11번가]바른생활 아트컬렉션칫솔 36개 (12,500원/무료배송)\n",
      "https://www.ppomppu.co.kr/zboard/view.php?id=ppomppu&page=1&divpage=80&no=477024\n",
      "[지마켓] 송탄 치즈부대찌개 500g x 3팩 + 라면사리 3개 (13,280원/무료) 카드할인시 11,960원\n",
      "https://www.ppomppu.co.kr/zboard/view.php?id=ppomppu&page=1&divpage=80&no=477023\n",
      "[ssg] 슈퍼플라워 SF-850F14XG LEADEX VII GOLD ATX 3.0 ( 172000 / 3000 )\n",
      "https://www.ppomppu.co.kr/zboard/view.php?id=ppomppu&page=1&divpage=80&no=477022\n",
      "[LF몰]베른 VST 플랫 테이블 L 슬림 폴딩 접이식 (144,490원/무료)\n",
      "https://www.ppomppu.co.kr/zboard/view.php?id=ppomppu&page=1&divpage=80&no=477021\n",
      "[G마켓]1+1 아쿠아 드라이 방수백 5L 비치 물놀이 수영 가방 (+사은품 휴대폰방수팩2개) (12,780원/무배)\n",
      "https://www.ppomppu.co.kr/zboard/view.php?id=ppomppu&page=1&divpage=80&no=477020\n",
      "[KFC 매장] 말복 버켓 블랙라벨치킨 8+치즈볼 3개 (16900/수령시 무료)\n",
      "https://www.ppomppu.co.kr/zboard/view.php?id=ppomppu&page=1&divpage=80&no=477019\n",
      "[옥션] 삼성 비스포크 무풍 에어컨 윈도우핏 화이트(AW06C7155WWAZ) (759,430/무)\n",
      "https://www.ppomppu.co.kr/zboard/view.php?id=ppomppu&page=1&divpage=80&no=477018\n",
      "[11번가] (1,299,600원) 삼성전자 비스포크 냉장고 RF84C906B4W 875리터 매트 멜로우 화이트\n",
      "https://www.ppomppu.co.kr/zboard/view.php?id=ppomppu&page=1&divpage=80&no=477017\n",
      "[네이버] 비비고 사골곰탕 500g 18개(12,840원/무료)\n",
      "https://www.ppomppu.co.kr/zboard/view.php?id=ppomppu&page=1&divpage=80&no=477016\n",
      "[네이버] 테팔 원픽 냄비팬 22cm (30,800원/무료) 쿠폰 적용시 25,460원\n",
      "https://www.ppomppu.co.kr/zboard/view.php?id=ppomppu&page=1&divpage=80&no=477015\n",
      "[티몬] 정다운 허브/마늘 훈제오리 200g 8팩 (28,400원/무배)\n",
      "https://www.ppomppu.co.kr/zboard/view.php?id=ppomppu&page=1&divpage=80&no=477014\n",
      "[지마켓] 하기스 매직썸머 팬티 4-6단계 6팩(113,850원/무배)\n",
      "https://www.ppomppu.co.kr/zboard/view.php?id=ppomppu&page=1&divpage=80&no=477013\n",
      "[11번가] 다이비프로 풀페이스 스노쿨링마스크 (19,900/무료)\n",
      "https://www.ppomppu.co.kr/zboard/view.php?id=ppomppu&page=1&divpage=80&no=477012\n",
      "[롯데ON] 한우 1+ 차돌박이 냉장 300g 1팩 (9,560원, 배송비 4,000원)\n",
      "https://www.ppomppu.co.kr/zboard/view.php?id=ppomppu&page=1&divpage=80&no=477011\n",
      "[쿠팡] 크리넥스 핸드타올 총 2000매 + 전용용기 1세트 (17820/무료)\n",
      "https://www.ppomppu.co.kr/zboard/view.php?id=ppomppu&page=1&divpage=80&no=477009\n",
      "[하이버] 팔꾸이 팔당 오징어 볶음 470g (9,900원/무료)\n",
      "https://www.ppomppu.co.kr/zboard/view.php?id=ppomppu&page=1&divpage=80&no=477008\n",
      "[G마켓] 도브 비누 화이트바 135g 12개 (14,030원/무료) 삼성/하나/우리 12,630원\n",
      "https://www.ppomppu.co.kr/zboard/view.php?id=ppomppu&page=1&divpage=80&no=477007\n",
      "[티몬] 스너글 실내건조 무드테라피 섬유유연제 4L+2.6L+견본100m (27,920원/무료)\n",
      "https://www.ppomppu.co.kr/zboard/view.php?id=ppomppu&page=1&divpage=80&no=477006\n",
      "[11번가 LIVE 17:00~18:30] 갤럭시 Z플립5ㅣZ폴드5 자급제 마지막LIVE방송! 파격혜택 (전카드사할인까지)\n",
      "https://www.ppomppu.co.kr/zboard/view.php?id=pmarket&&no=286842\n",
      "[G마켓] 갤럭시 Z플립5ㅣZ폴드5 자급제 마지막사전판매 LIVE [최대 3만원 신세계 상품권 + 경품이벤트]\n",
      "https://www.ppomppu.co.kr/zboard/view.php?id=pmarket&&no=286843\n",
      "위메프 디지털위크 LG시네빔 PF610P 59만원 전제품 할인혜택 역대급 특가 놓치지마세요! 오늘의집 소니XLG시네빔 콜라보혜택\n",
      "https://www.ppomppu.co.kr/zboard/view.php?id=pmarket&&no=286853\n",
      "[위메프] 은나노스텝 1+3 (500+300+300+300)ml 고급다용도 세정제 (7800원/무료)\n",
      "https://www.ppomppu.co.kr/zboard/view.php?id=pmarket&&no=286848\n",
      "집으로 ON 아이라이킷 입점기념 특가\n",
      "https://www.ppomppu.co.kr/zboard/view.php?id=pmarket&&no=286846\n",
      "[롯데홈쇼핑] LG그램 15인치 노트북 브랜드위크 단독 할인 타임특가 찬스!\n",
      "https://www.ppomppu.co.kr/zboard/view.php?id=pmarket&&no=286851\n",
      "오늘의집xLG시네빔 브랜드위크 역대급 할인 쿠폰+카드+사은품 소니콜라보 혜택까지 놓치지마세요!\n",
      "https://www.ppomppu.co.kr/zboard/view.php?id=pmarket&&no=286841\n",
      "[이벤트] 쇼핑포럼 매일 상품 공유 이벤트 2탄, 티몬! (~8/15)\n",
      "https://www.ppomppu.co.kr/zboard/view.php?id=social&no=37708\n",
      "다향오리 1등급 훈제 오리 슬라이스, 600g, 1개 (13,730원)\n",
      "https://www.ppomppu.co.kr/hotdeal/?no=28246957\n",
      "에어프라이어 핫딜 없을까요?\n",
      "https://www.ppomppu.co.kr/zboard/view.php?id=social&no=37787\n",
      "[옥션] 훈제오리 180g 6팩+ 1팩 무료증정 배송비무료\n",
      "https://www.ppomppu.co.kr/zboard/view.php?id=social&no=37786\n",
      "펩시제로슈거 무라벨 라임 300ml 20펫 (12,720 / 무배)\n",
      "https://www.ppomppu.co.kr/zboard/view.php?id=social&no=37785\n"
     ]
    }
   ],
   "source": [
    "from selenium import webdriver\n",
    "from selenium.webdriver.chrome.service import Service as ChromeService\n",
    "from webdriver_manager.chrome import ChromeDriverManager\n",
    "from selenium.webdriver.common.keys import Keys\n",
    "from selenium.webdriver.common.by import By\n",
    "import time\n",
    "\n",
    "driver = webdriver.Chrome(service=ChromeService(ChromeDriverManager().install()))\n",
    "URL= 'https://www.ppomppu.co.kr/zboard/zboard.php?id=ppomppu'\n",
    "driver.get(url=URL)\n",
    "\n",
    "titles = driver.find_elements(By.CSS_SELECTOR, '#revolution_main_table > tbody > tr > td:nth-child(3) > table > tbody > tr > td:nth-child(2) > div > a > font')\n",
    "urls = driver.find_elements(By.CSS_SELECTOR, '#revolution_main_table > tbody > tr > td:nth-child(3) > table > tbody > tr > td:nth-child(2) > div > a')\n",
    "\n",
    "title_lists = []\n",
    "url_lists = []\n",
    "\n",
    "for i in range(len(titles)):\n",
    "    print(titles[i].text)\n",
    "    title_lists.append(titles[i].text)\n",
    "    print(urls[i].get_attribute('href'))\n",
    "    url_lists.append(urls[i].get_attribute('href'))\n",
    "\n",
    "#revolution_main_table\n",
    "#revolution_main_table > tbody > tr:nth-child(9) > td:nth-child(3) > table > tbody > tr > td:nth-child(2) > div > a > font\n",
    "#revolution_main_table > tbody > tr:nth-child(11) > td:nth-child(3) > table > tbody > tr > td:nth-child(2) > div > a > font"
   ]
  },
  {
   "cell_type": "code",
   "execution_count": 78,
   "id": "f2d0525a-4e7f-412c-94d7-ce84af80d37e",
   "metadata": {},
   "outputs": [],
   "source": [
    "driver.quit()"
   ]
  },
  {
   "cell_type": "code",
   "execution_count": null,
   "id": "f3b1b309-1091-4d53-ba5c-e8f67bf7c3e9",
   "metadata": {},
   "outputs": [],
   "source": []
  }
 ],
 "metadata": {
  "kernelspec": {
   "display_name": "Python 3 (ipykernel)",
   "language": "python",
   "name": "python3"
  },
  "language_info": {
   "codemirror_mode": {
    "name": "ipython",
    "version": 3
   },
   "file_extension": ".py",
   "mimetype": "text/x-python",
   "name": "python",
   "nbconvert_exporter": "python",
   "pygments_lexer": "ipython3",
   "version": "3.9.13"
  }
 },
 "nbformat": 4,
 "nbformat_minor": 5
}
